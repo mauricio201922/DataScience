{
  "nbformat": 4,
  "nbformat_minor": 0,
  "metadata": {
    "colab": {
      "name": "AulaFive.ipynb",
      "provenance": [],
      "authorship_tag": "ABX9TyP7xhRS+I7RY88EPFt2UVBM",
      "include_colab_link": true
    },
    "kernelspec": {
      "name": "python3",
      "display_name": "Python 3"
    },
    "language_info": {
      "name": "python"
    }
  },
  "cells": [
    {
      "cell_type": "markdown",
      "metadata": {
        "id": "view-in-github",
        "colab_type": "text"
      },
      "source": [
        "<a href=\"https://colab.research.google.com/github/mauricio201922/DataScience/blob/main/AulaFive.ipynb\" target=\"_parent\"><img src=\"https://colab.research.google.com/assets/colab-badge.svg\" alt=\"Open In Colab\"/></a>"
      ]
    },
    {
      "cell_type": "markdown",
      "metadata": {
        "id": "B8QC5Wk9lgdU"
      },
      "source": [
        "# Estatísticas"
      ]
    },
    {
      "cell_type": "markdown",
      "metadata": {
        "id": "BYlYIFialiLt"
      },
      "source": [
        "### Descrevendo um único conjunto de dados"
      ]
    },
    {
      "cell_type": "markdown",
      "metadata": {
        "id": "Nu24xXrDlm1D"
      },
      "source": [
        "##### Para descrevermos grandes volumes de dados lançamos mão das ferramentas estatísticas visto que analisar os dados brutos se torna impraticável Por ex.: para analisarmos a quantidades de amigos em uma rede social, usamos o histograma"
      ]
    },
    {
      "cell_type": "code",
      "metadata": {
        "id": "h4LZ2YlolpGr"
      },
      "source": [
        "from collections import Counter\n",
        "import matplotlib.pyplot as plt\n",
        "import random\n",
        "import math"
      ],
      "execution_count": 12,
      "outputs": []
    },
    {
      "cell_type": "code",
      "metadata": {
        "id": "tQFbMICSmCv6"
      },
      "source": [
        "num_friends = [100, 49, 41, 40, 25, 1, 1, 1, 1, 1, 2, 2, 2, 2, 3, 3, 3, 4,\n",
        "  4, 4, 5, 5, 6, 6, 7, 7, 7, 8, 8, 10, 11, 11, 12, 12,\n",
        "  15, 15, 15, 18, 20, 20]\n",
        "daily_min = [1, 39, 37, 35, 28, 7, 9, 8, 7, 8, 10, 11, 12, 9, 13, 15, 14,\n",
        "  14, 17, 16, 15, 19, 16, 21, 17, 19, 22, 18, 21, 20, 24, 23, 22, 25,\n",
        "  25, 27, 29, 28, 30, 32]\n"
      ],
      "execution_count": 9,
      "outputs": []
    },
    {
      "cell_type": "code",
      "metadata": {
        "colab": {
          "base_uri": "https://localhost:8080/",
          "height": 295
        },
        "id": "l6U4ktCxmJTy",
        "outputId": "cdf4f292-113c-4061-ec53-8f8e0a884937"
      },
      "source": [
        "# Variavel recebe o contador dos amigos\n",
        "friend_counts = Counter(num_friends)\n",
        "xs = range(101) # largest value is 100\n",
        "ys = [friend_counts[x] for x in xs] # height is just # of friends\n",
        "\n",
        "# Criando um grafico de barra, xs é o valor maximo para o grafico de barra\n",
        "# o ys tem o tamanho dos contadores dos amigos com junçao com xs\n",
        "plt.bar(xs, ys)\n",
        "plt.axis([0, 101, 0, 8]) # cria largura maxima para x e y sendo [0, 101] = x [0, 8] = y\n",
        "plt.title(\"Histograma da contagem de amigos\") # cria titulos\n",
        "plt.xlabel(\"Qtde amigos\") # titulos do eixo x\n",
        "plt.ylabel(\"Qtde de pessoas\") # titulos do eixo y\n",
        "plt.show() # mostra o grafico"
      ],
      "execution_count": 13,
      "outputs": [
        {
          "output_type": "display_data",
          "data": {
            "image/png": "[encoded data removed]",
            "text/plain": [
              "<Figure size 432x288 with 1 Axes>"
            ]
          },
          "metadata": {
            "tags": [],
            "needs_background": "light"
          }
        }
      ]
    },
    {
      "cell_type": "markdown",
      "metadata": {
        "id": "gtRLX0RZpBSM"
      },
      "source": [
        "##### Algumas estatísticas básicas: tamanho da base, maior quantidade de amigos, menor quantidade deamigos, etc.\n"
      ]
    },
    {
      "cell_type": "code",
      "metadata": {
        "colab": {
          "base_uri": "https://localhost:8080/"
        },
        "id": "xxdHCS8OpC70",
        "outputId": "41a58abf-cb38-43ca-b053-7b4d6a6fbe53"
      },
      "source": [
        "print(\"Tamanho da base:\", len(num_friends))\n",
        "print(\"Maior quantidade de amigos\", max(num_friends))\n",
        "print(\"Menor quantidade de amigos\", min(num_friends))"
      ],
      "execution_count": 14,
      "outputs": [
        {
          "output_type": "stream",
          "text": [
            "Tamanho da base: 40\n",
            "Maior quantidade de amigos 100\n",
            "Menor quantidade de amigos 1\n"
          ],
          "name": "stdout"
        }
      ]
    },
    {
      "cell_type": "code",
      "metadata": {
        "colab": {
          "base_uri": "https://localhost:8080/"
        },
        "id": "moLzQhqvpMjC",
        "outputId": "5390b8b5-aad6-4ec1-bdad-e3c97a18d377"
      },
      "source": [
        "sorted_num_friends = sorted(num_friends)\n",
        "print(\"Menor qtde de amigos =\", sorted_num_friends[0])\n",
        "print(\"Decima menor qtde de amigos =\", sorted_num_friends[9])\n",
        "print(\"Segunda maior qtde de amigos =\", sorted_num_friends[-2])"
      ],
      "execution_count": 15,
      "outputs": [
        {
          "output_type": "stream",
          "text": [
            "Menor qtde de amigos = 1\n",
            "Decima menor qtde de amigos = 3\n",
            "Segunda maior qtde de amigos = 49\n"
          ],
          "name": "stdout"
        }
      ]
    },
    {
      "cell_type": "markdown",
      "metadata": {
        "id": "V5OE1iG4ptGA"
      },
      "source": [
        "### Têndencia Central\n",
        "##### Normalmente queremos ter uma noção de onde os nossos dados estão centrados.\n"
      ]
    },
    {
      "cell_type": "markdown",
      "metadata": {
        "id": "-rPvieR4pwUY"
      },
      "source": [
        "### Média\n",
        "##### Comumente usaremos a média que é a soma dos valores de uma base de dados dividido pela sua contagem."
      ]
    },
    {
      "cell_type": "code",
      "metadata": {
        "colab": {
          "base_uri": "https://localhost:8080/"
        },
        "id": "YhkWcL1vp004",
        "outputId": "7615c419-133d-4257-f3cf-bc7e9c39c1a3"
      },
      "source": [
        "def media(x):\n",
        "  return sum(x)/len(x)\n",
        "print(\"A media de amigos =\", media(num_friends))"
      ],
      "execution_count": 16,
      "outputs": [
        {
          "output_type": "stream",
          "text": [
            "A media de amigos = 12.675\n"
          ],
          "name": "stdout"
        }
      ]
    },
    {
      "cell_type": "markdown",
      "metadata": {
        "id": "anQGEXz3p554"
      },
      "source": [
        "### Mediana\n",
        "##### Também podemos usar a mediana, que é o valor mais ao centro da base de dados considerando que ela esteja ordenada. Caso a quantidade de instâncias em uma base seja um número par, a mediana é obtida pela média dos dois valores mais centrais.\n",
        "\n",
        "##### Por exemplo, se temos cinco instâncias de dados em um vetor ordenado x, a mediana é x [5 // 2] ou x [2]. Se tivermos seis pontos de dados então a mediana é obtida pela média de x [2] (o terceiro ponto) e x [3] (o quarto ponto)"
      ]
    },
    {
      "cell_type": "code",
      "metadata": {
        "colab": {
          "base_uri": "https://localhost:8080/"
        },
        "id": "YeI7G6EAqDAB",
        "outputId": "00452194-4775-4b7d-a8ed-cee0a81e8af1"
      },
      "source": [
        "def mediana(v):\n",
        "  n = len(v)\n",
        "  v_ordenado = sorted(v)\n",
        "  i_centro = n // 2\n",
        "  if n % 2 == 1:\n",
        "    return v_ordenado(i_centro)\n",
        "  else:\n",
        "    i_centro_2 = i_centro - 1\n",
        "    return (v_ordenado[i_centro_2] + v_ordenado[i_centro]) / 2\n",
        "\n",
        "print(\"A mediana de amigos =\", mediana(num_friends))\n"
      ],
      "execution_count": 17,
      "outputs": [
        {
          "output_type": "stream",
          "text": [
            "A mediana de amigos = 7.0\n"
          ],
          "name": "stdout"
        }
      ]
    },
    {
      "cell_type": "markdown",
      "metadata": {
        "id": "Qvj75HTCqLkI"
      },
      "source": [
        "##### Claramente, a média é mais simples de calcular e varia conforme nossos dados são alterados. Se tivermos n pontos de dados e um deles aumentar em alguma quantidade pequena, então necessariamente a média aumentará. (Isso torna a média passível de todo tipo de truques de cálculo.)\n",
        "\n",
        "##### A mediana, por outro lado, não sofre com valores discrepantes uma vez que considera o valor mais ao centro e é por isso que, para encontrar a mediana, temos que ordenar nossos dados.\n",
        "\n",
        "##### A média é muito sensível a valores discrepantes em nossos dados. Se nosso usuário mais amigável tivesse 200 amigos (em vez de 100), a média subiria, enquanto a mediana permaneceria a mesma. Se os valores discrepantes forem, provavelmente, dados incorretos (ou, de outra forma, não representativos de qualquer fenômeno que estamos tentando entender), a média poderá, às vezes, nos fornecer uma imagem enganosa. Por exemplo, a história é frequentemente contada que em meados da década de 1980, o curso da Universidade da Carolina do Norte com o maior salário médio inicial era a geografia, principalmente por causa da estrela da NBA (e outlier) Michael Jordan.\n"
      ]
    },
    {
      "cell_type": "markdown",
      "metadata": {
        "id": "AwA_U_VrqZ9n"
      },
      "source": [
        "### Quantil\n",
        "##### Uma generalização da mediana é o quantil, que representa o valor menor que um certo percentil dos dados. (A mediana representa o valor menor que 50% dos dados.)\n"
      ]
    },
    {
      "cell_type": "markdown",
      "metadata": {
        "id": "wMNdx4oqqdb3"
      },
      "source": [
        "### Percentil\n",
        "##### Podemos conceituar percentil como sendo a medida que divide a amostra em 100 partes iguais.\n"
      ]
    },
    {
      "cell_type": "markdown",
      "metadata": {
        "id": "25bui5QOqh4-"
      },
      "source": [
        "##### Exemplo: \n",
        "#####P10 indica que 10% dos dados estão ordenados à sua esquerda e 90% à direita de P10.\n",
        "#####P20 indica que 20% dos dados estão ordenados à sua esquerda e 80% à sua direita.\n"
      ]
    },
    {
      "cell_type": "code",
      "metadata": {
        "id": "MmNj_1MXql0u"
      },
      "source": [
        "def quantile(x, p):\n",
        "  \"\"\"returns the pth-percentile value in x\"\"\"\n",
        "  p_index = int(p * len(x))\n",
        "  return sorted(x)[p_index]\n",
        "#sorted(num_friends)\n"
      ],
      "execution_count": 18,
      "outputs": []
    },
    {
      "cell_type": "code",
      "metadata": {
        "colab": {
          "base_uri": "https://localhost:8080/"
        },
        "id": "RKj0yUO7qrAu",
        "outputId": "d5149a60-645b-4597-9e4a-fa30d537d285"
      },
      "source": [
        "print(quantile(num_friends, 0.10)) # 1\n",
        "print(quantile(num_friends, 0.25)) # 3\n",
        "print(quantile(num_friends, 0.75)) # 15\n",
        "print(quantile(num_friends, 0.90)) # 40"
      ],
      "execution_count": 19,
      "outputs": [
        {
          "output_type": "stream",
          "text": [
            "1\n",
            "3\n",
            "15\n",
            "40\n"
          ],
          "name": "stdout"
        }
      ]
    },
    {
      "cell_type": "markdown",
      "metadata": {
        "id": "B2J45ptBqufl"
      },
      "source": [
        "### Moda\n",
        "##### É o valor mais comum, aquele que mais se repete em uma base de dados.\n"
      ]
    },
    {
      "cell_type": "code",
      "metadata": {
        "colab": {
          "base_uri": "https://localhost:8080/"
        },
        "id": "PrvTBrcKqynu",
        "outputId": "da44877c-367e-4d15-a659-2c374b448412"
      },
      "source": [
        "def mode(x):\n",
        "  \"\"\"returns a list, might be more than one mode\"\"\"\n",
        "  counts = Counter(x)\n",
        "  max_count = max(counts.values())\n",
        "  return [x_i for x_i, count in counts.items()\n",
        "    if count == max_count]\n",
        "\n",
        "print(mode(num_friends)) # 1\n"
      ],
      "execution_count": 20,
      "outputs": [
        {
          "output_type": "stream",
          "text": [
            "[1]\n"
          ],
          "name": "stdout"
        }
      ]
    },
    {
      "cell_type": "markdown",
      "metadata": {
        "id": "9_MTIu7kq4i1"
      },
      "source": [
        "# Dispersão\n",
        "\n",
        "##### Dispersão refere-se a medidas de quão espalhados estão os nossos dados. Normalmente, são estatísticas para as quais valores próximos de zero significam pouco espalhados e para os quais grandes valores\n",
        "significam muito espalhados. "
      ]
    },
    {
      "cell_type": "markdown",
      "metadata": {
        "id": "_9DXI_81q8S1"
      },
      "source": [
        "### Intervalo\n",
        "\n",
        "##### Por exemplo, uma medida muito simples é o intervalo, que é apenas a diferença entre os elementos maiores e menores:\n"
      ]
    },
    {
      "cell_type": "code",
      "metadata": {
        "colab": {
          "base_uri": "https://localhost:8080/"
        },
        "id": "tKIwI-p1rBek",
        "outputId": "ca6e669e-328b-47b6-a64a-0f3aef2062d5"
      },
      "source": [
        "def data_range(x):\n",
        "  return max(x) - min(x)\n",
        "data_range(num_friends) # 99"
      ],
      "execution_count": 21,
      "outputs": [
        {
          "output_type": "execute_result",
          "data": {
            "text/plain": [
              "99"
            ]
          },
          "metadata": {
            "tags": []
          },
          "execution_count": 21
        }
      ]
    },
    {
      "cell_type": "markdown",
      "metadata": {
        "id": "--DWpLtorE98"
      },
      "source": [
        "##### O intervalo é precisamente zero quando max e min são iguais, o que só pode acontecer se os elementos de x forem todos iguais, o que significa que os dados são tão agrupados (não dispersos) quanto possível. Por outro lado, se o intervalo for grande, o máximo será muito maior que o mínimo e os dados serão mais dispersos.\n",
        "\n",
        "##### Assim como a mediana, o intervalo não depende realmente de todo o conjunto de dados. Um conjunto de dados cujos pontos são todos 0 ou 100 tem o mesmo intervalo que um conjunto de dados cujos valores são 0, 100 e muitos 50s. Mas parece que o primeiro conjunto de dados “deveria” estar mais espalhado.\n"
      ]
    },
    {
      "cell_type": "markdown",
      "metadata": {
        "id": "JnPA8hI7rOoU"
      },
      "source": [
        "### Variância\n",
        "\n",
        "##### Uma medida mais complexa de dispersão é a variância, que é calculada como:"
      ]
    },
    {
      "cell_type": "code",
      "metadata": {
        "id": "wTqaw5YbrRpW"
      },
      "source": [
        "def de_mean(x):\n",
        "  x_bar = media(x)\n",
        "  return [x_i - x_bar for x_i in x]\n",
        "def sum_of_squares(x):\n",
        "  return sum([x_i * x_i for x_i in x])\n",
        "def variance(x):\n",
        "  n = len(x)\n",
        "  deviations = de_mean(x)\n",
        "  return sum_of_squares(deviations) / (n - 1)"
      ],
      "execution_count": 22,
      "outputs": []
    },
    {
      "cell_type": "code",
      "metadata": {
        "colab": {
          "base_uri": "https://localhost:8080/"
        },
        "id": "YF0INdVxrWfU",
        "outputId": "e9df89fe-dffb-4a46-a5aa-b2e6cf57223e"
      },
      "source": [
        "print(\"Variância No amigos =\", variance(num_friends))\n",
        "print(\"Variância Tempo Online =\", variance(daily_min))"
      ],
      "execution_count": 23,
      "outputs": [
        {
          "output_type": "stream",
          "text": [
            "Variância No amigos = 328.2762820512823\n",
            "Variância Tempo Online = 80.22499999999998\n"
          ],
          "name": "stdout"
        }
      ]
    },
    {
      "cell_type": "markdown",
      "metadata": {
        "id": "ONKQlDzHrZxM"
      },
      "source": [
        "##### Parece que é quase o desvio médio da média, exceto pelo fato de estarmos dividindo por n-1 em vez de n. De fato, quando estamos lidando com uma amostra de uma população maior, x_bar é apenas uma estimativa da média real e é por isso que dividimos por n-1 em vez de n.\n"
      ]
    },
    {
      "cell_type": "markdown",
      "metadata": {
        "id": "BXWZ71fLrb6z"
      },
      "source": [
        "### Desvio Padrão\n",
        "\n",
        "##### Quaisquer que sejam as unidades em que nossos dados estão, todas as nossas medidas de tendência central como a média, a mediana, etc. estão nessa mesma unidade. O intervalo também está nessa mesma unidade mas a variância tem unidades que são o quadrado das unidades originais (por ex.: \"amigos ao quadrado\"). Por isso gostamos de olhar para o desvio padrão:\n"
      ]
    },
    {
      "cell_type": "code",
      "metadata": {
        "colab": {
          "base_uri": "https://localhost:8080/"
        },
        "id": "5k7qJ57_riuU",
        "outputId": "31a98b5f-a005-45dd-ce67-fc1de3c3acf8"
      },
      "source": [
        "def desvio_padrao(x):\n",
        "  return math.sqrt(variance(x))\n",
        "print(desvio_padrao(num_friends))\n"
      ],
      "execution_count": 24,
      "outputs": [
        {
          "output_type": "stream",
          "text": [
            "18.118396232870126\n"
          ],
          "name": "stdout"
        }
      ]
    },
    {
      "cell_type": "markdown",
      "metadata": {
        "id": "9Y11-XdVrmnc"
      },
      "source": [
        "### Atividade:\n",
        "\n",
        "##### Dada a matriz a seguir que representa as médias bimestrais de 4 alunos, calcule a variância e o desvio padrão, considerando todas as notas.\n"
      ]
    },
    {
      "cell_type": "code",
      "metadata": {
        "id": "SIrzPPsgrqnb"
      },
      "source": [
        "import numpy as np\n"
      ],
      "execution_count": 25,
      "outputs": []
    },
    {
      "cell_type": "code",
      "metadata": {
        "colab": {
          "base_uri": "https://localhost:8080/"
        },
        "id": "0kno8BbXrsnE",
        "outputId": "55b8e4cd-8780-4bcd-c47a-a486f4562924"
      },
      "source": [
        "notas = [[5, 8, 10, 7],\n",
        "         [8, 6, 6, 10],\n",
        "         [10, 9, 5, 10],\n",
        "         [8, 10, 9, 4]]\n",
        "\n",
        "print(\"Notas flatted = \", np.array(notas).flatten())\n",
        "print(\"Variância = \", variance(np.array(notas).flatten()))\n",
        "print(\"Desvio padrão = \",desvio_padrao(np.array(notas).flatten()))\n"
      ],
      "execution_count": 26,
      "outputs": [
        {
          "output_type": "stream",
          "text": [
            "Notas flatted =  [ 5  8 10  7  8  6  6 10 10  9  5 10  8 10  9  4]\n",
            "Variância =  4.295833333333333\n",
            "Desvio padrão =  2.0726392192886185\n"
          ],
          "name": "stdout"
        }
      ]
    },
    {
      "cell_type": "markdown",
      "metadata": {
        "id": "-Ui48BPMrz2s"
      },
      "source": [
        "# Correlação\n",
        "\n",
        "##### A correlação mede o relacionamento entre duas variáveis ou métricas a fim de se obter alguma informação sobre os dados. Por exemplo, qual a relação entre o tempo despendido acessando um determinada rede social e o número de amigos?"
      ]
    },
    {
      "cell_type": "markdown",
      "metadata": {
        "id": "owN-lpNSsJkC"
      },
      "source": [
        "### Covariância\n",
        "\n",
        "##### Primeiro analisaremos a covariância, o análogo pareado da variância. Enquanto a variância mede como uma única variável se desvia de sua média, a covariância mede como duas variáveis variam em conjunto a partir de suas médias\n"
      ]
    },
    {
      "cell_type": "code",
      "metadata": {
        "colab": {
          "base_uri": "https://localhost:8080/"
        },
        "id": "a3j65B1xsNx6",
        "outputId": "e84850e5-73df-47d5-f74d-786091849135"
      },
      "source": [
        "def dot(v, w):\n",
        "  return sum(v_i * w_i\n",
        "    for v_i, w_i in zip(v, w))\n",
        "\n",
        "def covariance(x, y):\n",
        "  n = len(x)\n",
        "  return dot(de_mean(x), de_mean(y)) / (n - 1)\n",
        "\n",
        "covariance(num_friends, daily_min)"
      ],
      "execution_count": 27,
      "outputs": [
        {
          "output_type": "execute_result",
          "data": {
            "text/plain": [
              "44.7173076923077"
            ]
          },
          "metadata": {
            "tags": []
          },
          "execution_count": 27
        }
      ]
    },
    {
      "cell_type": "markdown",
      "metadata": {
        "id": "QR5d5psCsWVK"
      },
      "source": [
        "#####Lembre-se de que a função \"dot\" soma os produtos dos pares correspondentes de elementos. Quando os elementos correspondentes de x e y estão ambos acima de suas médias ou ambos abaixo de suas médias, um úmero positivo entra na soma. Quando um está acima de sua média e o outro  baixo, um número negativo entra na soma. Assim:\n",
        "\n",
        "##### Uma covariância positiva “grande” significa que x tende a ser grande quando y é grande e pequeno quando y é pequeno\n",
        "\n",
        "##### Uma covariância negativa “grande” significa o oposto - que x tende a ser pequeno quando y é grande e\n",
        "vice-versa\n",
        "\n",
        "##### Uma covariância próxima de zero significa que não existe tal relação\n"
      ]
    },
    {
      "cell_type": "markdown",
      "metadata": {
        "id": "df-cHrAmsonR"
      },
      "source": [
        "### Correlação\n",
        "\n",
        "##### No entanto, este número pode ser difícil de interpretar, por isso é mais comum olharmos para a correlação que divide a covariância de duas variáveis pelos desvios padrão de ambas as variáveis\n"
      ]
    },
    {
      "cell_type": "code",
      "metadata": {
        "colab": {
          "base_uri": "https://localhost:8080/"
        },
        "id": "lL7SJ9wUstBW",
        "outputId": "605c494a-3d9f-4be7-ba75-4233911abefe"
      },
      "source": [
        "def correlation(x, y):\n",
        "  stdev_x = desvio_padrao(x)\n",
        "  stdev_y = desvio_padrao(y)\n",
        "  if stdev_x > 0 and stdev_y > 0:\n",
        "    return covariance(x, y) / stdev_x / stdev_y\n",
        "  else:\n",
        "    return 0 # if no variation, correlation is zero\n",
        "\n",
        "correlation(num_friends, daily_min)\n"
      ],
      "execution_count": 28,
      "outputs": [
        {
          "output_type": "execute_result",
          "data": {
            "text/plain": [
              "0.2755503912677958"
            ]
          },
          "metadata": {
            "tags": []
          },
          "execution_count": 28
        }
      ]
    },
    {
      "cell_type": "markdown",
      "metadata": {
        "id": "d23z9klxs035"
      },
      "source": [
        "##### A correlação não possui unidade e está sempre entre -1 (anti-correlação perfeita) e 1 (correlação perfeita). Um número como 0,27 representa uma correlação positiva relativamente fraca. No entanto, uma coisa que negligenciamos foi examinar nossos dados, abaixo um gráfico de espalhamento da relação entre quantidade de amigos e minutos por dia com um \"outlier\".\n"
      ]
    },
    {
      "cell_type": "code",
      "metadata": {
        "colab": {
          "base_uri": "https://localhost:8080/",
          "height": 295
        },
        "id": "a6UC2_YKs3X5",
        "outputId": "ec3a1323-c753-457d-f9a8-1fc4fde0cc36"
      },
      "source": [
        "plt.scatter(num_friends, daily_min)\n",
        "plt.title(\"Minutos por dia X numero de amigos\")\n",
        "plt.xlabel(\"Qtde de amigos\")\n",
        "plt.ylabel(\"Minutos por dia no site\")\n",
        "plt.show()"
      ],
      "execution_count": 29,
      "outputs": [
        {
          "output_type": "display_data",
          "data": {
            "image/png": "[encoded data removed]",
            "text/plain": [
              "<Figure size 432x288 with 1 Axes>"
            ]
          },
          "metadata": {
            "tags": [],
            "needs_background": "light"
          }
        }
      ]
    },
    {
      "cell_type": "markdown",
      "metadata": {
        "id": "NuN64JOgs67R"
      },
      "source": [
        "##### A seguir, o mesmo gráfico anterior sem o outlier:"
      ]
    },
    {
      "cell_type": "code",
      "metadata": {
        "colab": {
          "base_uri": "https://localhost:8080/",
          "height": 295
        },
        "id": "KAYvJgX1s8ux",
        "outputId": "b286b82f-91db-465c-8873-644f5e2abba6"
      },
      "source": [
        "plt.scatter(num_friends[1:], daily_min[1:])\n",
        "plt.title(\"Minutos por dia X numero de amigos\")\n",
        "plt.xlabel(\"Qtde de amigos\")\n",
        "plt.ylabel(\"Minutos por dia no site\")\n",
        "plt.show()"
      ],
      "execution_count": 30,
      "outputs": [
        {
          "output_type": "display_data",
          "data": {
            "image/png": "[encoded data removed]",
            "text/plain": [
              "<Figure size 432x288 with 1 Axes>"
            ]
          },
          "metadata": {
            "tags": [],
            "needs_background": "light"
          }
        }
      ]
    },
    {
      "cell_type": "code",
      "metadata": {
        "colab": {
          "base_uri": "https://localhost:8080/"
        },
        "id": "hUSOVdGYtAsg",
        "outputId": "38e4cd9a-76b5-4bc6-9fd8-9720bb461f82"
      },
      "source": [
        "print(\"Correlação com outlier: \",correlation(num_friends, daily_min), \" -> Baixa correlação\")\n",
        "print(\"Correlação sem outlier: \",correlation(num_friends[1:], daily_min[1:]), \" -> Alta correlação\")"
      ],
      "execution_count": 32,
      "outputs": [
        {
          "output_type": "stream",
          "text": [
            "Correlação com outlier:  0.2755503912677958  -> Baixa correlação\n",
            "Correlação sem outlier:  0.9014335836717391  -> Alta correlação\n"
          ],
          "name": "stdout"
        }
      ]
    },
    {
      "cell_type": "markdown",
      "metadata": {
        "id": "uKNJ4hw7tJmQ"
      },
      "source": [
        "# O Paradoxo de Simpson (https://youtu.be/sxYrzzy3cq8)\n",
        "\n",
        "##### Uma surpresa não incomum ao analisar os dados é o Paradoxo de Simpson, no qual as correlações podem ser enganosas quando variáveis ocultas e confusas são ignoradas.\n"
      ]
    }
  ]
}