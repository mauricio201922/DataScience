{
  "nbformat": 4,
  "nbformat_minor": 0,
  "metadata": {
    "colab": {
      "name": "AulaSeven.ipynb",
      "provenance": [],
      "authorship_tag": "ABX9TyPtKCM1eepAbvri77a2xzbe",
      "include_colab_link": true
    },
    "kernelspec": {
      "name": "python3",
      "display_name": "Python 3"
    },
    "language_info": {
      "name": "python"
    }
  },
  "cells": [
    {
      "cell_type": "markdown",
      "metadata": {
        "id": "view-in-github",
        "colab_type": "text"
      },
      "source": [
        "<a href=\"https://colab.research.google.com/github/mauricio201922/DataScience/blob/main/AulaSeven.ipynb\" target=\"_parent\"><img src=\"https://colab.research.google.com/assets/colab-badge.svg\" alt=\"Open In Colab\"/></a>"
      ]
    },
    {
      "cell_type": "markdown",
      "metadata": {
        "id": "9q9gTkiHxJuI"
      },
      "source": [
        "# Probabilidade"
      ]
    },
    {
      "cell_type": "markdown",
      "metadata": {
        "id": "6TOBfjgg5n6J"
      },
      "source": [
        "### cara coroa\n"
      ]
    },
    {
      "cell_type": "code",
      "metadata": {
        "colab": {
          "base_uri": "https://localhost:8080/"
        },
        "id": "9pecJTbY5stg",
        "outputId": "00aeb45a-1fdb-4387-cb8c-597be89c1bc3"
      },
      "source": [
        "import random\n",
        "import matplotlib.pyplot as plt\n",
        "import math\n",
        "\n",
        "def random_coin():\n",
        "  return random.choice([\"cara\",\"coroa\"])\n",
        "\n",
        "ambas_cara = 0\n",
        "primeira_cara = 0\n",
        "\n",
        "random.seed(0)\n",
        "for _ in range(10000):\n",
        "  primeira = random_coin()\n",
        "  segunda = random_coin()\n",
        "  if primeira == \"cara\":\n",
        "    primeira_cara += 1\n",
        "  if primeira == \"cara\" and segunda == \"cara\":\n",
        "    ambas_cara += 1\n",
        "\n",
        "print(\"P(ambas cara | primeira cara):\", round(ambas_cara / primeira_cara, 1))"
      ],
      "execution_count": 13,
      "outputs": [
        {
          "output_type": "stream",
          "text": [
            "P(ambas cara | primeira cara): 0.5\n"
          ],
          "name": "stdout"
        }
      ]
    },
    {
      "cell_type": "markdown",
      "metadata": {
        "id": "aZ93avjz5--w"
      },
      "source": [
        "### Dados"
      ]
    },
    {
      "cell_type": "code",
      "metadata": {
        "colab": {
          "base_uri": "https://localhost:8080/"
        },
        "id": "aO2ADPU1x-t4",
        "outputId": "59838067-45d4-4c87-8029-fa5c38a4d295"
      },
      "source": [
        "def randomcoin():\n",
        "  return random.choice([1, 2, 3, 4, 5, 6])\n",
        "a = 5\n",
        "b = 9\n",
        "c = 2\n",
        "total = 36\n",
        "for _ in range(10000):\n",
        "  primeira=random_coin()\n",
        "  segunda=random_coin()\n",
        "\n",
        "soma = primeira + segunda\n",
        "\n",
        "resultado1 = a/total\n",
        "print(resultado1)\n",
        "\n",
        "resultado2 = b/total\n",
        "print(resultado2)\n",
        "\n",
        "resultado3 = c/total\n",
        "print(resultado3)\n",
        "\n",
        "p_condicional= c/b\n",
        "print(p_condicional)"
      ],
      "execution_count": 7,
      "outputs": [
        {
          "output_type": "stream",
          "text": [
            "0.1388888888888889\n",
            "0.25\n",
            "0.05555555555555555\n",
            "0.2222222222222222\n"
          ],
          "name": "stdout"
        }
      ]
    },
    {
      "cell_type": "markdown",
      "metadata": {
        "id": "PZSSRNJG6CAx"
      },
      "source": [
        "### Filhos"
      ]
    },
    {
      "cell_type": "code",
      "metadata": {
        "colab": {
          "base_uri": "https://localhost:8080/"
        },
        "id": "XeMSe1Ry0Gco",
        "outputId": "368cc310-e259-4f52-c7e2-0152a009d946"
      },
      "source": [
        "\n",
        "a = 1/4\n",
        "b = 3/4\n",
        "c = 1\n",
        "total = 4\n",
        "\n",
        "resultado = (c*a)/b\n",
        "print(resultado)"
      ],
      "execution_count": 16,
      "outputs": [
        {
          "output_type": "stream",
          "text": [
            "0.3333333333333333\n"
          ],
          "name": "stdout"
        }
      ]
    }
  ]
}