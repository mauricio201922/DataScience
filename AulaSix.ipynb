{
  "nbformat": 4,
  "nbformat_minor": 0,
  "metadata": {
    "colab": {
      "name": "AulaSix.ipynb",
      "provenance": [],
      "toc_visible": true,
      "mount_file_id": "https://github.com/mauricio201922/DataScience/blob/main/AulaSix.ipynb",
      "authorship_tag": "ABX9TyOdjmZwByaYgGQdqBds0Ydy",
      "include_colab_link": true
    },
    "kernelspec": {
      "name": "python3",
      "display_name": "Python 3"
    },
    "language_info": {
      "name": "python"
    }
  },
  "cells": [
    {
      "cell_type": "markdown",
      "metadata": {
        "id": "view-in-github",
        "colab_type": "text"
      },
      "source": [
        "<a href=\"https://colab.research.google.com/github/mauricio201922/DataScience/blob/main/AulaSix.ipynb\" target=\"_parent\"><img src=\"https://colab.research.google.com/assets/colab-badge.svg\" alt=\"Open In Colab\"/></a>"
      ]
    },
    {
      "cell_type": "code",
      "metadata": {
        "colab": {
          "base_uri": "https://localhost:8080/"
        },
        "id": "4cbyWxaq1A7C",
        "outputId": "52e645cd-d349-4a10-f1c1-4ed89ebbe247"
      },
      "source": [
        "!pip install numpy\n",
        "!apt-get -qq install stats_lib"
      ],
      "execution_count": 1,
      "outputs": [
        {
          "output_type": "stream",
          "text": [
            "Requirement already satisfied: numpy in /usr/local/lib/python3.7/dist-packages (1.19.5)\n",
            "E: Unable to locate package stats_lib\n"
          ],
          "name": "stdout"
        }
      ]
    },
    {
      "cell_type": "markdown",
      "metadata": {
        "id": "34IeCb9Yf9Gi"
      },
      "source": [
        "# 1. Escreva dois módulos Python, um para conter os cálculos que aprendemos na aula de estatística e outro para os cálculos da aula de álgebra linear"
      ]
    },
    {
      "cell_type": "code",
      "metadata": {
        "id": "p5P5KWSY68mr"
      },
      "source": [
        "from collections import Counter\n",
        "from functools import reduce\n",
        "import numpy as np\n",
        "import math\n",
        "import random\n",
        "import matplotlib.pyplot as plt\n"
      ],
      "execution_count": 2,
      "outputs": []
    },
    {
      "cell_type": "code",
      "metadata": {
        "id": "V90ZDE-b9rTG"
      },
      "source": [
        "data = np.genfromtxt('/content/drive/MyDrive/Ciência da Computação/4° Ano/1° Semestre/1° bimestre/DataScience/Exercicio2/seeds_dataset.txt', delimiter='', usecols=(0,1,2,3,4,5,6))"
      ],
      "execution_count": 3,
      "outputs": []
    },
    {
      "cell_type": "code",
      "metadata": {
        "colab": {
          "base_uri": "https://localhost:8080/"
        },
        "id": "lrlOdBYlA_sM",
        "outputId": "a8eab9e0-e319-47e1-80f6-52c005e2a6ed"
      },
      "source": [
        "data[:,6]"
      ],
      "execution_count": null,
      "outputs": [
        {
          "output_type": "execute_result",
          "data": {
            "text/plain": [
              "array([5.22 , 4.956, 4.825, 4.805, 5.175, 4.956, 5.219, 5.   , 5.877,\n",
              "       5.533, 5.314, 5.001, 4.738, 4.872, 4.825, 4.781, 4.781, 5.046,\n",
              "       4.649, 4.914, 5.176, 5.219, 5.091, 4.961, 5.001, 5.307, 4.825,\n",
              "       4.869, 5.038, 5.097, 5.056, 5.228, 5.299, 5.012, 5.36 , 5.443,\n",
              "       5.527, 5.484, 5.309, 5.001, 5.178, 5.176, 4.783, 5.528, 5.18 ,\n",
              "       4.961, 5.132, 5.175, 5.111, 5.351, 5.144, 5.136, 5.396, 5.224,\n",
              "       5.487, 5.439, 5.044, 5.088, 5.222, 4.519, 4.607, 4.703, 4.605,\n",
              "       5.088, 4.782, 4.607, 5.15 , 5.132, 5.3  , 5.067, 6.06 , 5.877,\n",
              "       5.791, 6.079, 5.841, 5.795, 5.922, 6.451, 6.362, 5.746, 5.88 ,\n",
              "       5.879, 6.187, 6.273, 6.185, 6.197, 6.109, 6.498, 6.231, 6.321,\n",
              "       6.449, 6.053, 6.053, 5.877, 6.448, 5.967, 6.238, 6.453, 6.273,\n",
              "       6.097, 5.618, 5.837, 6.009, 6.229, 6.148, 5.879, 6.2  , 5.929,\n",
              "       6.55 , 5.894, 5.794, 5.965, 5.924, 6.053, 6.316, 6.163, 5.75 ,\n",
              "       6.185, 5.966, 6.32 , 6.188, 6.011, 5.703, 5.905, 5.144, 5.992,\n",
              "       6.102, 5.919, 6.185, 5.661, 5.962, 5.949, 5.795, 5.795, 5.847,\n",
              "       5.439, 5.971, 5.879, 5.752, 5.922, 5.395, 5.44 , 5.307, 5.221,\n",
              "       5.178, 5.275, 5.132, 5.002, 5.316, 5.194, 5.307, 5.27 , 5.36 ,\n",
              "       5.001, 5.263, 5.219, 5.003, 5.22 , 5.31 , 5.31 , 5.491, 5.308,\n",
              "       5.046, 5.176, 5.049, 5.056, 5.27 , 5.338, 5.132, 5.088, 5.163,\n",
              "       4.956, 5.   , 5.089, 5.185, 5.063, 5.092, 4.963, 5.002, 5.178,\n",
              "       4.825, 5.147, 5.158, 5.135, 5.316, 5.182, 5.352, 4.956, 4.957,\n",
              "       4.794, 5.045, 5.001, 5.132, 5.089, 5.012, 4.914, 4.958, 5.091,\n",
              "       5.231, 4.83 , 5.045, 4.745, 4.828, 5.   , 5.001, 4.87 , 5.003,\n",
              "       5.056, 5.044, 5.063])"
            ]
          },
          "metadata": {
            "tags": []
          },
          "execution_count": 40
        }
      ]
    },
    {
      "cell_type": "markdown",
      "metadata": {
        "id": "NhSirC8XglUt"
      },
      "source": [
        "# 2. Imprima a moda e a mediana do comprimento e da largura de todas as instâncias.\n"
      ]
    },
    {
      "cell_type": "code",
      "metadata": {
        "colab": {
          "base_uri": "https://localhost:8080/"
        },
        "id": "oPNzRRfeBwsQ",
        "outputId": "99b0ab50-f6e1-48ce-d299-8168c6797256"
      },
      "source": [
        "def medianLength(v):\n",
        "  n = len(v)\n",
        "  v_ordenado = sorted(v)\n",
        "  i_centro = n // 2\n",
        "  if n % 2 == 1:\n",
        "    return v_ordenado(i_centro)\n",
        "  else:\n",
        "    i_centro2 = i_centro - 1\n",
        "    return (v_ordenado[i_centro2] + v_ordenado[i_centro]) / 2\n",
        "\n",
        "def medianWidth(v):\n",
        "  n = len(v)\n",
        "  v_ordenado = sorted(v)\n",
        "  i_centro = n // 2\n",
        "  if n % 2 == 1:\n",
        "    return v_ordenado(i_centro)\n",
        "  else:\n",
        "    i_centro2 = i_centro - 1\n",
        "    return (v_ordenado[i_centro2] + v_ordenado[i_centro]) / 2\n",
        "\n",
        "def modaLength(v):\n",
        "  counts = Counter(v)\n",
        "  max_count = max(counts.values())\n",
        "  return [v_i for v_i, count in counts.items()\n",
        "    if count == max_count]\n",
        "\n",
        "def modaWidth(v):\n",
        "  counts = Counter(v)\n",
        "  max_count = max(counts.values())\n",
        "  return [v_i for v_i, count in counts.items()\n",
        "    if count == max_count]\n",
        "\n",
        "\n",
        "print(medianLength(data[:,3]))\n",
        "print(medianWidth(data[:,4]))\n",
        "\n",
        "print(modaLength(data[:,3]))\n",
        "print(modaWidth(data[:,4]))"
      ],
      "execution_count": null,
      "outputs": [
        {
          "output_type": "stream",
          "text": [
            "5.5235\n",
            "3.237\n",
            "[5.395, 5.236]\n",
            "[3.026]\n"
          ],
          "name": "stdout"
        }
      ]
    },
    {
      "cell_type": "markdown",
      "metadata": {
        "id": "lOKjp89voQ8L"
      },
      "source": [
        "# 3. Imprima o desvio padrão dos comprimentos de todos os grãos e explique o resultado.\n"
      ]
    },
    {
      "cell_type": "code",
      "metadata": {
        "id": "ExlEGIlbohOh",
        "colab": {
          "base_uri": "https://localhost:8080/"
        },
        "outputId": "5aef7a02-eb25-43d0-af93-4f29e1fcef67"
      },
      "source": [
        "def media(x):\n",
        "  return sum(x)/len(x)\n",
        "\n",
        "def de_mean(x):\n",
        "  x_bar = media(x)\n",
        "  return [x_i - x_bar for x_i in x]\n",
        "\n",
        "def sum_of_squares(x):\n",
        "  return sum([x_i * x_i for x_i in x])\n",
        "\n",
        "def variance(x):\n",
        "  n = len(x)\n",
        "  deviations = de_mean(x)\n",
        "  return sum_of_squares(deviations) / (n - 1)\n",
        "\n",
        "def desvio_padrao(x):\n",
        "  return math.sqrt(variance(x))\n",
        "\n",
        "print(desvio_padrao(data[:,3]))"
      ],
      "execution_count": null,
      "outputs": [
        {
          "output_type": "stream",
          "text": [
            "0.4430634777264492\n"
          ],
          "name": "stdout"
        }
      ]
    },
    {
      "cell_type": "markdown",
      "metadata": {
        "id": "icBnvI6ZpfwI"
      },
      "source": [
        "### Explicando\n",
        "##### Quaisquer que sejam as unidades, todas as nossas medidas de tendência central como a média, a mediana, etc. estão nessa mesma unidade. O intervalo também está nessa mesma unidade mas a variância tem unidades que são o quadrado das unidades originais, por ex.: \"funcionários ao quadrado\". Só q aqui, estamos fazendo o desvio padrão dos comprimentos do grão."
      ]
    },
    {
      "cell_type": "markdown",
      "metadata": {
        "id": "aRPx_PsAqOmb"
      },
      "source": [
        "# 4. Imprima o desvio padrão das larguras de todos os grãos e explique o resultado."
      ]
    },
    {
      "cell_type": "code",
      "metadata": {
        "id": "lvS59JROqlcM",
        "colab": {
          "base_uri": "https://localhost:8080/"
        },
        "outputId": "7635f10f-c8e7-4089-cb09-bc37bc6d517c"
      },
      "source": [
        "def media(x):\n",
        "  return sum(x)/len(x)\n",
        "\n",
        "def de_mean(x):\n",
        "  x_bar = media(x)\n",
        "  return [x_i - x_bar for x_i in x]\n",
        "\n",
        "def sum_of_squares(x):\n",
        "  return sum([x_i * x_i for x_i in x])\n",
        "\n",
        "def variance(x):\n",
        "  n = len(x)\n",
        "  deviations = de_mean(x)\n",
        "  return sum_of_squares(deviations) / (n - 1)\n",
        "\n",
        "def desvio_padrao(x):\n",
        "  return math.sqrt(variance(x))\n",
        "\n",
        "print(desvio_padrao(data[:,4]))"
      ],
      "execution_count": 13,
      "outputs": [
        {
          "output_type": "stream",
          "text": [
            "0.37771444490658723\n"
          ],
          "name": "stdout"
        }
      ]
    },
    {
      "cell_type": "markdown",
      "metadata": {
        "id": "WU9S0D8mqs6C"
      },
      "source": [
        "### Explicando\n",
        "##### Quaisquer que sejam as unidades, todas as nossas medidas de tendência central como a média, a mediana, etc. estão nessa mesma unidade. O intervalo também está nessa mesma unidade mas a variância tem unidades que são o quadrado das unidades originais, por ex.: \"funcionários ao quadrado\". Só q aqui, estamos fazendo o desvio padrão das larguras do grão."
      ]
    },
    {
      "cell_type": "markdown",
      "metadata": {
        "id": "DBFeWhhsrTZR"
      },
      "source": [
        "#5. Imprima as correlações entre o comprimento e a largura de cada espécie e explique cada resultado."
      ]
    },
    {
      "cell_type": "code",
      "metadata": {
        "id": "2FspnRVSrWMx",
        "colab": {
          "base_uri": "https://localhost:8080/"
        },
        "outputId": "8d42f8d9-df04-494e-ccb2-2bcd2e2ac40b"
      },
      "source": [
        "# covariance\n",
        "def dot(v, w):\n",
        "  return sum(v_i * w_i\n",
        "    for v_i, w_i in zip(v, w))\n",
        "\n",
        "def covariance(x, y):\n",
        "  n = len(x)\n",
        "  return dot(de_mean(x), de_mean(y)) / (n - 1)\n",
        "\n",
        "# Correlação\n",
        "def correlation(x, y):\n",
        "  stdev_x = desvio_padrao(x)\n",
        "  stdev_y = desvio_padrao(y)\n",
        "  if stdev_x > 0 and stdev_y > 0:\n",
        "    return covariance(x, y) / stdev_x / stdev_y\n",
        "  else:\n",
        "    return 0 # if no variation, correlation is zero\n",
        "\n",
        "correlation(data[:,3], data[:,4])\n"
      ],
      "execution_count": 130,
      "outputs": [
        {
          "output_type": "execute_result",
          "data": {
            "text/plain": [
              "0.8604149377143474"
            ]
          },
          "metadata": {
            "tags": []
          },
          "execution_count": 130
        }
      ]
    },
    {
      "cell_type": "markdown",
      "metadata": {
        "id": "cPrEBPeEsPcA"
      },
      "source": [
        "### Explicando\n",
        "##### A correlação não possui unidade e está sempre entre -1 (anti-correlação perfeita) e 1 (correlação perfeita). Um número como 0,27 representa uma correlação positiva relativamente fraca. Aqui foi entre o comprimento e a largura do grão.\n"
      ]
    },
    {
      "cell_type": "markdown",
      "metadata": {
        "id": "UKa_H2Gis3nF"
      },
      "source": [
        "#6. Gere um gráfico de barras que mostre o comprimento médio e a largura média de cada espécie, com as médias gerais expressas em linhas horizontais, como no exemplo abaixo:"
      ]
    },
    {
      "cell_type": "code",
      "metadata": {
        "id": "mZIhirZiQjXd",
        "outputId": "f8d8a70d-a7ae-4b1b-f7c0-d7c2988cdbf3",
        "colab": {
          "base_uri": "https://localhost:8080/",
          "height": 279
        }
      },
      "source": [
        "x1 = media(data[0:70,3])\n",
        "x2 = media(data[0:70,4])\n",
        "x3 = media(data[70:140,3])\n",
        "x4 = media(data[70:140,4])\n",
        "x5 = media(data[140:210,3])\n",
        "x6 = media(data[140:210,4])\n",
        "\n",
        "valorCompri = media(data[:,3])\n",
        "valorLenght = media(data[:,4])\n",
        "\n",
        "valorCompri1 = media(data[0:70,3])\n",
        "valorLenght1 = media(data[0:70,4])\n",
        "valorCompri2 = media(data[70:140,3])\n",
        "valorLenght2 = media(data[70:140,4])\n",
        "valorCompri3 = media(data[140:210,3])\n",
        "valorLenght3 = media(data[140:210,4])\n",
        "\n",
        "plt.bar(x1, valorCompri1, color='blue')\n",
        "plt.bar(x2, valorLenght1, color='blue')\n",
        "plt.bar(x3, valorCompri2, color='blue')\n",
        "plt.bar(x4, valorLenght2, color='blue')\n",
        "plt.bar(x5, valorCompri3, color='blue')\n",
        "plt.bar(x6, valorLenght3, color='blue')\n",
        "plt.xlabel('comprimento e largura')\n",
        "plt.axhline(valorCompri, color=\"red\") #Gera a linha\n",
        "plt.axhline(valorLenght, color=\"green\") #Gera a linha\n",
        "plt.text(6.9, 3.2, 'Largura media geral', va='center', ha=\"left\") #texto\n",
        "plt.text(6.9, 5.7, 'comprimento media geral', va='center', ha=\"left\") #texto\n",
        "plt.show()"
      ],
      "execution_count": 110,
      "outputs": [
        {
          "output_type": "display_data",
          "data": {
            "image/png": "[encoded data removed]",
            "text/plain": [
              "<Figure size 432x288 with 1 Axes>"
            ]
          },
          "metadata": {
            "tags": [],
            "needs_background": "light"
          }
        }
      ]
    },
    {
      "cell_type": "markdown",
      "metadata": {
        "id": "jst53F7Aio_s"
      },
      "source": [
        "# 7.Gere um gráfico de dispersão que mostre a relação entre a área e o perímetro de cada grão de trigo."
      ]
    },
    {
      "cell_type": "code",
      "metadata": {
        "id": "YaoR0V5Aiswi",
        "outputId": "b83e4b3a-502a-4782-8000-f718ebd0b3a0",
        "colab": {
          "base_uri": "https://localhost:8080/",
          "height": 265
        }
      },
      "source": [
        "x = correlation(data[:,0], data[:,1])\n",
        "x2 = correlation(data[:,3], data[:,4])\n",
        "\n",
        "plt.scatter(x, x)\n",
        "plt.show()"
      ],
      "execution_count": 138,
      "outputs": [
        {
          "output_type": "display_data",
          "data": {
            "image/png": "[encoded data removed]",
            "text/plain": [
              "<Figure size 432x288 with 1 Axes>"
            ]
          },
          "metadata": {
            "tags": [],
            "needs_background": "light"
          }
        }
      ]
    },
    {
      "cell_type": "code",
      "metadata": {
        "id": "1IxCuaZNneLH",
        "outputId": "201bbaa8-1604-475f-d1df-3b6a7614a330",
        "colab": {
          "base_uri": "https://localhost:8080/",
          "height": 265
        }
      },
      "source": [
        "plt.scatter(data[:,0], data[:,1])\n",
        "plt.show()"
      ],
      "execution_count": 139,
      "outputs": [
        {
          "output_type": "display_data",
          "data": {
            "image/png": "[encoded data removed]",
            "text/plain": [
              "<Figure size 432x288 with 1 Axes>"
            ]
          },
          "metadata": {
            "tags": [],
            "needs_background": "light"
          }
        }
      ]
    },
    {
      "cell_type": "markdown",
      "metadata": {
        "id": "HVOdkqpNnp29"
      },
      "source": [
        "#8. Usando o cálculo da distância entre dois vetores que aprendemos em aula, informe qual é a semente que mais se parece com a primeira semente da base de dados (índice 0). Sua resposta deverá ser composta pelo índice no vetor e pelo valor da distância, por exemplo: 97, 0.11234."
      ]
    },
    {
      "cell_type": "code",
      "metadata": {
        "id": "RrDD2eFWoP2D",
        "outputId": "69f685e0-eb51-4ca9-97a5-c4ef8b7ea590",
        "colab": {
          "base_uri": "https://localhost:8080/"
        }
      },
      "source": [
        "def calcula_distancia(array1, array2):\n",
        "    # Distância Euclidiana\n",
        "    return np.linalg.norm(array1-array2)\n",
        "\n",
        "def pega_vetor_mais_proximo(array_objetivo, array_all):\n",
        "\n",
        "    menor_dist = calcula_distancia(array_objetivo, array_all[0])\n",
        "    id_menor_dist = 0\n",
        "\n",
        "    for i in range(1, array_all.shape[0]):\n",
        "        dist = calcula_distancia(array_objetivo, array_all[i])\n",
        "        if dist < menor_dist:\n",
        "            menor_dist = dist\n",
        "            id_menor_dist = i\n",
        "\n",
        "    return menor_dist, id_menor_dist\n",
        "\n",
        "pega_vetor_mais_proximo(data[0,2], data[1:,2])"
      ],
      "execution_count": 167,
      "outputs": [
        {
          "output_type": "execute_result",
          "data": {
            "text/plain": [
              "(0.00039999999999995595, 131)"
            ]
          },
          "metadata": {
            "tags": []
          },
          "execution_count": 167
        }
      ]
    }
  ]
}