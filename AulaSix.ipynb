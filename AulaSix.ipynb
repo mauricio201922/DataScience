{
  "nbformat": 4,
  "nbformat_minor": 0,
  "metadata": {
    "colab": {
      "name": "AulaSix.ipynb",
      "provenance": [],
      "mount_file_id": "https://github.com/mauricio201922/DataScience/blob/main/AulaSix.ipynb",
      "authorship_tag": "ABX9TyPRP1mblwayx/zc3O+Me2j3",
      "include_colab_link": true
    },
    "kernelspec": {
      "name": "python3",
      "display_name": "Python 3"
    },
    "language_info": {
      "name": "python"
    }
  },
  "cells": [
    {
      "cell_type": "markdown",
      "metadata": {
        "id": "view-in-github",
        "colab_type": "text"
      },
      "source": [
        "<a href=\"https://colab.research.google.com/github/mauricio201922/DataScience/blob/main/AulaSix.ipynb\" target=\"_parent\"><img src=\"https://colab.research.google.com/assets/colab-badge.svg\" alt=\"Open In Colab\"/></a>"
      ]
    },
    {
      "cell_type": "code",
      "metadata": {
        "colab": {
          "base_uri": "https://localhost:8080/"
        },
        "id": "4cbyWxaq1A7C",
        "outputId": "520136b0-8688-4c3d-84d3-b40435b30775"
      },
      "source": [
        "!pip install numpy\n",
        "!apt-get -qq install stats_lib"
      ],
      "execution_count": null,
      "outputs": [
        {
          "output_type": "stream",
          "text": [
            "Requirement already satisfied: numpy in /usr/local/lib/python3.7/dist-packages (1.19.5)\n",
            "E: Unable to locate package stats_lib\n"
          ],
          "name": "stdout"
        }
      ]
    },
    {
      "cell_type": "markdown",
      "metadata": {
        "id": "34IeCb9Yf9Gi"
      },
      "source": [
        "# 1. Escreva dois módulos Python, um para conter os cálculos que aprendemos na aula de estatística e outro para os cálculos da aula de álgebra linear"
      ]
    },
    {
      "cell_type": "code",
      "metadata": {
        "id": "p5P5KWSY68mr"
      },
      "source": [
        "from collections import Counter\n",
        "from functools import reduce\n",
        "import numpy as np\n",
        "import math\n",
        "import random\n",
        "import matplotlib.pyplot as plt\n"
      ],
      "execution_count": null,
      "outputs": []
    },
    {
      "cell_type": "code",
      "metadata": {
        "id": "V90ZDE-b9rTG"
      },
      "source": [
        "data = np.genfromtxt('/content/drive/MyDrive/Ciência da Computação/4° Ano/1° Semestre/1° bimestre/DataScience/Exercicio2/seeds_dataset.txt', delimiter='', usecols=(0,1,2,3,4,5,6))"
      ],
      "execution_count": null,
      "outputs": []
    },
    {
      "cell_type": "code",
      "metadata": {
        "colab": {
          "base_uri": "https://localhost:8080/"
        },
        "id": "lrlOdBYlA_sM",
        "outputId": "f9af660d-81e2-4798-d8b7-ecf6254122fe"
      },
      "source": [
        "data"
      ],
      "execution_count": null,
      "outputs": [
        {
          "output_type": "execute_result",
          "data": {
            "text/plain": [
              "array([[15.26  , 14.84  ,  0.871 , ...,  3.312 ,  2.221 ,  5.22  ],\n",
              "       [14.88  , 14.57  ,  0.8811, ...,  3.333 ,  1.018 ,  4.956 ],\n",
              "       [14.29  , 14.09  ,  0.905 , ...,  3.337 ,  2.699 ,  4.825 ],\n",
              "       ...,\n",
              "       [13.2   , 13.66  ,  0.8883, ...,  3.232 ,  8.315 ,  5.056 ],\n",
              "       [11.84  , 13.21  ,  0.8521, ...,  2.836 ,  3.598 ,  5.044 ],\n",
              "       [12.3   , 13.34  ,  0.8684, ...,  2.974 ,  5.637 ,  5.063 ]])"
            ]
          },
          "metadata": {
            "tags": []
          },
          "execution_count": 4
        }
      ]
    },
    {
      "cell_type": "markdown",
      "metadata": {
        "id": "NhSirC8XglUt"
      },
      "source": [
        "# 2. Imprima a moda e a mediana do comprimento e da largura de todas as instâncias.\n"
      ]
    },
    {
      "cell_type": "code",
      "metadata": {
        "colab": {
          "base_uri": "https://localhost:8080/"
        },
        "id": "oPNzRRfeBwsQ",
        "outputId": "99b0ab50-f6e1-48ce-d299-8168c6797256"
      },
      "source": [
        "def medianLength(v):\n",
        "  n = len(v)\n",
        "  v_ordenado = sorted(v)\n",
        "  i_centro = n // 2\n",
        "  if n % 2 == 1:\n",
        "    return v_ordenado(i_centro)\n",
        "  else:\n",
        "    i_centro2 = i_centro - 1\n",
        "    return (v_ordenado[i_centro2] + v_ordenado[i_centro]) / 2\n",
        "\n",
        "def medianWidth(v):\n",
        "  n = len(v)\n",
        "  v_ordenado = sorted(v)\n",
        "  i_centro = n // 2\n",
        "  if n % 2 == 1:\n",
        "    return v_ordenado(i_centro)\n",
        "  else:\n",
        "    i_centro2 = i_centro - 1\n",
        "    return (v_ordenado[i_centro2] + v_ordenado[i_centro]) / 2\n",
        "\n",
        "def modaLength(v):\n",
        "  counts = Counter(v)\n",
        "  max_count = max(counts.values())\n",
        "  return [v_i for v_i, count in counts.items()\n",
        "    if count == max_count]\n",
        "\n",
        "def modaWidth(v):\n",
        "  counts = Counter(v)\n",
        "  max_count = max(counts.values())\n",
        "  return [v_i for v_i, count in counts.items()\n",
        "    if count == max_count]\n",
        "\n",
        "\n",
        "print(medianLength(data[:,3]))\n",
        "print(medianWidth(data[:,4]))\n",
        "\n",
        "print(modaLength(data[:,3]))\n",
        "print(modaWidth(data[:,4]))"
      ],
      "execution_count": null,
      "outputs": [
        {
          "output_type": "stream",
          "text": [
            "5.5235\n",
            "3.237\n",
            "[5.395, 5.236]\n",
            "[3.026]\n"
          ],
          "name": "stdout"
        }
      ]
    },
    {
      "cell_type": "markdown",
      "metadata": {
        "id": "lOKjp89voQ8L"
      },
      "source": [
        "# 3. Imprima o desvio padrão dos comprimentos de todos os grãos e explique o resultado.\n"
      ]
    },
    {
      "cell_type": "code",
      "metadata": {
        "id": "ExlEGIlbohOh",
        "colab": {
          "base_uri": "https://localhost:8080/"
        },
        "outputId": "3a099103-a2ee-4454-9b14-e2ca3b4938a6"
      },
      "source": [
        "def media(x):\n",
        "  return sum(x)/len(x)\n",
        "\n",
        "def de_mean(x):\n",
        "  x_bar = media(x)\n",
        "  return [x_i - x_bar for x_i in x]\n",
        "\n",
        "def sum_of_squares(x):\n",
        "  return sum([x_i * x_i for x_i in x])\n",
        "\n",
        "def variance(x):\n",
        "  n = len(x)\n",
        "  deviations = de_mean(x)\n",
        "  return sum_of_squares(deviations) / (n - 1)\n",
        "\n",
        "def desvio_padrao(x):\n",
        "  return math.sqrt(variance(x))\n",
        "\n",
        "print(desvio_padrao(data[:,3]))"
      ],
      "execution_count": null,
      "outputs": [
        {
          "output_type": "stream",
          "text": [
            "0.4430634777264492\n"
          ],
          "name": "stdout"
        }
      ]
    },
    {
      "cell_type": "markdown",
      "metadata": {
        "id": "icBnvI6ZpfwI"
      },
      "source": [
        "### Explicando\n",
        "##### Quaisquer que sejam as unidades, todas as nossas medidas de tendência central como a média, a mediana, etc. estão nessa mesma unidade. O intervalo também está nessa mesma unidade mas a variância tem unidades que são o quadrado das unidades originais, por ex.: \"funcionários ao quadrado\". Só q aqui, estamos fazendo o desvio padrão dos comprimentos do grão."
      ]
    },
    {
      "cell_type": "markdown",
      "metadata": {
        "id": "aRPx_PsAqOmb"
      },
      "source": [
        "# 4. Imprima o desvio padrão das larguras de todos os grãos e explique o resultado."
      ]
    },
    {
      "cell_type": "code",
      "metadata": {
        "id": "lvS59JROqlcM",
        "colab": {
          "base_uri": "https://localhost:8080/"
        },
        "outputId": "7635f10f-c8e7-4089-cb09-bc37bc6d517c"
      },
      "source": [
        "def media(x):\n",
        "  return sum(x)/len(x)\n",
        "\n",
        "def de_mean(x):\n",
        "  x_bar = media(x)\n",
        "  return [x_i - x_bar for x_i in x]\n",
        "\n",
        "def sum_of_squares(x):\n",
        "  return sum([x_i * x_i for x_i in x])\n",
        "\n",
        "def variance(x):\n",
        "  n = len(x)\n",
        "  deviations = de_mean(x)\n",
        "  return sum_of_squares(deviations) / (n - 1)\n",
        "\n",
        "def desvio_padrao(x):\n",
        "  return math.sqrt(variance(x))\n",
        "\n",
        "print(desvio_padrao(data[:,4]))"
      ],
      "execution_count": null,
      "outputs": [
        {
          "output_type": "stream",
          "text": [
            "0.37771444490658723\n"
          ],
          "name": "stdout"
        }
      ]
    },
    {
      "cell_type": "markdown",
      "metadata": {
        "id": "WU9S0D8mqs6C"
      },
      "source": [
        "### Explicando\n",
        "##### Quaisquer que sejam as unidades, todas as nossas medidas de tendência central como a média, a mediana, etc. estão nessa mesma unidade. O intervalo também está nessa mesma unidade mas a variância tem unidades que são o quadrado das unidades originais, por ex.: \"funcionários ao quadrado\". Só q aqui, estamos fazendo o desvio padrão das larguras do grão."
      ]
    },
    {
      "cell_type": "markdown",
      "metadata": {
        "id": "DBFeWhhsrTZR"
      },
      "source": [
        "#5. Imprima as correlações entre o comprimento e a largura de cada espécie e explique cada resultado."
      ]
    },
    {
      "cell_type": "code",
      "metadata": {
        "id": "2FspnRVSrWMx",
        "colab": {
          "base_uri": "https://localhost:8080/"
        },
        "outputId": "9d88a00a-0356-471b-831b-a321066e0c9f"
      },
      "source": [
        "# covariance\n",
        "def dot(v, w):\n",
        "  return sum(v_i * w_i\n",
        "    for v_i, w_i in zip(v, w))\n",
        "\n",
        "def covariance(x, y):\n",
        "  n = len(x)\n",
        "  return dot(de_mean(x), de_mean(y)) / (n - 1)\n",
        "\n",
        "# Correlação\n",
        "def correlation(x, y):\n",
        "  stdev_x = desvio_padrao(x)\n",
        "  stdev_y = desvio_padrao(y)\n",
        "  if stdev_x > 0 and stdev_y > 0:\n",
        "    return covariance(x, y) / stdev_x / stdev_y\n",
        "  else:\n",
        "    return 0 # if no variation, correlation is zero\n",
        "\n",
        "correlation(data[:,3], data[:,4])\n"
      ],
      "execution_count": null,
      "outputs": [
        {
          "output_type": "execute_result",
          "data": {
            "text/plain": [
              "0.8604149377143474"
            ]
          },
          "metadata": {
            "tags": []
          },
          "execution_count": 6
        }
      ]
    },
    {
      "cell_type": "markdown",
      "metadata": {
        "id": "cPrEBPeEsPcA"
      },
      "source": [
        "### Explicando\n",
        "##### A correlação não possui unidade e está sempre entre -1 (anti-correlação perfeita) e 1 (correlação perfeita). Um número como 0,27 representa uma correlação positiva relativamente fraca. Aqui foi entre o comprimento e a largura do grão.\n"
      ]
    },
    {
      "cell_type": "markdown",
      "metadata": {
        "id": "UKa_H2Gis3nF"
      },
      "source": [
        "#6. Gere um gráfico de barras que mostre o comprimento médio e a largura média de cada espécie, com as médias gerais expressas em linhas horizontais, como no exemplo abaixo:"
      ]
    },
    {
      "cell_type": "code",
      "metadata": {
        "colab": {
          "base_uri": "https://localhost:8080/",
          "height": 280
        },
        "id": "ugUraeUmUj9-",
        "outputId": "403bbefa-8092-401c-a339-5c8d1000132f"
      },
      "source": [
        "barras = [media(data[0:70,3]), media(data[0:70,4]), \n",
        "          media(data[70:140,3]), media(data[70:140,4]),\n",
        "          media(data[140:210,3]), media(data[140:210,4])]\n",
        "  \n",
        "x = ['k_compr', 'k_largura', \n",
        "     'r_compr', 'r_largura', \n",
        "     'c_compr', 'c_largura']\n",
        "\n",
        "plt.bar(x, barras)\n",
        "\n",
        "valorCompri = media(data[:,3])\n",
        "valorLenght = media(data[:,4])\n",
        "\n",
        "valorCompri1 = media(data[0:70,3])\n",
        "\n",
        "plt.xlabel('comprimento e largura')\n",
        "plt.axhline(valorCompri, color=\"red\") #Gera a linha\n",
        "plt.axhline(valorLenght, color=\"green\") #Gera a linha\n",
        "plt.text(6.9, 3.2, 'Largura media geral', va='center', ha=\"left\") #texto\n",
        "plt.text(6.9, 5.7, 'comprimento media geral', va='center', ha=\"left\") #texto\n",
        "plt.show()"
      ],
      "execution_count": null,
      "outputs": [
        {
          "output_type": "display_data",
          "data": {
            "image/png": "[encoded data removed]",
            "text/plain": [
              "<Figure size 432x288 with 1 Axes>"
            ]
          },
          "metadata": {
            "tags": [],
            "needs_background": "light"
          }
        }
      ]
    },
    {
      "cell_type": "markdown",
      "metadata": {
        "id": "jst53F7Aio_s"
      },
      "source": [
        "# 7.Gere um gráfico de dispersão que mostre a relação entre a área e o perímetro de cada grão de trigo."
      ]
    },
    {
      "cell_type": "code",
      "metadata": {
        "id": "YaoR0V5Aiswi",
        "colab": {
          "base_uri": "https://localhost:8080/",
          "height": 265
        },
        "outputId": "b83e4b3a-502a-4782-8000-f718ebd0b3a0"
      },
      "source": [
        "x = correlation(data[:,0], data[:,1])\n",
        "x2 = correlation(data[:,3], data[:,4])\n",
        "\n",
        "plt.scatter(x, x)\n",
        "plt.show()"
      ],
      "execution_count": null,
      "outputs": [
        {
          "output_type": "display_data",
          "data": {
            "image/png": "[encoded data removed]",
            "text/plain": [
              "<Figure size 432x288 with 1 Axes>"
            ]
          },
          "metadata": {
            "tags": [],
            "needs_background": "light"
          }
        }
      ]
    },
    {
      "cell_type": "code",
      "metadata": {
        "id": "1IxCuaZNneLH",
        "colab": {
          "base_uri": "https://localhost:8080/",
          "height": 265
        },
        "outputId": "201bbaa8-1604-475f-d1df-3b6a7614a330"
      },
      "source": [
        "plt.scatter(data[:,0], data[:,1])\n",
        "plt.show()"
      ],
      "execution_count": null,
      "outputs": [
        {
          "output_type": "display_data",
          "data": {
            "image/png": "[encoded data removed]",
            "text/plain": [
              "<Figure size 432x288 with 1 Axes>"
            ]
          },
          "metadata": {
            "tags": [],
            "needs_background": "light"
          }
        }
      ]
    },
    {
      "cell_type": "markdown",
      "metadata": {
        "id": "HVOdkqpNnp29"
      },
      "source": [
        "#8. Usando o cálculo da distância entre dois vetores que aprendemos em aula, informe qual é a semente que mais se parece com a primeira semente da base de dados (índice 0). Sua resposta deverá ser composta pelo índice no vetor e pelo valor da distância, por exemplo: 97, 0.11234."
      ]
    },
    {
      "cell_type": "code",
      "metadata": {
        "id": "RrDD2eFWoP2D",
        "colab": {
          "base_uri": "https://localhost:8080/"
        },
        "outputId": "36ec86e4-fb08-4705-d190-b20aaa0df8d8"
      },
      "source": [
        "def calcula_distancia(array1, array2):\n",
        "    # Distância Euclidiana\n",
        "    return np.linalg.norm(array1-array2)\n",
        "\n",
        "def pega_vetor_mais_proximo(array_objetivo, array_all):\n",
        "\n",
        "    menor_dist = calcula_distancia(array_objetivo, array_all[0])\n",
        "    id_menor_dist = 0\n",
        "\n",
        "    for i in range(1, array_all.shape[0]):\n",
        "        dist = calcula_distancia(array_objetivo, array_all[i])\n",
        "        if dist < menor_dist:\n",
        "            menor_dist = dist\n",
        "            id_menor_dist = i\n",
        "\n",
        "    return id_menor_dist, menor_dist\n",
        "\n",
        "pega_vetor_mais_proximo(data[0,2], data[1:,2])"
      ],
      "execution_count": null,
      "outputs": [
        {
          "output_type": "execute_result",
          "data": {
            "text/plain": [
              "(131, 0.00039999999999995595)"
            ]
          },
          "metadata": {
            "tags": []
          },
          "execution_count": 34
        }
      ]
    }
  ]
}