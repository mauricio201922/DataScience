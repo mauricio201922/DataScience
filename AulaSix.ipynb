{
  "nbformat": 4,
  "nbformat_minor": 0,
  "metadata": {
    "colab": {
      "name": "AulaSix.ipynb",
      "provenance": [],
      "mount_file_id": "17NtumohlzwF3GGJtIm4AQtdsJvIW8efU",
      "authorship_tag": "ABX9TyO61LaM3TdxkAvizeJktEf9",
      "include_colab_link": true
    },
    "kernelspec": {
      "name": "python3",
      "display_name": "Python 3"
    },
    "language_info": {
      "name": "python"
    }
  },
  "cells": [
    {
      "cell_type": "markdown",
      "metadata": {
        "id": "view-in-github",
        "colab_type": "text"
      },
      "source": [
        "<a href=\"https://colab.research.google.com/github/mauricio201922/DataScience/blob/main/AulaSix.ipynb\" target=\"_parent\"><img src=\"https://colab.research.google.com/assets/colab-badge.svg\" alt=\"Open In Colab\"/></a>"
      ]
    },
    {
      "cell_type": "code",
      "metadata": {
        "colab": {
          "base_uri": "https://localhost:8080/"
        },
        "id": "4cbyWxaq1A7C",
        "outputId": "c3cdb791-d31b-4f0b-fc2f-755ce535e701"
      },
      "source": [
        "!pip install numpy\n",
        "!apt-get -qq install stats_lib"
      ],
      "execution_count": 39,
      "outputs": [
        {
          "output_type": "stream",
          "text": [
            "Requirement already satisfied: numpy in /usr/local/lib/python3.7/dist-packages (1.19.5)\n",
            "E: Unable to locate package stats_lib\n"
          ],
          "name": "stdout"
        }
      ]
    },
    {
      "cell_type": "code",
      "metadata": {
        "id": "p5P5KWSY68mr"
      },
      "source": [
        "from collections import Counter\n",
        "from functools import reduce\n",
        "import numpy as np\n",
        "import math"
      ],
      "execution_count": 9,
      "outputs": []
    },
    {
      "cell_type": "code",
      "metadata": {
        "id": "V90ZDE-b9rTG"
      },
      "source": [
        "data = np.genfromtxt('/content/drive/MyDrive/Ciência da Computação/4° Ano/1° Semestre/1° bimestre/DataScience/Exercicio2/seeds_dataset.txt', delimiter='', usecols=(0,1,2,3,4,5,6))"
      ],
      "execution_count": 6,
      "outputs": []
    },
    {
      "cell_type": "code",
      "metadata": {
        "colab": {
          "base_uri": "https://localhost:8080/"
        },
        "id": "lrlOdBYlA_sM",
        "outputId": "eb518c62-88e7-4a03-e8be-cd8aefe7cf66"
      },
      "source": [
        "data"
      ],
      "execution_count": 7,
      "outputs": [
        {
          "output_type": "execute_result",
          "data": {
            "text/plain": [
              "array([[15.26  , 14.84  ,  0.871 , ...,  3.312 ,  2.221 ,  5.22  ],\n",
              "       [14.88  , 14.57  ,  0.8811, ...,  3.333 ,  1.018 ,  4.956 ],\n",
              "       [14.29  , 14.09  ,  0.905 , ...,  3.337 ,  2.699 ,  4.825 ],\n",
              "       ...,\n",
              "       [13.2   , 13.66  ,  0.8883, ...,  3.232 ,  8.315 ,  5.056 ],\n",
              "       [11.84  , 13.21  ,  0.8521, ...,  2.836 ,  3.598 ,  5.044 ],\n",
              "       [12.3   , 13.34  ,  0.8684, ...,  2.974 ,  5.637 ,  5.063 ]])"
            ]
          },
          "metadata": {
            "tags": []
          },
          "execution_count": 7
        }
      ]
    },
    {
      "cell_type": "code",
      "metadata": {
        "colab": {
          "base_uri": "https://localhost:8080/"
        },
        "id": "oPNzRRfeBwsQ",
        "outputId": "4921f6c6-b622-4159-9332-8c0fd3548ec5"
      },
      "source": [
        "def median(v):\n",
        "  n = len(v)\n",
        "  v_ordenado = sorted(v[:,6])\n",
        "  i_centro = n // 2\n",
        "  if n % 2 == 1:\n",
        "    return v_ordenado(i_centro)\n",
        "  else:\n",
        "    i_centro2 = i_centro - 1\n",
        "    return (v_ordenado[i_centro2] + v_ordenado[i_centro]) / 2\n",
        "\n",
        "def moda(v):\n",
        "  counts = Counter(v[:,6])\n",
        "  max_count = max(counts.values())\n",
        "  return [v_i for v_i, count in counts.items()\n",
        "    if count == max_count]\n",
        "\n",
        "\n",
        "print(median(data))\n",
        "print(moda(data))"
      ],
      "execution_count": 48,
      "outputs": [
        {
          "output_type": "stream",
          "text": [
            "5.223000000000001\n",
            "[5.001]\n"
          ],
          "name": "stdout"
        }
      ]
    }
  ]
}