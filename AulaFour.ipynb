{
  "nbformat": 4,
  "nbformat_minor": 0,
  "metadata": {
    "colab": {
      "name": "AulaFour.ipynb",
      "provenance": [],
      "authorship_tag": "ABX9TyOte4hgDfIbLB9CbsIuDNjT",
      "include_colab_link": true
    },
    "kernelspec": {
      "name": "python3",
      "display_name": "Python 3"
    },
    "language_info": {
      "name": "python"
    }
  },
  "cells": [
    {
      "cell_type": "markdown",
      "metadata": {
        "id": "view-in-github",
        "colab_type": "text"
      },
      "source": [
        "<a href=\"https://colab.research.google.com/github/mauricio201922/DataScience/blob/main/AulaFour.ipynb\" target=\"_parent\"><img src=\"https://colab.research.google.com/assets/colab-badge.svg\" alt=\"Open In Colab\"/></a>"
      ]
    },
    {
      "cell_type": "markdown",
      "metadata": {
        "id": "xDM3nz_ej3Do"
      },
      "source": [
        "# Álgebra Linear"
      ]
    },
    {
      "cell_type": "markdown",
      "metadata": {
        "id": "vksf3fftj6kH"
      },
      "source": [
        "### Vetores\n",
        "#####Resumidamente, os vetores são objetos que podem ser adicionados em conjunto (para formar novos vetores) e que podem ser multiplicados por escalares (isto é, números), também para formar novos vetores. Concretamente (para nós), os vetores são pontos em algum espaço de dimensões finitas. Embora você não pense em seus dados como vetores, eles são uma boa maneira de representar dados numéricos. Por exemplo, se você tem alturas, pesos e idades de um grande número de pessoas, você pode tratar seus dados como vetores tridimensionais (altura, peso e idade). Se você leciona uma disciplina com quatro exames, você pode tratar notas de alunos como vetores de quatro dimensões (exame1, exame2, exame3, exame4).\n"
      ]
    },
    {
      "cell_type": "code",
      "metadata": {
        "id": "UhXWIzr6kGQf"
      },
      "source": [
        "import math\n",
        "from functools import reduce"
      ],
      "execution_count": 1,
      "outputs": []
    },
    {
      "cell_type": "code",
      "metadata": {
        "colab": {
          "base_uri": "https://localhost:8080/"
        },
        "id": "2MdFpixAkL-P",
        "outputId": "ae823d1a-b20b-4f26-ae29-33ade4fcabf3"
      },
      "source": [
        "height_weight_age = [175, # cm, \n",
        "                     90, # kg, \n",
        "                     40] # anos\n",
        "                     \n",
        "print(height_weight_age)\n",
        "\n",
        "grades = [95, # exam1 \n",
        "          80, # exam2 \n",
        "          75, # exam3\n",
        "          62] # exam4\n",
        "\n",
        "print(grades)\n"
      ],
      "execution_count": 8,
      "outputs": [
        {
          "output_type": "stream",
          "text": [
            "[175, 90, 40]\n",
            "[95, 80, 75, 62]\n"
          ],
          "name": "stdout"
        }
      ]
    },
    {
      "cell_type": "markdown",
      "metadata": {
        "id": "WtEh9j1rkz-m"
      },
      "source": [
        "### Soma de Vetores\n",
        "##### Frequentemente precisamos somar dois vetores. Isso significa que, se dois vetores v e w forem do mesmo comprimento, sua soma é apenas o vetor cujo primeiro elemento é v[0] + w[0], cujo segundo elemento é v[1] + w[1], e assim em diante. (Se eles não tiverem o mesmo comprimento, então não podemos somá-los.)\n"
      ]
    },
    {
      "cell_type": "markdown",
      "metadata": {
        "id": "ZLocgQoolKSN"
      },
      "source": [
        "###### Podemos implementar isso facilmente ao compactar os vetores juntos e usar uma list comprehension para adicionar os elementos correspondentes:\n",
        "\n"
      ]
    },
    {
      "cell_type": "code",
      "metadata": {
        "id": "awjYs8JOlc_t"
      },
      "source": [
        "def vector_add(v, w):\n",
        "  \"\"\"adds corresponding elements\"\"\"\n",
        "  return [v_i + w_i\n",
        "  for v_i, w_i in zip(v, w)]\n"
      ],
      "execution_count": 9,
      "outputs": []
    },
    {
      "cell_type": "code",
      "metadata": {
        "colab": {
          "base_uri": "https://localhost:8080/"
        },
        "id": "PHVxRDaXliAr",
        "outputId": "72ba9731-65bc-4203-e7b2-6020fc85708c"
      },
      "source": [
        "print(vector_add([1, 2, 3], [3, 2, 1]))"
      ],
      "execution_count": 10,
      "outputs": [
        {
          "output_type": "stream",
          "text": [
            "[4, 4, 4]\n"
          ],
          "name": "stdout"
        }
      ]
    },
    {
      "cell_type": "markdown",
      "metadata": {
        "id": "zhfZua2-llCl"
      },
      "source": [
        "##### Da mesma forma, para subtrair dois vetores, subtraimos elementos correspondentes:"
      ]
    },
    {
      "cell_type": "code",
      "metadata": {
        "id": "-dh9RcaLloPr"
      },
      "source": [
        "def vector_subtract(v, w):\n",
        "  \"\"\"subtracts corresponding elements\"\"\"\n",
        "  return [v_i - w_i\n",
        "  for v_i, w_i in zip(v, w)]"
      ],
      "execution_count": 11,
      "outputs": []
    },
    {
      "cell_type": "code",
      "metadata": {
        "colab": {
          "base_uri": "https://localhost:8080/"
        },
        "id": "URFBWu5ilsYb",
        "outputId": "156dba77-429f-4b39-a42d-1f9daabd7b2c"
      },
      "source": [
        "print(vector_subtract([1, 2, 3], [3, 2, 1]))"
      ],
      "execution_count": 12,
      "outputs": [
        {
          "output_type": "stream",
          "text": [
            "[-2, 0, 2]\n"
          ],
          "name": "stdout"
        }
      ]
    },
    {
      "cell_type": "markdown",
      "metadata": {
        "id": "owM-aWcIluhi"
      },
      "source": [
        "##### Também às vezes queremos constituir um componente de uma lista de vetores, ou seja, criar um novo vetor cujo primeiro elemento seja a soma de todos os primeiros elementos, o segundo elemento é a soma de todos os segundos elementos, e assim por diante. A maneira mais fácil de fazer isso é adicionando um vetor por vez:"
      ]
    },
    {
      "cell_type": "code",
      "metadata": {
        "id": "ae7k0JcOl4Bb"
      },
      "source": [
        "def vector_sum(vectors):\n",
        "  \"\"\"sums all corresponding elements\"\"\"\n",
        "  result = vectors[0] # start with the first vector\n",
        "  for vector in vectors[1:]: # then loop over the others\n",
        "    result = vector_add(result, vector) # and add them to the result\n",
        "  return result\n"
      ],
      "execution_count": 13,
      "outputs": []
    },
    {
      "cell_type": "code",
      "metadata": {
        "colab": {
          "base_uri": "https://localhost:8080/"
        },
        "id": "72_bEPVUl-GT",
        "outputId": "516fc2bf-5823-448d-e583-6bd553329ef8"
      },
      "source": [
        "print(vector_sum([[1, 2, 3], [3, 2, 1]]))"
      ],
      "execution_count": 14,
      "outputs": [
        {
          "output_type": "stream",
          "text": [
            "[4, 4, 4]\n"
          ],
          "name": "stdout"
        }
      ]
    },
    {
      "cell_type": "markdown",
      "metadata": {
        "id": "OfDUta08mB3z"
      },
      "source": [
        "##### Se você pensar sobre isso notará que estamos apenas reduzindo a lista de vetores usando vector_add, o que significa que podemos reescrever isso usando outras funções:"
      ]
    },
    {
      "cell_type": "code",
      "metadata": {
        "id": "-rJUDKRJmDn8"
      },
      "source": [
        "def vector_sum(vectors):\n",
        "  return reduce(vector_add, vectors)"
      ],
      "execution_count": 15,
      "outputs": []
    },
    {
      "cell_type": "code",
      "metadata": {
        "colab": {
          "base_uri": "https://localhost:8080/"
        },
        "id": "bSy9SiLVmHcr",
        "outputId": "4c7978ce-8d5b-4767-e2be-f2e66cc41c11"
      },
      "source": [
        "print(vector_sum([[1, 2, 3], [3, 2, 1]]))"
      ],
      "execution_count": 16,
      "outputs": [
        {
          "output_type": "stream",
          "text": [
            "[4, 4, 4]\n"
          ],
          "name": "stdout"
        }
      ]
    },
    {
      "cell_type": "markdown",
      "metadata": {
        "id": "PWwkhY4SmJ16"
      },
      "source": [
        "### Escalar"
      ]
    },
    {
      "cell_type": "markdown",
      "metadata": {
        "id": "l9h6bQ7xmMqq"
      },
      "source": [
        "##### Também precisamos poder multiplicar um vetor por um escalar, o que fazemos simplesmente multiplicando cada elemento do vetor por esse número:\n"
      ]
    },
    {
      "cell_type": "code",
      "metadata": {
        "id": "CrmLSg__mOxh"
      },
      "source": [
        "def scalar_multiply(c, v):\n",
        "  \"\"\"c is a number, v is a vector\"\"\"\n",
        "  return [c * v_i for v_i in v]"
      ],
      "execution_count": 17,
      "outputs": []
    },
    {
      "cell_type": "code",
      "metadata": {
        "colab": {
          "base_uri": "https://localhost:8080/"
        },
        "id": "yWJaYJETmTGB",
        "outputId": "f0fefd36-6115-41d6-8a9f-75b36c25563b"
      },
      "source": [
        "print(scalar_multiply(3, [3, 2, 1]))"
      ],
      "execution_count": 18,
      "outputs": [
        {
          "output_type": "stream",
          "text": [
            "[9, 6, 3]\n"
          ],
          "name": "stdout"
        }
      ]
    },
    {
      "cell_type": "markdown",
      "metadata": {
        "id": "DeMfSkZimVfp"
      },
      "source": [
        "##### Isso nos permite calcular a média dos componentes de uma lista de vetores do mesmo tamanho:"
      ]
    },
    {
      "cell_type": "code",
      "metadata": {
        "id": "osACX3QQmXxK"
      },
      "source": [
        "def vector_mean(vectors):\n",
        "  \"\"\"compute the vector whose ith element is the mean of the ith elements of t\n",
        "he input vectors\"\"\"\n",
        "  n = len(vectors)\n",
        "  return scalar_multiply(1/n, vector_sum(vectors))\n"
      ],
      "execution_count": 19,
      "outputs": []
    },
    {
      "cell_type": "code",
      "metadata": {
        "colab": {
          "base_uri": "https://localhost:8080/"
        },
        "id": "ZCw00kPTmbus",
        "outputId": "0a1c1c12-0e5f-448d-99c1-e6abf32d3c26"
      },
      "source": [
        "print(vector_mean([[1, 2, 3], [3, 2, 1]]))"
      ],
      "execution_count": 20,
      "outputs": [
        {
          "output_type": "stream",
          "text": [
            "[2.0, 2.0, 2.0]\n"
          ],
          "name": "stdout"
        }
      ]
    },
    {
      "cell_type": "markdown",
      "metadata": {
        "id": "sCFIAUwumd1q"
      },
      "source": [
        "### Produto Escalar"
      ]
    },
    {
      "cell_type": "markdown",
      "metadata": {
        "id": "zIWenGmsmhSS"
      },
      "source": [
        "##### Uma ferramenta menos óbvia é o produto escalar. O produto escalar de dois vetores é a soma dos produtos de seus componentes:\n"
      ]
    },
    {
      "cell_type": "code",
      "metadata": {
        "id": "eIbM2Fe2mlEa"
      },
      "source": [
        "def dot(v, w):\n",
        "  \"\"\"v_1 * w_1 + ... + v_n * w_n\"\"\"\n",
        "  return sum(v_i * w_i\n",
        "    for v_i, w_i in zip(v, w))\n"
      ],
      "execution_count": 21,
      "outputs": []
    },
    {
      "cell_type": "code",
      "metadata": {
        "colab": {
          "base_uri": "https://localhost:8080/"
        },
        "id": "rVV7jaWLmqGp",
        "outputId": "77316853-e945-449d-fa10-711f1c41f307"
      },
      "source": [
        "print(dot([1, 2, 3], [3, 2, 1]))"
      ],
      "execution_count": 22,
      "outputs": [
        {
          "output_type": "stream",
          "text": [
            "10\n"
          ],
          "name": "stdout"
        }
      ]
    },
    {
      "cell_type": "markdown",
      "metadata": {
        "id": "KIrQX12mmuwZ"
      },
      "source": [
        "##### Usando a função de produto escalar, é fácil calcular a soma dos quadrados de um vetor:\n"
      ]
    },
    {
      "cell_type": "code",
      "metadata": {
        "id": "RkkA5qdnmxAd"
      },
      "source": [
        "def sum_of_squares(v):\n",
        "  \"\"\"v_1 * v_1 + ... + v_n * v_n\"\"\"\n",
        "  return dot(v, v)"
      ],
      "execution_count": 23,
      "outputs": []
    },
    {
      "cell_type": "code",
      "metadata": {
        "colab": {
          "base_uri": "https://localhost:8080/"
        },
        "id": "gMoBnMI7m1NR",
        "outputId": "2cebc628-6a7d-4df0-de7b-c6253c3a577b"
      },
      "source": [
        "print(sum_of_squares([1, 2, 3]))"
      ],
      "execution_count": 24,
      "outputs": [
        {
          "output_type": "stream",
          "text": [
            "14\n"
          ],
          "name": "stdout"
        }
      ]
    },
    {
      "cell_type": "markdown",
      "metadata": {
        "id": "tlEWqLUMm3qi"
      },
      "source": [
        "##### O que podemos usar para calcular sua magnitude (ou comprimento):"
      ]
    },
    {
      "cell_type": "code",
      "metadata": {
        "id": "G1oGoFFYm7Qp"
      },
      "source": [
        "def magnitude(v):\n",
        "  return math.sqrt(sum_of_squares(v)) # math.sqrt is square root function"
      ],
      "execution_count": 25,
      "outputs": []
    },
    {
      "cell_type": "code",
      "metadata": {
        "colab": {
          "base_uri": "https://localhost:8080/"
        },
        "id": "s689PLF9m-oo",
        "outputId": "f0a664dc-84f8-452b-ff0c-4fa2fa1ef470"
      },
      "source": [
        "print(magnitude([1, 2, 3]))"
      ],
      "execution_count": 26,
      "outputs": [
        {
          "output_type": "stream",
          "text": [
            "3.7416573867739413\n"
          ],
          "name": "stdout"
        }
      ]
    },
    {
      "cell_type": "code",
      "metadata": {
        "id": "_HlZsGD0nFUw"
      },
      "source": [
        "def distance(v, w):\n",
        "  return magnitude(vector_subtract(v, w))"
      ],
      "execution_count": 27,
      "outputs": []
    },
    {
      "cell_type": "markdown",
      "metadata": {
        "id": "VwGrqs3MnJT4"
      },
      "source": [
        "### Matrizes\n",
        "#####Vamos representar matrizes como listas de listas, com cada lista interna com o mesmo tamanho e representando uma linha da matriz. Se A é uma matriz, então, A[i][j] é o elemento na inésima linha e na jésima coluna. Por convenção matemática, normalmente usaremos letras MAIÚSCULAS para representar matrizes.\n"
      ]
    },
    {
      "cell_type": "code",
      "metadata": {
        "colab": {
          "base_uri": "https://localhost:8080/"
        },
        "id": "qmSkZDrYnNlR",
        "outputId": "8f0a1307-2ca6-471b-fcbb-3679b78b8bd0"
      },
      "source": [
        "A = [[1, 2, 3], # A has 2 rows and 3 columns\n",
        "  [4, 5, 6]]\n",
        "\n",
        "print(\"Matriz A = \", A)\n",
        "\n",
        "B = [[1, 2], # B has 3 rows and 2 columns\n",
        "  [3, 4],\n",
        "  [5, 6]]\n",
        "  \n",
        "print(\"Matriz B = \", B)\n"
      ],
      "execution_count": 28,
      "outputs": [
        {
          "output_type": "stream",
          "text": [
            "Matriz A =  [[1, 2, 3], [4, 5, 6]]\n",
            "Matriz B =  [[1, 2], [3, 4], [5, 6]]\n"
          ],
          "name": "stdout"
        }
      ]
    },
    {
      "cell_type": "markdown",
      "metadata": {
        "id": "yi-yy0uKnVJA"
      },
      "source": [
        "##### Dada esta representação de listas de listas, a matriz A tem linhas len(A) e colunas len(A[0]), que consideramos sua forma:\n"
      ]
    },
    {
      "cell_type": "code",
      "metadata": {
        "id": "kFC9jYb2naBP"
      },
      "source": [
        "def shape(A):\n",
        "  num_rows = len(A)\n",
        "  num_cols = len(A[0]) if A else 0 # number of elements in first row\n",
        "  return num_rows, num_cols"
      ],
      "execution_count": 29,
      "outputs": []
    },
    {
      "cell_type": "code",
      "metadata": {
        "colab": {
          "base_uri": "https://localhost:8080/"
        },
        "id": "Kwion4e_nd8Z",
        "outputId": "fcffbbbd-fba7-4086-d435-48b5d8302b3a"
      },
      "source": [
        "print(shape([[1, 2, 3], [3, 2, 1]]))"
      ],
      "execution_count": 30,
      "outputs": [
        {
          "output_type": "stream",
          "text": [
            "(2, 3)\n"
          ],
          "name": "stdout"
        }
      ]
    },
    {
      "cell_type": "markdown",
      "metadata": {
        "id": "3UeLalVlnfYS"
      },
      "source": [
        "##### Se uma matriz tiver n linhas e k colunas, nós nos referiremos a ela como uma matriz \"n X k\". Podemos (e às vezes pensamos) em cada linha de uma matriz \"n X k\" como um vetor de comprimento \"k\", e cada coluna como vetor de comprimento \"n\":\n"
      ]
    },
    {
      "cell_type": "code",
      "metadata": {
        "id": "qj1m99JHniZf"
      },
      "source": [
        "def get_row(A, i):\n",
        "  return A[i] # A[i] is the ith row\n",
        "\n",
        "def get_column(A, j):\n",
        "  return [A_i[j] # jth element of row A_i\n",
        "    for A_i in A] # for each row A_i\n"
      ],
      "execution_count": 31,
      "outputs": []
    },
    {
      "cell_type": "code",
      "metadata": {
        "colab": {
          "base_uri": "https://localhost:8080/"
        },
        "id": "tVOGOMAsnmTf",
        "outputId": "a03bbebc-8b6a-407c-890c-7aefe2b5c3d5"
      },
      "source": [
        "print(get_row([[1, 2, 3], [3, 2, 1]], 1))"
      ],
      "execution_count": 32,
      "outputs": [
        {
          "output_type": "stream",
          "text": [
            "[3, 2, 1]\n"
          ],
          "name": "stdout"
        }
      ]
    },
    {
      "cell_type": "code",
      "metadata": {
        "colab": {
          "base_uri": "https://localhost:8080/"
        },
        "id": "DtzRJRhinoNn",
        "outputId": "9d5ec99e-6940-41fe-c200-c6e3aef3be8d"
      },
      "source": [
        "print(get_column([[1, 2, 3], [3, 2, 1]], 2))"
      ],
      "execution_count": 33,
      "outputs": [
        {
          "output_type": "stream",
          "text": [
            "[3, 1]\n"
          ],
          "name": "stdout"
        }
      ]
    },
    {
      "cell_type": "markdown",
      "metadata": {
        "id": "mT4wunoZnql_"
      },
      "source": [
        "##### Também queremos criar uma matriz dada a sua forma e uma função para gerar seus elementos. Podemos fazer isso usando uma list comprehension aninhada:"
      ]
    },
    {
      "cell_type": "code",
      "metadata": {
        "id": "GE4IMX7Dnwbi"
      },
      "source": [
        "def make_matrix(num_rows, num_cols, entry_fn):\n",
        "  \"\"\"returns a num_rows x num_cols matrix\n",
        "  whose (i,j)th entry is entry_fn(i, j)\"\"\"\n",
        "  return [[entry_fn(i, j) # given i, create a list\n",
        "    for j in range(num_cols)] # [entry_fn(i, 0), ... ]\n",
        "    for i in range(num_rows)] # create one list for each i"
      ],
      "execution_count": 34,
      "outputs": []
    },
    {
      "cell_type": "markdown",
      "metadata": {
        "id": "g_x6lgTZn3ag"
      },
      "source": [
        "##### Dada esta função, você pode fazer uma matriz de identidade 5 × 5 (com 1s na diagonal e 0s em outro lugar) com:"
      ]
    },
    {
      "cell_type": "code",
      "metadata": {
        "colab": {
          "base_uri": "https://localhost:8080/"
        },
        "id": "rljOjTS4n6N6",
        "outputId": "34f688d9-22bd-4b86-9aff-5ec370cfdcf4"
      },
      "source": [
        "def is_diagonal(i, j):\n",
        "  \"\"\"1's on the 'diagonal', 0's everywhere else\"\"\"\n",
        "  return 1 if i == j else 0 \n",
        "\n",
        "identity_matrix = make_matrix(5, 5, is_diagonal)\n",
        "print(identity_matrix)\n"
      ],
      "execution_count": 35,
      "outputs": [
        {
          "output_type": "stream",
          "text": [
            "[[1, 0, 0, 0, 0], [0, 1, 0, 0, 0], [0, 0, 1, 0, 0], [0, 0, 0, 1, 0], [0, 0, 0, 0, 1]]\n"
          ],
          "name": "stdout"
        }
      ]
    },
    {
      "cell_type": "markdown",
      "metadata": {
        "id": "rhGOCoAgoDiZ"
      },
      "source": [
        "##### Matrizes serão importantes para nós por vários motivos. Podemos usar uma matriz para representar um conjunto de dados que consiste de vários vetores, simplesmente considerando cada vetor como uma linha da matriz. Por exemplo, se você tivesse as alturas, pesos e idades de 1.000 pessoas, você poderia colocálas em uma matriz 1.000X3: \n",
        "##### data =\n",
        "##### [[70, 170, 40],\n",
        "##### [65, 120, 26],\n",
        "##### [77, 250, 19],\n",
        "##### ....\n",
        "##### ]\n"
      ]
    },
    {
      "cell_type": "markdown",
      "metadata": {
        "id": "HHaqym-6oT_l"
      },
      "source": [
        "##### Matrizes podem ser usadas para representar relacionamentos binários. Na primeira aula, representamos as conexões de uma rede como uma coleção de pares (i, j). Uma representação alternativa seria criar uma matriz A tal que A[i][j] seja 1 se os nós i e j estiverem conectados e 0 caso contrário. Lembre-se que antes de termos:\n"
      ]
    },
    {
      "cell_type": "code",
      "metadata": {
        "id": "TFopD5DroYDG"
      },
      "source": [
        "friendships = [(0, 1), (0, 2), (1, 2), (1, 3), (2, 3), (3, 4),\n",
        "  (4, 5), (5, 6), (5, 7), (6, 8), (7, 8), (8, 9)]"
      ],
      "execution_count": 36,
      "outputs": []
    },
    {
      "cell_type": "code",
      "metadata": {
        "colab": {
          "base_uri": "https://localhost:8080/"
        },
        "id": "a4-KGhMmocKc",
        "outputId": "4ad9cf08-cd4b-4f09-add5-35dd66b00d7b"
      },
      "source": [
        "print(friendships)"
      ],
      "execution_count": 37,
      "outputs": [
        {
          "output_type": "stream",
          "text": [
            "[(0, 1), (0, 2), (1, 2), (1, 3), (2, 3), (3, 4), (4, 5), (5, 6), (5, 7), (6, 8), (7, 8), (8, 9)]\n"
          ],
          "name": "stdout"
        }
      ]
    },
    {
      "cell_type": "markdown",
      "metadata": {
        "id": "qI-W7bOUoeLU"
      },
      "source": [
        "##### Também podemos representar como:"
      ]
    },
    {
      "cell_type": "code",
      "metadata": {
        "id": "QeWX7Y4Lofdv"
      },
      "source": [
        "# user 0 1 2 3 4 5 6 7 8 9\n",
        "friendships = [[0, 1, 1, 0, 0, 0, 0, 0, 0, 0], # user 0\n",
        "  [1, 0, 1, 1, 0, 0, 0, 0, 0, 0], # user 1\n",
        "  [1, 1, 0, 1, 0, 0, 0, 0, 0, 0], # user 2\n",
        "  [0, 1, 1, 0, 1, 0, 0, 0, 0, 0], # user 3\n",
        "  [0, 0, 0, 1, 0, 1, 0, 0, 0, 0], # user 4\n",
        "  [0, 0, 0, 0, 1, 0, 1, 1, 0, 0], # user 5\n",
        "  [0, 0, 0, 0, 0, 1, 0, 0, 1, 0], # user 6\n",
        "  [0, 0, 0, 0, 0, 1, 0, 0, 1, 0], # user 7\n",
        "  [0, 0, 0, 0, 0, 0, 1, 1, 0, 1], # user 8\n",
        "  [0, 0, 0, 0, 0, 0, 0, 0, 1, 0]] # user 9\n"
      ],
      "execution_count": 38,
      "outputs": []
    },
    {
      "cell_type": "code",
      "metadata": {
        "colab": {
          "base_uri": "https://localhost:8080/"
        },
        "id": "rmAyT3nsolqO",
        "outputId": "445611f4-a367-405b-ffdd-7695a2506df5"
      },
      "source": [
        "print(friendships)"
      ],
      "execution_count": 39,
      "outputs": [
        {
          "output_type": "stream",
          "text": [
            "[[0, 1, 1, 0, 0, 0, 0, 0, 0, 0], [1, 0, 1, 1, 0, 0, 0, 0, 0, 0], [1, 1, 0, 1, 0, 0, 0, 0, 0, 0], [0, 1, 1, 0, 1, 0, 0, 0, 0, 0], [0, 0, 0, 1, 0, 1, 0, 0, 0, 0], [0, 0, 0, 0, 1, 0, 1, 1, 0, 0], [0, 0, 0, 0, 0, 1, 0, 0, 1, 0], [0, 0, 0, 0, 0, 1, 0, 0, 1, 0], [0, 0, 0, 0, 0, 0, 1, 1, 0, 1], [0, 0, 0, 0, 0, 0, 0, 0, 1, 0]]\n"
          ],
          "name": "stdout"
        }
      ]
    }
  ]
}