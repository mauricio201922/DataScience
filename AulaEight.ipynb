{
  "nbformat": 4,
  "nbformat_minor": 0,
  "metadata": {
    "colab": {
      "name": "AulaEight.ipynb",
      "provenance": [],
      "collapsed_sections": [],
      "toc_visible": true,
      "mount_file_id": "17A9ei7_6wmLG2GC6Y1tX4bozIIs2fft1",
      "authorship_tag": "ABX9TyMUJZpqwE+WUf7smbEW000m",
      "include_colab_link": true
    },
    "kernelspec": {
      "name": "python3",
      "display_name": "Python 3"
    },
    "language_info": {
      "name": "python"
    }
  },
  "cells": [
    {
      "cell_type": "markdown",
      "metadata": {
        "id": "view-in-github",
        "colab_type": "text"
      },
      "source": [
        "<a href=\"https://colab.research.google.com/github/mauricio201922/DataScience/blob/main/AulaEight.ipynb\" target=\"_parent\"><img src=\"https://colab.research.google.com/assets/colab-badge.svg\" alt=\"Open In Colab\"/></a>"
      ]
    },
    {
      "cell_type": "markdown",
      "metadata": {
        "id": "mp2rIPUR1xRL"
      },
      "source": [
        "# Obtendo dados"
      ]
    },
    {
      "cell_type": "markdown",
      "metadata": {
        "id": "ZtQKG-y910xz"
      },
      "source": [
        "Para ser um cientista de dados, você precisa de dados. Na verdade, como cientista de dados, você gastará\n",
        "uma grande parte do tempo adquirindo, limpando e transformando dados."
      ]
    },
    {
      "cell_type": "markdown",
      "metadata": {
        "id": "IcTvtZaz12Za"
      },
      "source": [
        "### stdin e stdout"
      ]
    },
    {
      "cell_type": "markdown",
      "metadata": {
        "id": "4ViNh8R215ES"
      },
      "source": [
        "Se você executar seus scripts Python na linha de comando, poderá canalizar dados através deles usando\n",
        "sys.stdin e sys.stdout.\n",
        "\n",
        "Por exemplo, aqui está um script que lê linhas de texto e mostra as que correspondem a uma expressão\n",
        "regular:"
      ]
    },
    {
      "cell_type": "code",
      "metadata": {
        "id": "yyCoFCCd1_u5"
      },
      "source": [
        "# egrep.py\n",
        "import sys, re\n",
        "\n",
        "# sys.argv is the list of command-line arguments\n",
        "# sys.argv[0] is the name of the program itself\n",
        "# sys.argv[1] will be the regex specified at the command line\n",
        "regex = sys.argv[1]\n",
        "\n",
        "# for every line passed into the script\n",
        "for line in sys.stdin:\n",
        "  \n",
        "  # if it matches the regex, write it to stdout\n",
        "  if re.search(regex, line):\n",
        "    sys.stdout.write(line)"
      ],
      "execution_count": 26,
      "outputs": []
    },
    {
      "cell_type": "markdown",
      "metadata": {
        "id": "KCL33Dm82SWa"
      },
      "source": [
        "E aqui está um outro script que conta as linhas que recebe e depois escreve a contagem:"
      ]
    },
    {
      "cell_type": "code",
      "metadata": {
        "colab": {
          "base_uri": "https://localhost:8080/"
        },
        "id": "FfF1L4Qg2UDi",
        "outputId": "6f6236e1-24be-4d9a-d484-d4f95791ebf2"
      },
      "source": [
        "# line_count.py\n",
        "import sys\n",
        "\n",
        "count = 0\n",
        "\n",
        "for line in sys.stdin:\n",
        "  count += 1\n",
        "\n",
        "# print goes to sys.stdout\n",
        "print(count)"
      ],
      "execution_count": 27,
      "outputs": [
        {
          "output_type": "stream",
          "text": [
            "0\n"
          ],
          "name": "stdout"
        }
      ]
    },
    {
      "cell_type": "markdown",
      "metadata": {
        "id": "N57D4vUF2boZ"
      },
      "source": [
        "enquanto que em um sistema Unix você usaria:"
      ]
    },
    {
      "cell_type": "code",
      "metadata": {
        "colab": {
          "base_uri": "https://localhost:8080/"
        },
        "id": "CROHTSa92dBi",
        "outputId": "62c0822c-3734-4aa7-9f32-a28166dbc7f8"
      },
      "source": [
        "!cat uscensus.txt | python egrep.py \"[0-9]\" | python line_count.py"
      ],
      "execution_count": 38,
      "outputs": [
        {
          "output_type": "stream",
          "text": [
            "4665\n"
          ],
          "name": "stdout"
        }
      ]
    },
    {
      "cell_type": "markdown",
      "metadata": {
        "id": "03JAp5jNC-co"
      },
      "source": [
        "Da mesma forma, aqui está um script que conta as palavras em sua entrada e escreve as mais comuns:"
      ]
    },
    {
      "cell_type": "code",
      "metadata": {
        "colab": {
          "base_uri": "https://localhost:8080/",
          "height": 129
        },
        "id": "bFa134grC-73",
        "outputId": "d6d43e8f-5c7c-4dc8-9d31-9dee9ba2ada9"
      },
      "source": [
        "# most_common_words.py\n",
        "import sys\n",
        "\n",
        "from collections import Counter\n",
        "# pass in number of words as first argument\n",
        "\n",
        "try:\n",
        "  num_words = int(sys.argv[1])\n",
        "except:\n",
        "  print(\"usage: most_common_words.py num_words\")\n",
        "  sys.exit(1) # non-zero exit code indicates error\n",
        "\n",
        "counter = Counter(word.lower() \n",
        "  for line in sys.stdin \n",
        "  for word in line.strip().split() \n",
        "  if word)\n",
        "\n",
        "for word, count in counter.most_common(num_words):\n",
        "  sys.stdout.write(str(count))\n",
        "  sys.stdout.write(\"\\t\")\n",
        "  sys.stdout.write(word)\n",
        "  sys.stdout.write(\"\\n\")"
      ],
      "execution_count": 43,
      "outputs": [
        {
          "output_type": "error",
          "ename": "SyntaxError",
          "evalue": "ignored",
          "traceback": [
            "\u001b[0;36m  File \u001b[0;32m\"<ipython-input-43-4578d2b0ece7>\"\u001b[0;36m, line \u001b[0;32m14\u001b[0m\n\u001b[0;31m    for line in sys.stdin:\u001b[0m\n\u001b[0m                         ^\u001b[0m\n\u001b[0;31mSyntaxError\u001b[0m\u001b[0;31m:\u001b[0m invalid syntax\n"
          ]
        }
      ]
    },
    {
      "cell_type": "markdown",
      "metadata": {
        "id": "h_-OJstVDlkA"
      },
      "source": [
        "after which you could do something like:"
      ]
    },
    {
      "cell_type": "code",
      "metadata": {
        "colab": {
          "base_uri": "https://localhost:8080/"
        },
        "id": "utWsH7xPDmJm",
        "outputId": "b3bb0fd3-b22f-408f-eb3b-27a72ef39a7c"
      },
      "source": [
        "!cat uscensus.txt | python most_common_words.py 10"
      ],
      "execution_count": 48,
      "outputs": [
        {
          "output_type": "stream",
          "text": [
            "919\tto\n",
            "768\tof\n",
            "663\tpercent\n",
            "561\ttotal\n",
            "409\tand\n",
            "408\tyears...........................................\n",
            "408\tor\n",
            "307\tpersons\n",
            "307\thousing\n",
            "307\toccupied\n"
          ],
          "name": "stdout"
        }
      ]
    },
    {
      "cell_type": "markdown",
      "metadata": {
        "id": "8eaBWGQ-JBEI"
      },
      "source": [
        "### Lendo arquivos"
      ]
    },
    {
      "cell_type": "markdown",
      "metadata": {
        "id": "0GpF9IXpJCVi"
      },
      "source": [
        "Você também pode ler explicitamente e gravar em arquivos diretamente no seu código. O Python torna o\n",
        "trabalho com arquivos bastante simples."
      ]
    },
    {
      "cell_type": "markdown",
      "metadata": {
        "id": "K2N1huHsJGRX"
      },
      "source": [
        "##### Noções básicas de arquivos de texto"
      ]
    },
    {
      "cell_type": "markdown",
      "metadata": {
        "id": "d2Jc9U0HJLMG"
      },
      "source": [
        "O primeiro passo para trabalhar com um arquivo de texto é obter um objeto de arquivo usando open:"
      ]
    },
    {
      "cell_type": "code",
      "metadata": {
        "id": "verso_PMJMMu"
      },
      "source": [
        "# 'r' means read-only\n",
        "file_for_reading = open('/content/ArquivosTXT/appending_file.txt', 'r')\n",
        "\n",
        "# 'w' is write — will destroy the file if it already exists!\n",
        "file_for_writing = open('/content/ArquivosTXT/writing_file.txt', 'w')\n",
        "\n",
        "# 'a' is append — for adding to the end of the file\n",
        "file_for_appending = open('/content/ArquivosTXT/appending_file.txt', 'a')\n",
        "\n",
        "# don't forget to close your files when you're done\n",
        "file_for_writing.close()"
      ],
      "execution_count": 52,
      "outputs": []
    },
    {
      "cell_type": "markdown",
      "metadata": {
        "id": "U6WzVNlMKvR7"
      },
      "source": [
        "Como é fácil esquecer de fechar seus arquivos, você deve sempre usá-los em um bloco \"with\" pois ao final\n",
        "eles serão fechados automaticamente:"
      ]
    },
    {
      "cell_type": "code",
      "metadata": {
        "id": "SHVvEXOfKvnr"
      },
      "source": [
        "with open('/content/ArquivosTXT/appending_file.txt','r') as f:\n",
        "  data = f\n",
        "\n",
        "# at this point f has already been closed, so don't try to use it\n",
        "process(data)"
      ],
      "execution_count": null,
      "outputs": []
    },
    {
      "cell_type": "markdown",
      "metadata": {
        "id": "Htg-N-_lNK4l"
      },
      "source": [
        "Se você precisar ler um arquivo de texto inteiro, basta fazer uma iteração nas linhas do arquivo usando:"
      ]
    },
    {
      "cell_type": "code",
      "metadata": {
        "id": "civsaNN7NMlz"
      },
      "source": [
        "starts_with_hash = 0\n",
        "\n",
        "with open('input.txt','r') as f:\n",
        "  for line in file: # look at each line in the file\n",
        "    if re.match(\"^#\",line): # use a regex to see if it starts with '#'\n",
        "\n",
        "      starts_with_hash += 1 # if it does, add 1 to the count"
      ],
      "execution_count": null,
      "outputs": []
    },
    {
      "cell_type": "markdown",
      "metadata": {
        "id": "o1X2Y27FNapT"
      },
      "source": [
        "Cada linha que você recebe dessa maneira termina em um caractere de nova linha, então você\n",
        "frequentemente vai querer limpar antes de fazer qualquer coisa com ela.\n",
        "\n",
        "Por exemplo, imagine que você tenha um arquivo cheio de endereços de e-mail, um por linha, e que você\n",
        "precise gerar um histograma dos domínios.\n",
        "Uma boa maneira é apenas pegar as partes dos endereços de e-mail que vêm depois do @."
      ]
    },
    {
      "cell_type": "code",
      "metadata": {
        "id": "uTl9LsfpNc-M"
      },
      "source": [
        "def get_domain(email_address):\n",
        "  \"\"\"split on '@' and return the last piece\"\"\"\n",
        "  return email_address.lower().split(\"@\")[-1]\n",
        "\n",
        "with open('email_addresses.txt', 'r') as f:\n",
        "  domain_counts = Counter(get_domain(line.strip())\n",
        "  for line in f\n",
        "  if \"@\" in line)"
      ],
      "execution_count": null,
      "outputs": []
    },
    {
      "cell_type": "code",
      "metadata": {
        "id": "EoF8jMYcNms6"
      },
      "source": [
        "domain_counts"
      ],
      "execution_count": null,
      "outputs": []
    },
    {
      "cell_type": "markdown",
      "metadata": {
        "id": "ndDlKG_mNvLj"
      },
      "source": [
        "##### Arquivos Delimitados"
      ]
    },
    {
      "cell_type": "markdown",
      "metadata": {
        "id": "-HjzZ2m9NyWQ"
      },
      "source": [
        "O arquivo hipotético de endereços de e-mail que acabamos de processar tinha um endereço por linha. Com\n",
        "mais frequência, você trabalha com arquivos com muitos dados em cada linha. Esses arquivos geralmente\n",
        "são separados por vírgulas ou separados por tabulações. Cada linha possui vários campos, com uma\n",
        "vírgula (ou uma tabulação) indicando onde um campo termina e o próximo campo é iniciado\n",
        "\n",
        "Isso começa a ficar complicado quando você tem campos com vírgulas e tabulações e novas linhas neles (o\n",
        "que você inevitavelmente faz). Por esse motivo, é quase sempre um erro tentar analisá-las você mesmo.\n",
        "\n",
        "Em vez disso, você deve usar o módulo csv do Python (ou a biblioteca pandas).\n",
        "É sempre uma boa prática trabalhar com arquivos csv no modo binário, incluindo um b após r ou w.\n",
        "\n",
        "Se o seu arquivo não tiver cabeçalhos, use csv.reader para iterar nas linhas, cada uma delas será uma lista\n",
        "dividida apropriadamente. Por exemplo, se tivéssemos um arquivo de preços de ações delimitado por\n",
        "tabulações:"
      ]
    },
    {
      "cell_type": "markdown",
      "metadata": {
        "id": "On3D32chPDOw"
      },
      "source": [
        "nós poderíamos processá-los com:"
      ]
    },
    {
      "cell_type": "code",
      "metadata": {
        "colab": {
          "base_uri": "https://localhost:8080/"
        },
        "id": "gpm5LnYxN6Ma",
        "outputId": "3d2882e9-4238-4887-ee0c-15ce3a6b0210"
      },
      "source": [
        "import csv\n",
        "\n",
        "with open('/content/ArquivosTXT/tab_delimited_stock_prices.txt', 'r') as f:\n",
        "  reader = csv.reader(f, delimiter='\\t')\n",
        "  for row in reader:\n",
        "    date = row[0]\n",
        "    symbol = row[1]\n",
        "    closing_price = float(row[2])\n",
        "    print(date, symbol, closing_price)"
      ],
      "execution_count": 74,
      "outputs": [
        {
          "output_type": "stream",
          "text": [
            "6/20/2014 AAPL 90.91\n",
            "6/20/2014 MSFT 41.68\n",
            "6/20/2014 FB 64.5\n",
            "6/19/2014 AAPL 91.86\n",
            "6/19/2014 MSFT 41.51\n",
            "6/19/2014 FB 64.34\n"
          ],
          "name": "stdout"
        }
      ]
    },
    {
      "cell_type": "markdown",
      "metadata": {
        "id": "xpM5_Wk6R7wv"
      },
      "source": [
        "Se o seu arquivo tiver cabeçalhos:"
      ]
    },
    {
      "cell_type": "code",
      "metadata": {
        "colab": {
          "base_uri": "https://localhost:8080/",
          "height": 129
        },
        "id": "ZhHlyqbfR8Y3",
        "outputId": "ce00c3a0-36af-407a-80ea-c2d141a34863"
      },
      "source": [
        "date:symbol:closing_price\n",
        "6/20/2014:AAPL:90.91\n",
        "6/20/2014:MSFT:41.68\n",
        "6/20/2014:FB:64.5"
      ],
      "execution_count": 75,
      "outputs": [
        {
          "output_type": "error",
          "ename": "SyntaxError",
          "evalue": "ignored",
          "traceback": [
            "\u001b[0;36m  File \u001b[0;32m\"<ipython-input-75-cdda1635a397>\"\u001b[0;36m, line \u001b[0;32m1\u001b[0m\n\u001b[0;31m    date:symbol:closing_price\u001b[0m\n\u001b[0m               ^\u001b[0m\n\u001b[0;31mSyntaxError\u001b[0m\u001b[0;31m:\u001b[0m invalid syntax\n"
          ]
        }
      ]
    },
    {
      "cell_type": "markdown",
      "metadata": {
        "id": "-g_i17wRRlAK"
      },
      "source": [
        "você pode ignorar a linha de cabeçalho (com uma chamada inicial para reader.next ()) ou obter cada linha\n",
        "como um dict (com os cabeçalhos como chaves) usando csv.DictReader:"
      ]
    },
    {
      "cell_type": "code",
      "metadata": {
        "colab": {
          "base_uri": "https://localhost:8080/"
        },
        "id": "VaI1nVMjRpc3",
        "outputId": "33b2a210-529e-4a2d-f1b0-f416ae09e37d"
      },
      "source": [
        "with open('/content/ArquivosTXT/colon_delimited_stock_prices.txt', 'r') as f:\n",
        "  reader = csv.DictReader(f, delimiter=':')\n",
        "  for row in reader:\n",
        "    date = row[\"date\"]\n",
        "    symbol = row[\"symbol\"]\n",
        "    closing_price = float(row[\"closing_price\"])\n",
        "    print(date, symbol, closing_price)"
      ],
      "execution_count": 80,
      "outputs": [
        {
          "output_type": "stream",
          "text": [
            "6/20/2014 AAPL 90.91\n",
            "6/20/2014 MSFT 41.68\n",
            "6/20/2014 FB 64.5\n"
          ],
          "name": "stdout"
        }
      ]
    },
    {
      "cell_type": "markdown",
      "metadata": {
        "id": "Gbe_v2edSrj3"
      },
      "source": [
        "Mesmo que seu arquivo não tenha cabeçalhos, você ainda poderá usar o DictReader passando as chaves\n",
        "como um parâmetro de nome de campo.\n",
        "Você também pode gravar dados delimitados usando csv.writer:"
      ]
    },
    {
      "cell_type": "code",
      "metadata": {
        "id": "mf-pCGD6SsGF"
      },
      "source": [
        "today_prices = { 'AAPL' : 90.91, 'MSFT' : 41.68, 'FB' : 64.5 }\n",
        "with open('comma_delimited_stock_prices.txt','w') as f:\n",
        "  writer = csv.writer(f, delimiter='\\t')\n",
        "  for stock, price in today_prices.items():\n",
        "    writer.writerow([stock, price])"
      ],
      "execution_count": 81,
      "outputs": []
    },
    {
      "cell_type": "markdown",
      "metadata": {
        "id": "LChTWet4S1Ud"
      },
      "source": [
        "csv.writer fará a coisa certa se seus campos tiverem vírgulas neles. Seu próprio escritor programado à mão\n",
        "provavelmente não vai fazer corretamente. Por exemplo, se você tentar:"
      ]
    },
    {
      "cell_type": "code",
      "metadata": {
        "id": "zS__CmwoS1zt"
      },
      "source": [
        "results = [[\"test1\", \"success\", \"Monday\"],\n",
        "          [\"test2\", \"success, kind of\", \"Tuesday\"],\n",
        "          [\"test3\", \"failure, kind of\", \"Wednesday\"],\n",
        "          [\"test4\", \"failure, utter\", \"Thursday\"]]\n",
        "\n",
        "# don't do this!\n",
        "with open('bad_csv.txt', 'w') as f:\n",
        "  for row in results:\n",
        "    f.write(\",\".join(map(str, row))) # might have too many commas in it!\n",
        "    f.write(\"\\n\") # row might have newlines as well!"
      ],
      "execution_count": 82,
      "outputs": []
    },
    {
      "cell_type": "markdown",
      "metadata": {
        "id": "_sRb0Vm_TDLM"
      },
      "source": [
        "Você vai acabar com um arquivo csv que se parece com:"
      ]
    },
    {
      "cell_type": "code",
      "metadata": {
        "colab": {
          "base_uri": "https://localhost:8080/"
        },
        "id": "Bn5MZI6sTRaE",
        "outputId": "21ab245c-c38e-4a66-98fe-769bf98a6fef"
      },
      "source": [
        "!cat bad_csv.txt"
      ],
      "execution_count": 83,
      "outputs": [
        {
          "output_type": "stream",
          "text": [
            "test1,success,Monday\n",
            "test2,success, kind of,Tuesday\n",
            "test3,failure, kind of,Wednesday\n",
            "test4,failure, utter,Thursday\n"
          ],
          "name": "stdout"
        }
      ]
    },
    {
      "cell_type": "markdown",
      "metadata": {
        "id": "EAe9WTyJTW17"
      },
      "source": [
        "e que ninguém nunca será capaz de entender."
      ]
    },
    {
      "cell_type": "markdown",
      "metadata": {
        "id": "ixg4o7T1TXh1"
      },
      "source": [
        "### Raspando (scraping) a web"
      ]
    },
    {
      "cell_type": "markdown",
      "metadata": {
        "id": "JUBuzPDTTZ_E"
      },
      "source": [
        "Outra maneira de obter dados é raspando-os de páginas da web. Buscar páginas da web é bem fácil;\n",
        "obtendo informação estruturada significativa fora deles menos."
      ]
    },
    {
      "cell_type": "markdown",
      "metadata": {
        "id": "vnZke87-Tbar"
      },
      "source": [
        "##### HTML e seu entendimento"
      ]
    },
    {
      "cell_type": "markdown",
      "metadata": {
        "id": "_mncytWlTdhu"
      },
      "source": [
        "Páginas na Web são escritas em HTML, em que o texto é (idealmente) marcado em elementos e seus\n",
        "atributos:"
      ]
    },
    {
      "cell_type": "markdown",
      "metadata": {
        "id": "dg03Q2dcUdcJ"
      },
      "source": [
        "Em um mundo perfeito, onde todas as páginas da Web são marcadas semanticamente em nosso benefício,\n",
        "poderíamos extrair dados usando regras como \"encontre o elemento < p> cujo id está sujeito e retorne o\n",
        "texto que ele contém\". No mundo real HTML não é geralmente bem formado, muito menos anotado. Isso\n",
        "significa que precisaremos de ajuda para entender isso.\n",
        "\n",
        "Para obter dados de HTML, usaremos a biblioteca BeautifulSoup, que constrói uma árvore a partir dos\n",
        "vários elementos em uma página da Web e fornece uma interface simples para acessá-los. Enquanto\n",
        "escrevo isso, a última versão é Beautiful Soup 4.3.2 (pip install beautifulsoup4), que é o que vamos usar.\n",
        "Também usaremos a biblioteca de solicitações (solicitações de instalação de pip), que é uma maneira muito\n",
        "mais agradável de fazer solicitações HTTP do que qualquer outra que esteja incorporada ao Python.\n",
        "\n",
        "O analisador de HTML interno do Python não é tão tolerante, o que significa que nem sempre combina bem\n",
        "com HTML que não está perfeitamente formado. Por esse motivo, usaremos um analisador diferente, que\n",
        "precisamos instalar:"
      ]
    },
    {
      "cell_type": "code",
      "metadata": {
        "colab": {
          "base_uri": "https://localhost:8080/"
        },
        "id": "cgv-5zlRUfTw",
        "outputId": "520ecc84-64f6-40a0-e4c6-3c5b7a66620f"
      },
      "source": [
        "!pip3 install html5lib\n",
        "!pip3 install beautifulsoup4\n",
        "!pip3 install requests"
      ],
      "execution_count": 84,
      "outputs": [
        {
          "output_type": "stream",
          "text": [
            "Requirement already satisfied: html5lib in /usr/local/lib/python3.7/dist-packages (1.0.1)\n",
            "Requirement already satisfied: webencodings in /usr/local/lib/python3.7/dist-packages (from html5lib) (0.5.1)\n",
            "Requirement already satisfied: six>=1.9 in /usr/local/lib/python3.7/dist-packages (from html5lib) (1.15.0)\n",
            "Requirement already satisfied: beautifulsoup4 in /usr/local/lib/python3.7/dist-packages (4.6.3)\n",
            "Requirement already satisfied: requests in /usr/local/lib/python3.7/dist-packages (2.23.0)\n",
            "Requirement already satisfied: certifi>=2017.4.17 in /usr/local/lib/python3.7/dist-packages (from requests) (2020.12.5)\n",
            "Requirement already satisfied: idna<3,>=2.5 in /usr/local/lib/python3.7/dist-packages (from requests) (2.10)\n",
            "Requirement already satisfied: chardet<4,>=3.0.2 in /usr/local/lib/python3.7/dist-packages (from requests) (3.0.4)\n",
            "Requirement already satisfied: urllib3!=1.25.0,!=1.25.1,<1.26,>=1.21.1 in /usr/local/lib/python3.7/dist-packages (from requests) (1.24.3)\n"
          ],
          "name": "stdout"
        }
      ]
    },
    {
      "cell_type": "markdown",
      "metadata": {
        "id": "NC5xzG6xUqbg"
      },
      "source": [
        "Para usar o Beautiful Soup, precisamos passar um pouco de HTML para a função BeautifulSoup (). Em\n",
        "nossos exemplos, isso será o resultado de uma chamada para requests.get:"
      ]
    },
    {
      "cell_type": "code",
      "metadata": {
        "id": "8bqjSyd-Uqun"
      },
      "source": [
        "from bs4 import BeautifulSoup\n",
        "import requests\n",
        "html = requests.get(\"http://www.example.com\").text\n",
        "soup = BeautifulSoup(html, 'html5lib')"
      ],
      "execution_count": 85,
      "outputs": []
    },
    {
      "cell_type": "markdown",
      "metadata": {
        "id": "yHex_jHdUvvH"
      },
      "source": [
        "Depois disso, podemos ir muito longe usando alguns métodos simples. Normalmente, trabalhamos com os\n",
        "objetos Tag, que correspondem às tags que representam a estrutura de uma página HTML. Por exemplo,\n",
        "para encontrar a primeira tag(e seu conteúdo), você pode usar:"
      ]
    },
    {
      "cell_type": "code",
      "metadata": {
        "id": "uKY7NV2RU2xn"
      },
      "source": [
        "first_paragraph = soup.find('p') # or just soup.p"
      ],
      "execution_count": 86,
      "outputs": []
    },
    {
      "cell_type": "code",
      "metadata": {
        "colab": {
          "base_uri": "https://localhost:8080/"
        },
        "id": "6v8-lVl8U5XH",
        "outputId": "90fbeed3-7513-406e-dd3f-36b3e5de169f"
      },
      "source": [
        "print(first_paragraph)"
      ],
      "execution_count": 87,
      "outputs": [
        {
          "output_type": "stream",
          "text": [
            "<p>This domain is for use in illustrative examples in documents. You may use this\n",
            "    domain in literature without prior coordination or asking for permission.</p>\n"
          ],
          "name": "stdout"
        }
      ]
    },
    {
      "cell_type": "markdown",
      "metadata": {
        "id": "58ORGsGrVBuI"
      },
      "source": [
        "Você pode obter o conteúdo de texto de um Tag usando sua propriedade text:"
      ]
    },
    {
      "cell_type": "code",
      "metadata": {
        "id": "6v53m7KDVCLj"
      },
      "source": [
        "first_paragraph_text = soup.p.text\n",
        "first_paragraph_words = soup.p.text.split()"
      ],
      "execution_count": 88,
      "outputs": []
    },
    {
      "cell_type": "code",
      "metadata": {
        "colab": {
          "base_uri": "https://localhost:8080/",
          "height": 52
        },
        "id": "-oRWszyQXURR",
        "outputId": "42b29982-7dbf-43a5-ac0d-f63f70d08ae4"
      },
      "source": [
        "first_paragraph_text"
      ],
      "execution_count": 89,
      "outputs": [
        {
          "output_type": "execute_result",
          "data": {
            "application/vnd.google.colaboratory.intrinsic+json": {
              "type": "string"
            },
            "text/plain": [
              "'This domain is for use in illustrative examples in documents. You may use this\\n    domain in literature without prior coordination or asking for permission.'"
            ]
          },
          "metadata": {
            "tags": []
          },
          "execution_count": 89
        }
      ]
    },
    {
      "cell_type": "code",
      "metadata": {
        "colab": {
          "base_uri": "https://localhost:8080/"
        },
        "id": "QAbzI-C3XYPx",
        "outputId": "7acccf21-92f3-47ff-8db3-ac346120f3a3"
      },
      "source": [
        "first_paragraph_words"
      ],
      "execution_count": 90,
      "outputs": [
        {
          "output_type": "execute_result",
          "data": {
            "text/plain": [
              "['This',\n",
              " 'domain',\n",
              " 'is',\n",
              " 'for',\n",
              " 'use',\n",
              " 'in',\n",
              " 'illustrative',\n",
              " 'examples',\n",
              " 'in',\n",
              " 'documents.',\n",
              " 'You',\n",
              " 'may',\n",
              " 'use',\n",
              " 'this',\n",
              " 'domain',\n",
              " 'in',\n",
              " 'literature',\n",
              " 'without',\n",
              " 'prior',\n",
              " 'coordination',\n",
              " 'or',\n",
              " 'asking',\n",
              " 'for',\n",
              " 'permission.']"
            ]
          },
          "metadata": {
            "tags": []
          },
          "execution_count": 90
        }
      ]
    },
    {
      "cell_type": "markdown",
      "metadata": {
        "id": "pwfZ281gXbNh"
      },
      "source": [
        "E você pode extrair os atributos de uma tag tratando-a como um dict:"
      ]
    },
    {
      "cell_type": "code",
      "metadata": {
        "colab": {
          "base_uri": "https://localhost:8080/",
          "height": 299
        },
        "id": "788CR2XRXbkB",
        "outputId": "a7c862a2-4a9a-473c-9703-3867c1c554be"
      },
      "source": [
        "first_paragraph_id = soup.p['id'] # raises KeyError if no 'id'\n",
        "first_paragraph_id2 = soup.p.get('id') # returns None if no 'id'"
      ],
      "execution_count": 91,
      "outputs": [
        {
          "output_type": "error",
          "ename": "KeyError",
          "evalue": "ignored",
          "traceback": [
            "\u001b[0;31m---------------------------------------------------------------------------\u001b[0m",
            "\u001b[0;31mKeyError\u001b[0m                                  Traceback (most recent call last)",
            "\u001b[0;32m<ipython-input-91-a2e731f68775>\u001b[0m in \u001b[0;36m<module>\u001b[0;34m()\u001b[0m\n\u001b[0;32m----> 1\u001b[0;31m \u001b[0mfirst_paragraph_id\u001b[0m \u001b[0;34m=\u001b[0m \u001b[0msoup\u001b[0m\u001b[0;34m.\u001b[0m\u001b[0mp\u001b[0m\u001b[0;34m[\u001b[0m\u001b[0;34m'id'\u001b[0m\u001b[0;34m]\u001b[0m \u001b[0;31m# raises KeyError if no 'id'\u001b[0m\u001b[0;34m\u001b[0m\u001b[0;34m\u001b[0m\u001b[0m\n\u001b[0m\u001b[1;32m      2\u001b[0m \u001b[0mfirst_paragraph_id2\u001b[0m \u001b[0;34m=\u001b[0m \u001b[0msoup\u001b[0m\u001b[0;34m.\u001b[0m\u001b[0mp\u001b[0m\u001b[0;34m.\u001b[0m\u001b[0mget\u001b[0m\u001b[0;34m(\u001b[0m\u001b[0;34m'id'\u001b[0m\u001b[0;34m)\u001b[0m \u001b[0;31m# returns None if no 'id'\u001b[0m\u001b[0;34m\u001b[0m\u001b[0;34m\u001b[0m\u001b[0m\n",
            "\u001b[0;32m/usr/local/lib/python3.7/dist-packages/bs4/element.py\u001b[0m in \u001b[0;36m__getitem__\u001b[0;34m(self, key)\u001b[0m\n\u001b[1;32m   1069\u001b[0m         \"\"\"tag[key] returns the value of the 'key' attribute for the tag,\n\u001b[1;32m   1070\u001b[0m         and throws an exception if it's not there.\"\"\"\n\u001b[0;32m-> 1071\u001b[0;31m         \u001b[0;32mreturn\u001b[0m \u001b[0mself\u001b[0m\u001b[0;34m.\u001b[0m\u001b[0mattrs\u001b[0m\u001b[0;34m[\u001b[0m\u001b[0mkey\u001b[0m\u001b[0;34m]\u001b[0m\u001b[0;34m\u001b[0m\u001b[0;34m\u001b[0m\u001b[0m\n\u001b[0m\u001b[1;32m   1072\u001b[0m \u001b[0;34m\u001b[0m\u001b[0m\n\u001b[1;32m   1073\u001b[0m     \u001b[0;32mdef\u001b[0m \u001b[0m__iter__\u001b[0m\u001b[0;34m(\u001b[0m\u001b[0mself\u001b[0m\u001b[0;34m)\u001b[0m\u001b[0;34m:\u001b[0m\u001b[0;34m\u001b[0m\u001b[0;34m\u001b[0m\u001b[0m\n",
            "\u001b[0;31mKeyError\u001b[0m: 'id'"
          ]
        }
      ]
    },
    {
      "cell_type": "markdown",
      "metadata": {
        "id": "vfdEfG4NXgFA"
      },
      "source": [
        "Você pode obter várias tags de uma só vez:"
      ]
    },
    {
      "cell_type": "code",
      "metadata": {
        "id": "oB_aiu-cXgTJ"
      },
      "source": [
        "all_paragraphs = soup.find_all('p') # or just soup('p')\n",
        "paragraphs_with_ids = [p for p in soup('p') if p.get('id')]"
      ],
      "execution_count": 92,
      "outputs": []
    },
    {
      "cell_type": "code",
      "metadata": {
        "colab": {
          "base_uri": "https://localhost:8080/"
        },
        "id": "ipWCis62Xjcr",
        "outputId": "8163e40c-4415-4626-b2c4-81e25ca7eb90"
      },
      "source": [
        "print(all_paragraphs)"
      ],
      "execution_count": 93,
      "outputs": [
        {
          "output_type": "stream",
          "text": [
            "[<p>This domain is for use in illustrative examples in documents. You may use this\n",
            "    domain in literature without prior coordination or asking for permission.</p>, <p><a href=\"https://www.iana.org/domains/example\">More information...</a></p>]\n"
          ],
          "name": "stdout"
        }
      ]
    },
    {
      "cell_type": "code",
      "metadata": {
        "colab": {
          "base_uri": "https://localhost:8080/"
        },
        "id": "wVSgL7ojXoLQ",
        "outputId": "8af019a9-05c3-4afd-a0d0-d8c679721421"
      },
      "source": [
        "paragraphs_with_ids"
      ],
      "execution_count": 94,
      "outputs": [
        {
          "output_type": "execute_result",
          "data": {
            "text/plain": [
              "[]"
            ]
          },
          "metadata": {
            "tags": []
          },
          "execution_count": 94
        }
      ]
    },
    {
      "cell_type": "markdown",
      "metadata": {
        "id": "2kplDBJyXqNi"
      },
      "source": [
        "Freqüentemente você vai querer encontrar tags com uma classe específica:"
      ]
    },
    {
      "cell_type": "code",
      "metadata": {
        "id": "hwDxSzzlXqlY"
      },
      "source": [
        "important_paragraphs = soup('p', {'class' : 'important'})\n",
        "important_paragraphs2 = soup('p', 'important')\n",
        "important_paragraphs3 = [p for p in soup('p')\n",
        "  if 'important' in p.get('class', [])]"
      ],
      "execution_count": 95,
      "outputs": []
    },
    {
      "cell_type": "markdown",
      "metadata": {
        "id": "K_HjTGgNXuX4"
      },
      "source": [
        "E você pode combiná-los para implementar uma lógica mais elaborada. Por exemplo, se você quiser\n",
        "encontrar todos os elementos < span> contidos em um elemento < div>, poderá fazer isso:"
      ]
    },
    {
      "cell_type": "code",
      "metadata": {
        "id": "C2BFYQ32XuwA"
      },
      "source": [
        "# warning, will return the same span multiple times\n",
        "# if it sits inside multiple divs\n",
        "# be more clever if that's the case\n",
        "spans_inside_divs = [span\n",
        "  for div in soup('div') # for each <div> on the page\n",
        "  for span in div('span')] # find each <span> inside it"
      ],
      "execution_count": 97,
      "outputs": []
    },
    {
      "cell_type": "markdown",
      "metadata": {
        "id": "I1zjsyEMX2e4"
      },
      "source": [
        "Apenas esse punhado de recursos nos permitirá fazer bastante. Se você precisar fazer coisas mais\n",
        "complicadas (ou se estiver curioso), verifique a documentação.\n",
        "\n",
        "É claro que qualquer informação importante não será rotulada como class = \"important\". Você precisará\n",
        "inspecionar cuidadosamente o HTML de origem, analisar sua lógica de seleção e preocupar-se com os\n",
        "casos de borda para garantir que seus dados estejam corretos. Vamos ver um exemplo.\n",
        "\n",
        "##### Exemplos\n",
        "\n",
        "O objetivo é examinar quantos livros de dados O’Reilly publicou ao longo do tempo. Depois de vasculhar\n",
        "seu site, você descobre que possui muitas páginas de livros de dados (e vídeos), acessíveis por meio de\n",
        "páginas de diretórios composto de 30 itens por vez com URLs como:\n",
        "\n",
        "http://shop.oreilly.com/category/browse-subjects/data.do?sortby=publicationDate&page=1\n",
        "(http://shop.oreilly.com/category/browse-subjects/data.do?sortby=publicationDate&page=1)\n",
        "\n",
        "A menos que você queira ser um idiota (e a menos que você queira que seu scraper seja banido), sempre\n",
        "que quiser extrair dados de um site, você deve primeiro verificar se ele tem algum tipo de política de\n",
        "acesso. Olhando para:\n",
        "\n",
        "https://www.oreilly.com/terms/\n",
        "\n",
        "Parece não haver nada que proíba esse projeto. Para sermos bons cidadãos, devemos também procurar um\n",
        "arquivo robots.txt que diga ao webcrawlers como se comportar.\n",
        "\n",
        "https://developers.google.com/search/docs/advanced/robots/create-robots-txt\n",
        "(https://developers.google.com/search/docs/advanced/robots/create-robots-txt)"
      ]
    },
    {
      "cell_type": "markdown",
      "metadata": {
        "id": "tJ9Nit0pYSxX"
      },
      "source": [
        "As linhas abaixo são importantes em robots.txt são:"
      ]
    },
    {
      "cell_type": "markdown",
      "metadata": {
        "id": "VUzEnK-qYk2t"
      },
      "source": [
        "O primeiro nos diz que devemos esperar 30 segundos entre os pedidos, o segundo que devemos solicitar\n",
        "apenas uma página a cada 30 segundos.\n",
        "Então, basicamente, são duas maneiras diferentes de dizer a mesma coisa (há outras linhas que indicam\n",
        "que os diretórios não devem ser copiados, mas não incluem nosso URL, por isso, estamos bem lá.)\n"
      ]
    },
    {
      "cell_type": "markdown",
      "metadata": {
        "id": "N1oe72HkYmal"
      },
      "source": [
        "Um bom primeiro passo é encontrar todos os elementos da tag td thumbtext:"
      ]
    },
    {
      "cell_type": "code",
      "metadata": {
        "colab": {
          "base_uri": "https://localhost:8080/"
        },
        "id": "wFddz5VuYm31",
        "outputId": "3feb26d5-a92d-42b9-d25c-f362cfe80b2e"
      },
      "source": [
        "tds = soup('td', 'thumbtext')\n",
        "print(len(tds)) # 30"
      ],
      "execution_count": 98,
      "outputs": [
        {
          "output_type": "stream",
          "text": [
            "0\n"
          ],
          "name": "stdout"
        }
      ]
    },
    {
      "cell_type": "markdown",
      "metadata": {
        "id": "2z5X-O4kYo9d"
      },
      "source": [
        "##### Google - Capturar TAG IMG"
      ]
    },
    {
      "cell_type": "code",
      "metadata": {
        "colab": {
          "base_uri": "https://localhost:8080/"
        },
        "id": "OrnV42CeYtie",
        "outputId": "219dc23c-a7bf-4c38-a416-5c1a22a01d67"
      },
      "source": [
        "from bs4 import BeautifulSoup\n",
        "import requests\n",
        "\n",
        "html = requests.get(\"http://www.google.com\").text\n",
        "soup = BeautifulSoup(html, 'html5lib')\n",
        "\n",
        "tag_logo = soup.find_all('img')\n",
        "tag_logo = [p for p in soup('img') if p.get('id') == 'hplogo']\n",
        "\n",
        "print(tag_logo)"
      ],
      "execution_count": 100,
      "outputs": [
        {
          "output_type": "stream",
          "text": [
            "[<img alt=\"Google\" height=\"92\" id=\"hplogo\" src=\"/images/branding/googlelogo/1x/googlelogo_white_background_color_272x92dp.png\" style=\"padding:28px 0 14px\" width=\"272\"/>]\n"
          ],
          "name": "stdout"
        }
      ]
    },
    {
      "cell_type": "code",
      "metadata": {
        "colab": {
          "base_uri": "https://localhost:8080/"
        },
        "id": "vx7iFDynYzuu",
        "outputId": "b9bb10b9-4bcc-4cbc-ae7f-665b17870d87"
      },
      "source": [
        "from bs4 import BeautifulSoup\n",
        "import requests\n",
        "\n",
        "html = requests.get(\"http://www.google.com\").text\n",
        "soup = BeautifulSoup(html, 'html5lib')\n",
        "\n",
        "tag_logo = soup.find(id='hplogo')\n",
        "\n",
        "print('\\n', tag_logo, '\\n')\n",
        "print('Atributo SRC=', tag_logo.get('src'))"
      ],
      "execution_count": 101,
      "outputs": [
        {
          "output_type": "stream",
          "text": [
            "\n",
            " <img alt=\"Google\" height=\"92\" id=\"hplogo\" src=\"/images/branding/googlelogo/1x/googlelogo_white_background_color_272x92dp.png\" style=\"padding:28px 0 14px\" width=\"272\"/> \n",
            "\n",
            "Atributo SRC= /images/branding/googlelogo/1x/googlelogo_white_background_color_272x92dp.png\n"
          ],
          "name": "stdout"
        }
      ]
    }
  ]
}