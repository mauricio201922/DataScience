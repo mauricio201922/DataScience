{
  "nbformat": 4,
  "nbformat_minor": 0,
  "metadata": {
    "colab": {
      "name": "ExercicioAulaEight.ipynb",
      "provenance": [],
      "authorship_tag": "ABX9TyOZwoCMM7/coVY0UuNesNi2",
      "include_colab_link": true
    },
    "kernelspec": {
      "name": "python3",
      "display_name": "Python 3"
    },
    "language_info": {
      "name": "python"
    }
  },
  "cells": [
    {
      "cell_type": "markdown",
      "metadata": {
        "id": "view-in-github",
        "colab_type": "text"
      },
      "source": [
        "<a href=\"https://colab.research.google.com/github/mauricio201922/DataScience/blob/main/ExercicioAulaEight.ipynb\" target=\"_parent\"><img src=\"https://colab.research.google.com/assets/colab-badge.svg\" alt=\"Open In Colab\"/></a>"
      ]
    },
    {
      "cell_type": "code",
      "metadata": {
        "id": "6WnOpLqt1vbE",
        "colab": {
          "base_uri": "https://localhost:8080/"
        },
        "outputId": "687b703e-61a4-4f3c-f625-57c34c627172"
      },
      "source": [
        "!pip3 install html5lib\n",
        "!pip3 install beautifulsoup4\n",
        "!pip3 install requests"
      ],
      "execution_count": 1,
      "outputs": [
        {
          "output_type": "stream",
          "text": [
            "Requirement already satisfied: html5lib in /usr/local/lib/python3.7/dist-packages (1.0.1)\n",
            "Requirement already satisfied: six>=1.9 in /usr/local/lib/python3.7/dist-packages (from html5lib) (1.15.0)\n",
            "Requirement already satisfied: webencodings in /usr/local/lib/python3.7/dist-packages (from html5lib) (0.5.1)\n",
            "Requirement already satisfied: beautifulsoup4 in /usr/local/lib/python3.7/dist-packages (4.6.3)\n",
            "Requirement already satisfied: requests in /usr/local/lib/python3.7/dist-packages (2.23.0)\n",
            "Requirement already satisfied: urllib3!=1.25.0,!=1.25.1,<1.26,>=1.21.1 in /usr/local/lib/python3.7/dist-packages (from requests) (1.24.3)\n",
            "Requirement already satisfied: certifi>=2017.4.17 in /usr/local/lib/python3.7/dist-packages (from requests) (2020.12.5)\n",
            "Requirement already satisfied: chardet<4,>=3.0.2 in /usr/local/lib/python3.7/dist-packages (from requests) (3.0.4)\n",
            "Requirement already satisfied: idna<3,>=2.5 in /usr/local/lib/python3.7/dist-packages (from requests) (2.10)\n"
          ],
          "name": "stdout"
        }
      ]
    },
    {
      "cell_type": "code",
      "metadata": {
        "id": "b_-SVkRmPQ1b"
      },
      "source": [
        "import re"
      ],
      "execution_count": 2,
      "outputs": []
    },
    {
      "cell_type": "code",
      "metadata": {
        "colab": {
          "base_uri": "https://localhost:8080/"
        },
        "id": "6tCDruO04bzD",
        "outputId": "f51e6403-9755-4892-8a08-d156c4cc78cd"
      },
      "source": [
        "from bs4 import BeautifulSoup\n",
        "import requests\n",
        "\n",
        "html = requests.get(\"https://en.wikipedia.org/wiki/Wikipedia:Contents\").text\n",
        "soup = BeautifulSoup(html, 'html5lib')\n",
        "\n",
        "dados = [soup.find(id=re.compile(\"n-mainpage-description\")),\n",
        "         soup.find(id=re.compile(\"n-contents\")),\n",
        "         soup.find(id=re.compile(\"n-currentevents\")),\n",
        "         soup.find(id=re.compile(\"n-randompage\")),\n",
        "         soup.find(id=re.compile(\"n-aboutsite\")),\n",
        "         soup.find(id=re.compile(\"n-contactpage\")),\n",
        "         soup.find(id=re.compile(\"n-sitesupport\"))]\n",
        "\n",
        "for i in dados:\n",
        "  print(\"[\", i, \"]\\n\")"
      ],
      "execution_count": 5,
      "outputs": [
        {
          "output_type": "stream",
          "text": [
            "[ <li id=\"n-mainpage-description\"><a accesskey=\"z\" href=\"/wiki/Main_Page\" title=\"Visit the main page [z]\">Main page</a></li> ]\n",
            "\n",
            "[ <li id=\"n-contents\"><a href=\"/wiki/Wikipedia:Contents\" title=\"Guides to browsing Wikipedia\">Contents</a></li> ]\n",
            "\n",
            "[ <li id=\"n-currentevents\"><a href=\"/wiki/Portal:Current_events\" title=\"Articles related to current events\">Current events</a></li> ]\n",
            "\n",
            "[ <li id=\"n-randompage\"><a accesskey=\"x\" href=\"/wiki/Special:Random\" title=\"Visit a randomly selected article [x]\">Random article</a></li> ]\n",
            "\n",
            "[ <li id=\"n-aboutsite\"><a href=\"/wiki/Wikipedia:About\" title=\"Learn about Wikipedia and how it works\">About Wikipedia</a></li> ]\n",
            "\n",
            "[ <li id=\"n-contactpage\"><a href=\"//en.wikipedia.org/wiki/Wikipedia:Contact_us\" title=\"How to contact Wikipedia\">Contact us</a></li> ]\n",
            "\n",
            "[ <li id=\"n-sitesupport\"><a href=\"https://donate.wikimedia.org/wiki/Special:FundraiserRedirector?utm_source=donate&amp;utm_medium=sidebar&amp;utm_campaign=C13_en.wikipedia.org&amp;uselang=en\" title=\"Support us by donating to the Wikimedia Foundation\">Donate</a></li> ]\n",
            "\n"
          ],
          "name": "stdout"
        }
      ]
    },
    {
      "cell_type": "markdown",
      "metadata": {
        "id": "qEIU_IZRDCaA"
      },
      "source": [
        "# Requisição BONUS de uma API aberta"
      ]
    },
    {
      "cell_type": "code",
      "metadata": {
        "id": "fXDY26LoCdyN"
      },
      "source": [
        "import requests\n",
        "\n",
        "req = requests.get(\"https://pokeapi.co/api/v2/pokemon?limit=151&offset=0\")"
      ],
      "execution_count": 6,
      "outputs": []
    },
    {
      "cell_type": "code",
      "metadata": {
        "id": "WmT1tjNUC3lR",
        "outputId": "724be5b3-74f6-4933-8879-be13f3debced",
        "colab": {
          "base_uri": "https://localhost:8080/"
        }
      },
      "source": [
        "req.json()"
      ],
      "execution_count": 7,
      "outputs": [
        {
          "output_type": "execute_result",
          "data": {
            "text/plain": [
              "{'count': 1118,\n",
              " 'next': 'https://pokeapi.co/api/v2/pokemon?offset=151&limit=151',\n",
              " 'previous': None,\n",
              " 'results': [{'name': 'bulbasaur',\n",
              "   'url': 'https://pokeapi.co/api/v2/pokemon/1/'},\n",
              "  {'name': 'ivysaur', 'url': 'https://pokeapi.co/api/v2/pokemon/2/'},\n",
              "  {'name': 'venusaur', 'url': 'https://pokeapi.co/api/v2/pokemon/3/'},\n",
              "  {'name': 'charmander', 'url': 'https://pokeapi.co/api/v2/pokemon/4/'},\n",
              "  {'name': 'charmeleon', 'url': 'https://pokeapi.co/api/v2/pokemon/5/'},\n",
              "  {'name': 'charizard', 'url': 'https://pokeapi.co/api/v2/pokemon/6/'},\n",
              "  {'name': 'squirtle', 'url': 'https://pokeapi.co/api/v2/pokemon/7/'},\n",
              "  {'name': 'wartortle', 'url': 'https://pokeapi.co/api/v2/pokemon/8/'},\n",
              "  {'name': 'blastoise', 'url': 'https://pokeapi.co/api/v2/pokemon/9/'},\n",
              "  {'name': 'caterpie', 'url': 'https://pokeapi.co/api/v2/pokemon/10/'},\n",
              "  {'name': 'metapod', 'url': 'https://pokeapi.co/api/v2/pokemon/11/'},\n",
              "  {'name': 'butterfree', 'url': 'https://pokeapi.co/api/v2/pokemon/12/'},\n",
              "  {'name': 'weedle', 'url': 'https://pokeapi.co/api/v2/pokemon/13/'},\n",
              "  {'name': 'kakuna', 'url': 'https://pokeapi.co/api/v2/pokemon/14/'},\n",
              "  {'name': 'beedrill', 'url': 'https://pokeapi.co/api/v2/pokemon/15/'},\n",
              "  {'name': 'pidgey', 'url': 'https://pokeapi.co/api/v2/pokemon/16/'},\n",
              "  {'name': 'pidgeotto', 'url': 'https://pokeapi.co/api/v2/pokemon/17/'},\n",
              "  {'name': 'pidgeot', 'url': 'https://pokeapi.co/api/v2/pokemon/18/'},\n",
              "  {'name': 'rattata', 'url': 'https://pokeapi.co/api/v2/pokemon/19/'},\n",
              "  {'name': 'raticate', 'url': 'https://pokeapi.co/api/v2/pokemon/20/'},\n",
              "  {'name': 'spearow', 'url': 'https://pokeapi.co/api/v2/pokemon/21/'},\n",
              "  {'name': 'fearow', 'url': 'https://pokeapi.co/api/v2/pokemon/22/'},\n",
              "  {'name': 'ekans', 'url': 'https://pokeapi.co/api/v2/pokemon/23/'},\n",
              "  {'name': 'arbok', 'url': 'https://pokeapi.co/api/v2/pokemon/24/'},\n",
              "  {'name': 'pikachu', 'url': 'https://pokeapi.co/api/v2/pokemon/25/'},\n",
              "  {'name': 'raichu', 'url': 'https://pokeapi.co/api/v2/pokemon/26/'},\n",
              "  {'name': 'sandshrew', 'url': 'https://pokeapi.co/api/v2/pokemon/27/'},\n",
              "  {'name': 'sandslash', 'url': 'https://pokeapi.co/api/v2/pokemon/28/'},\n",
              "  {'name': 'nidoran-f', 'url': 'https://pokeapi.co/api/v2/pokemon/29/'},\n",
              "  {'name': 'nidorina', 'url': 'https://pokeapi.co/api/v2/pokemon/30/'},\n",
              "  {'name': 'nidoqueen', 'url': 'https://pokeapi.co/api/v2/pokemon/31/'},\n",
              "  {'name': 'nidoran-m', 'url': 'https://pokeapi.co/api/v2/pokemon/32/'},\n",
              "  {'name': 'nidorino', 'url': 'https://pokeapi.co/api/v2/pokemon/33/'},\n",
              "  {'name': 'nidoking', 'url': 'https://pokeapi.co/api/v2/pokemon/34/'},\n",
              "  {'name': 'clefairy', 'url': 'https://pokeapi.co/api/v2/pokemon/35/'},\n",
              "  {'name': 'clefable', 'url': 'https://pokeapi.co/api/v2/pokemon/36/'},\n",
              "  {'name': 'vulpix', 'url': 'https://pokeapi.co/api/v2/pokemon/37/'},\n",
              "  {'name': 'ninetales', 'url': 'https://pokeapi.co/api/v2/pokemon/38/'},\n",
              "  {'name': 'jigglypuff', 'url': 'https://pokeapi.co/api/v2/pokemon/39/'},\n",
              "  {'name': 'wigglytuff', 'url': 'https://pokeapi.co/api/v2/pokemon/40/'},\n",
              "  {'name': 'zubat', 'url': 'https://pokeapi.co/api/v2/pokemon/41/'},\n",
              "  {'name': 'golbat', 'url': 'https://pokeapi.co/api/v2/pokemon/42/'},\n",
              "  {'name': 'oddish', 'url': 'https://pokeapi.co/api/v2/pokemon/43/'},\n",
              "  {'name': 'gloom', 'url': 'https://pokeapi.co/api/v2/pokemon/44/'},\n",
              "  {'name': 'vileplume', 'url': 'https://pokeapi.co/api/v2/pokemon/45/'},\n",
              "  {'name': 'paras', 'url': 'https://pokeapi.co/api/v2/pokemon/46/'},\n",
              "  {'name': 'parasect', 'url': 'https://pokeapi.co/api/v2/pokemon/47/'},\n",
              "  {'name': 'venonat', 'url': 'https://pokeapi.co/api/v2/pokemon/48/'},\n",
              "  {'name': 'venomoth', 'url': 'https://pokeapi.co/api/v2/pokemon/49/'},\n",
              "  {'name': 'diglett', 'url': 'https://pokeapi.co/api/v2/pokemon/50/'},\n",
              "  {'name': 'dugtrio', 'url': 'https://pokeapi.co/api/v2/pokemon/51/'},\n",
              "  {'name': 'meowth', 'url': 'https://pokeapi.co/api/v2/pokemon/52/'},\n",
              "  {'name': 'persian', 'url': 'https://pokeapi.co/api/v2/pokemon/53/'},\n",
              "  {'name': 'psyduck', 'url': 'https://pokeapi.co/api/v2/pokemon/54/'},\n",
              "  {'name': 'golduck', 'url': 'https://pokeapi.co/api/v2/pokemon/55/'},\n",
              "  {'name': 'mankey', 'url': 'https://pokeapi.co/api/v2/pokemon/56/'},\n",
              "  {'name': 'primeape', 'url': 'https://pokeapi.co/api/v2/pokemon/57/'},\n",
              "  {'name': 'growlithe', 'url': 'https://pokeapi.co/api/v2/pokemon/58/'},\n",
              "  {'name': 'arcanine', 'url': 'https://pokeapi.co/api/v2/pokemon/59/'},\n",
              "  {'name': 'poliwag', 'url': 'https://pokeapi.co/api/v2/pokemon/60/'},\n",
              "  {'name': 'poliwhirl', 'url': 'https://pokeapi.co/api/v2/pokemon/61/'},\n",
              "  {'name': 'poliwrath', 'url': 'https://pokeapi.co/api/v2/pokemon/62/'},\n",
              "  {'name': 'abra', 'url': 'https://pokeapi.co/api/v2/pokemon/63/'},\n",
              "  {'name': 'kadabra', 'url': 'https://pokeapi.co/api/v2/pokemon/64/'},\n",
              "  {'name': 'alakazam', 'url': 'https://pokeapi.co/api/v2/pokemon/65/'},\n",
              "  {'name': 'machop', 'url': 'https://pokeapi.co/api/v2/pokemon/66/'},\n",
              "  {'name': 'machoke', 'url': 'https://pokeapi.co/api/v2/pokemon/67/'},\n",
              "  {'name': 'machamp', 'url': 'https://pokeapi.co/api/v2/pokemon/68/'},\n",
              "  {'name': 'bellsprout', 'url': 'https://pokeapi.co/api/v2/pokemon/69/'},\n",
              "  {'name': 'weepinbell', 'url': 'https://pokeapi.co/api/v2/pokemon/70/'},\n",
              "  {'name': 'victreebel', 'url': 'https://pokeapi.co/api/v2/pokemon/71/'},\n",
              "  {'name': 'tentacool', 'url': 'https://pokeapi.co/api/v2/pokemon/72/'},\n",
              "  {'name': 'tentacruel', 'url': 'https://pokeapi.co/api/v2/pokemon/73/'},\n",
              "  {'name': 'geodude', 'url': 'https://pokeapi.co/api/v2/pokemon/74/'},\n",
              "  {'name': 'graveler', 'url': 'https://pokeapi.co/api/v2/pokemon/75/'},\n",
              "  {'name': 'golem', 'url': 'https://pokeapi.co/api/v2/pokemon/76/'},\n",
              "  {'name': 'ponyta', 'url': 'https://pokeapi.co/api/v2/pokemon/77/'},\n",
              "  {'name': 'rapidash', 'url': 'https://pokeapi.co/api/v2/pokemon/78/'},\n",
              "  {'name': 'slowpoke', 'url': 'https://pokeapi.co/api/v2/pokemon/79/'},\n",
              "  {'name': 'slowbro', 'url': 'https://pokeapi.co/api/v2/pokemon/80/'},\n",
              "  {'name': 'magnemite', 'url': 'https://pokeapi.co/api/v2/pokemon/81/'},\n",
              "  {'name': 'magneton', 'url': 'https://pokeapi.co/api/v2/pokemon/82/'},\n",
              "  {'name': 'farfetchd', 'url': 'https://pokeapi.co/api/v2/pokemon/83/'},\n",
              "  {'name': 'doduo', 'url': 'https://pokeapi.co/api/v2/pokemon/84/'},\n",
              "  {'name': 'dodrio', 'url': 'https://pokeapi.co/api/v2/pokemon/85/'},\n",
              "  {'name': 'seel', 'url': 'https://pokeapi.co/api/v2/pokemon/86/'},\n",
              "  {'name': 'dewgong', 'url': 'https://pokeapi.co/api/v2/pokemon/87/'},\n",
              "  {'name': 'grimer', 'url': 'https://pokeapi.co/api/v2/pokemon/88/'},\n",
              "  {'name': 'muk', 'url': 'https://pokeapi.co/api/v2/pokemon/89/'},\n",
              "  {'name': 'shellder', 'url': 'https://pokeapi.co/api/v2/pokemon/90/'},\n",
              "  {'name': 'cloyster', 'url': 'https://pokeapi.co/api/v2/pokemon/91/'},\n",
              "  {'name': 'gastly', 'url': 'https://pokeapi.co/api/v2/pokemon/92/'},\n",
              "  {'name': 'haunter', 'url': 'https://pokeapi.co/api/v2/pokemon/93/'},\n",
              "  {'name': 'gengar', 'url': 'https://pokeapi.co/api/v2/pokemon/94/'},\n",
              "  {'name': 'onix', 'url': 'https://pokeapi.co/api/v2/pokemon/95/'},\n",
              "  {'name': 'drowzee', 'url': 'https://pokeapi.co/api/v2/pokemon/96/'},\n",
              "  {'name': 'hypno', 'url': 'https://pokeapi.co/api/v2/pokemon/97/'},\n",
              "  {'name': 'krabby', 'url': 'https://pokeapi.co/api/v2/pokemon/98/'},\n",
              "  {'name': 'kingler', 'url': 'https://pokeapi.co/api/v2/pokemon/99/'},\n",
              "  {'name': 'voltorb', 'url': 'https://pokeapi.co/api/v2/pokemon/100/'},\n",
              "  {'name': 'electrode', 'url': 'https://pokeapi.co/api/v2/pokemon/101/'},\n",
              "  {'name': 'exeggcute', 'url': 'https://pokeapi.co/api/v2/pokemon/102/'},\n",
              "  {'name': 'exeggutor', 'url': 'https://pokeapi.co/api/v2/pokemon/103/'},\n",
              "  {'name': 'cubone', 'url': 'https://pokeapi.co/api/v2/pokemon/104/'},\n",
              "  {'name': 'marowak', 'url': 'https://pokeapi.co/api/v2/pokemon/105/'},\n",
              "  {'name': 'hitmonlee', 'url': 'https://pokeapi.co/api/v2/pokemon/106/'},\n",
              "  {'name': 'hitmonchan', 'url': 'https://pokeapi.co/api/v2/pokemon/107/'},\n",
              "  {'name': 'lickitung', 'url': 'https://pokeapi.co/api/v2/pokemon/108/'},\n",
              "  {'name': 'koffing', 'url': 'https://pokeapi.co/api/v2/pokemon/109/'},\n",
              "  {'name': 'weezing', 'url': 'https://pokeapi.co/api/v2/pokemon/110/'},\n",
              "  {'name': 'rhyhorn', 'url': 'https://pokeapi.co/api/v2/pokemon/111/'},\n",
              "  {'name': 'rhydon', 'url': 'https://pokeapi.co/api/v2/pokemon/112/'},\n",
              "  {'name': 'chansey', 'url': 'https://pokeapi.co/api/v2/pokemon/113/'},\n",
              "  {'name': 'tangela', 'url': 'https://pokeapi.co/api/v2/pokemon/114/'},\n",
              "  {'name': 'kangaskhan', 'url': 'https://pokeapi.co/api/v2/pokemon/115/'},\n",
              "  {'name': 'horsea', 'url': 'https://pokeapi.co/api/v2/pokemon/116/'},\n",
              "  {'name': 'seadra', 'url': 'https://pokeapi.co/api/v2/pokemon/117/'},\n",
              "  {'name': 'goldeen', 'url': 'https://pokeapi.co/api/v2/pokemon/118/'},\n",
              "  {'name': 'seaking', 'url': 'https://pokeapi.co/api/v2/pokemon/119/'},\n",
              "  {'name': 'staryu', 'url': 'https://pokeapi.co/api/v2/pokemon/120/'},\n",
              "  {'name': 'starmie', 'url': 'https://pokeapi.co/api/v2/pokemon/121/'},\n",
              "  {'name': 'mr-mime', 'url': 'https://pokeapi.co/api/v2/pokemon/122/'},\n",
              "  {'name': 'scyther', 'url': 'https://pokeapi.co/api/v2/pokemon/123/'},\n",
              "  {'name': 'jynx', 'url': 'https://pokeapi.co/api/v2/pokemon/124/'},\n",
              "  {'name': 'electabuzz', 'url': 'https://pokeapi.co/api/v2/pokemon/125/'},\n",
              "  {'name': 'magmar', 'url': 'https://pokeapi.co/api/v2/pokemon/126/'},\n",
              "  {'name': 'pinsir', 'url': 'https://pokeapi.co/api/v2/pokemon/127/'},\n",
              "  {'name': 'tauros', 'url': 'https://pokeapi.co/api/v2/pokemon/128/'},\n",
              "  {'name': 'magikarp', 'url': 'https://pokeapi.co/api/v2/pokemon/129/'},\n",
              "  {'name': 'gyarados', 'url': 'https://pokeapi.co/api/v2/pokemon/130/'},\n",
              "  {'name': 'lapras', 'url': 'https://pokeapi.co/api/v2/pokemon/131/'},\n",
              "  {'name': 'ditto', 'url': 'https://pokeapi.co/api/v2/pokemon/132/'},\n",
              "  {'name': 'eevee', 'url': 'https://pokeapi.co/api/v2/pokemon/133/'},\n",
              "  {'name': 'vaporeon', 'url': 'https://pokeapi.co/api/v2/pokemon/134/'},\n",
              "  {'name': 'jolteon', 'url': 'https://pokeapi.co/api/v2/pokemon/135/'},\n",
              "  {'name': 'flareon', 'url': 'https://pokeapi.co/api/v2/pokemon/136/'},\n",
              "  {'name': 'porygon', 'url': 'https://pokeapi.co/api/v2/pokemon/137/'},\n",
              "  {'name': 'omanyte', 'url': 'https://pokeapi.co/api/v2/pokemon/138/'},\n",
              "  {'name': 'omastar', 'url': 'https://pokeapi.co/api/v2/pokemon/139/'},\n",
              "  {'name': 'kabuto', 'url': 'https://pokeapi.co/api/v2/pokemon/140/'},\n",
              "  {'name': 'kabutops', 'url': 'https://pokeapi.co/api/v2/pokemon/141/'},\n",
              "  {'name': 'aerodactyl', 'url': 'https://pokeapi.co/api/v2/pokemon/142/'},\n",
              "  {'name': 'snorlax', 'url': 'https://pokeapi.co/api/v2/pokemon/143/'},\n",
              "  {'name': 'articuno', 'url': 'https://pokeapi.co/api/v2/pokemon/144/'},\n",
              "  {'name': 'zapdos', 'url': 'https://pokeapi.co/api/v2/pokemon/145/'},\n",
              "  {'name': 'moltres', 'url': 'https://pokeapi.co/api/v2/pokemon/146/'},\n",
              "  {'name': 'dratini', 'url': 'https://pokeapi.co/api/v2/pokemon/147/'},\n",
              "  {'name': 'dragonair', 'url': 'https://pokeapi.co/api/v2/pokemon/148/'},\n",
              "  {'name': 'dragonite', 'url': 'https://pokeapi.co/api/v2/pokemon/149/'},\n",
              "  {'name': 'mewtwo', 'url': 'https://pokeapi.co/api/v2/pokemon/150/'},\n",
              "  {'name': 'mew', 'url': 'https://pokeapi.co/api/v2/pokemon/151/'}]}"
            ]
          },
          "metadata": {
            "tags": []
          },
          "execution_count": 7
        }
      ]
    }
  ]
}