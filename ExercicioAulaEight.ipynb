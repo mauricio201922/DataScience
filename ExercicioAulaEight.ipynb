{
  "nbformat": 4,
  "nbformat_minor": 0,
  "metadata": {
    "colab": {
      "name": "ExercicioAulaEight.ipynb",
      "provenance": [],
      "authorship_tag": "ABX9TyMmXMIUug5VPFOkVwPEded8",
      "include_colab_link": true
    },
    "kernelspec": {
      "name": "python3",
      "display_name": "Python 3"
    },
    "language_info": {
      "name": "python"
    }
  },
  "cells": [
    {
      "cell_type": "markdown",
      "metadata": {
        "id": "view-in-github",
        "colab_type": "text"
      },
      "source": [
        "<a href=\"https://colab.research.google.com/github/mauricio201922/DataScience/blob/main/ExercicioAulaEight.ipynb\" target=\"_parent\"><img src=\"https://colab.research.google.com/assets/colab-badge.svg\" alt=\"Open In Colab\"/></a>"
      ]
    },
    {
      "cell_type": "code",
      "metadata": {
        "id": "6WnOpLqt1vbE"
      },
      "source": [
        "!pip3 install html5lib\n",
        "!pip3 install beautifulsoup4\n",
        "!pip3 install requests"
      ],
      "execution_count": null,
      "outputs": []
    },
    {
      "cell_type": "code",
      "metadata": {
        "id": "b_-SVkRmPQ1b"
      },
      "source": [
        "import re"
      ],
      "execution_count": 106,
      "outputs": []
    },
    {
      "cell_type": "code",
      "metadata": {
        "colab": {
          "base_uri": "https://localhost:8080/"
        },
        "id": "6tCDruO04bzD",
        "outputId": "87a69345-d33a-4aa6-d7ff-9a4469fd8924"
      },
      "source": [
        "from bs4 import BeautifulSoup\n",
        "import requests\n",
        "\n",
        "html = requests.get(\"https://en.wikipedia.org/wiki/Wikipedia:Contents\").text\n",
        "soup = BeautifulSoup(html, 'html5lib')\n",
        "\n",
        "tag_logo1 = soup.find(id=re.compile(\"n-mainpage-description\"))\n",
        "tag_logo2 = soup.find(id=re.compile(\"n-contents\"))\n",
        "tag_logo3 = soup.find(id=re.compile(\"n-currentevents\"))\n",
        "tag_logo4 = soup.find(id=re.compile(\"n-randompage\"))\n",
        "tag_logo5 = soup.find(id=re.compile(\"n-aboutsite\"))\n",
        "tag_logo6 = soup.find(id=re.compile(\"n-contactpage\"))\n",
        "tag_logo7 = soup.find(id=re.compile(\"n-sitesupport\"))\n",
        "\n",
        "print('\\n[', tag_logo1, '],\\n')\n",
        "print('\\n[', tag_logo2, '],\\n')\n",
        "print('\\n[', tag_logo3, '],\\n')\n",
        "print('\\n[', tag_logo4, '],\\n')\n",
        "print('\\n[', tag_logo5, '],\\n')\n",
        "print('\\n[', tag_logo6, '],\\n')\n",
        "print('\\n[', tag_logo7, ']\\n')"
      ],
      "execution_count": 124,
      "outputs": [
        {
          "output_type": "stream",
          "text": [
            "\n",
            "[ <li id=\"n-mainpage-description\"><a accesskey=\"z\" href=\"/wiki/Main_Page\" title=\"Visit the main page [z]\">Main page</a></li> ],\n",
            "\n",
            "\n",
            "[ <li id=\"n-contents\"><a href=\"/wiki/Wikipedia:Contents\" title=\"Guides to browsing Wikipedia\">Contents</a></li> ],\n",
            "\n",
            "\n",
            "[ <li id=\"n-currentevents\"><a href=\"/wiki/Portal:Current_events\" title=\"Articles related to current events\">Current events</a></li> ],\n",
            "\n",
            "\n",
            "[ <li id=\"n-randompage\"><a accesskey=\"x\" href=\"/wiki/Special:Random\" title=\"Visit a randomly selected article [x]\">Random article</a></li> ],\n",
            "\n",
            "\n",
            "[ <li id=\"n-aboutsite\"><a href=\"/wiki/Wikipedia:About\" title=\"Learn about Wikipedia and how it works\">About Wikipedia</a></li> ],\n",
            "\n",
            "\n",
            "[ <li id=\"n-contactpage\"><a href=\"//en.wikipedia.org/wiki/Wikipedia:Contact_us\" title=\"How to contact Wikipedia\">Contact us</a></li> ],\n",
            "\n",
            "\n",
            "[ <li id=\"n-sitesupport\"><a href=\"https://donate.wikimedia.org/wiki/Special:FundraiserRedirector?utm_source=donate&amp;utm_medium=sidebar&amp;utm_campaign=C13_en.wikipedia.org&amp;uselang=en\" title=\"Support us by donating to the Wikimedia Foundation\">Donate</a></li> ]\n",
            "\n"
          ],
          "name": "stdout"
        }
      ]
    }
  ]
}