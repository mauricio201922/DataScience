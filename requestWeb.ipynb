{
  "nbformat": 4,
  "nbformat_minor": 0,
  "metadata": {
    "colab": {
      "name": "p2.ipynb",
      "provenance": [],
      "authorship_tag": "ABX9TyO9tiEczRkM3Y5UcY/iyTeR",
      "include_colab_link": true
    },
    "kernelspec": {
      "name": "python3",
      "display_name": "Python 3"
    },
    "language_info": {
      "name": "python"
    }
  },
  "cells": [
    {
      "cell_type": "markdown",
      "metadata": {
        "id": "view-in-github",
        "colab_type": "text"
      },
      "source": [
        "<a href=\"https://colab.research.google.com/github/mauricio201922/DataScience/blob/main/requestWeb.ipynb\" target=\"_parent\"><img src=\"https://colab.research.google.com/assets/colab-badge.svg\" alt=\"Open In Colab\"/></a>"
      ]
    },
    {
      "cell_type": "code",
      "metadata": {
        "id": "KQWjJU3yBgqX"
      },
      "source": [
        "from bs4 import BeautifulSoup\n",
        "import requests\n",
        "\n"
      ],
      "execution_count": 1,
      "outputs": []
    },
    {
      "cell_type": "code",
      "metadata": {
        "id": "Bl_lvCD-ErJt"
      },
      "source": [
        "import pandas as pd"
      ],
      "execution_count": 86,
      "outputs": []
    },
    {
      "cell_type": "code",
      "metadata": {
        "colab": {
          "base_uri": "https://localhost:8080/",
          "height": 359
        },
        "id": "5HMI0qCuCUqZ",
        "outputId": "a5405926-a351-41b2-cbd8-02cee3b2b1fd"
      },
      "source": [
        "html = requests.get(\"https://en.wikipedia.org/wiki/Template:COVID-19_pandemic_data\").text\n",
        "soup = BeautifulSoup(html, 'html.parser')\n",
        "\n",
        "results = []\n",
        "\n",
        "for row in soup.find_all('tr')[2:15]:\n",
        "  data = row.find_all('th')\n",
        "  name = data[1].find('a').text\n",
        "  casos = row.find('td').text\n",
        "  mortes = row.find_all('td')\n",
        "\n",
        "  #print(name)\n",
        "  #print(casos)\n",
        "  #print(mortes[1].text)\n",
        "\n",
        "  results.append({'paises': name, 'cases': casos.replace('\\n', ''), 'mortes': mortes[1].text.replace('\\n', '')})\n",
        "\n",
        "df = pd.DataFrame(results)\n",
        "\n",
        "df.head(10)"
      ],
      "execution_count": 213,
      "outputs": [
        {
          "output_type": "execute_result",
          "data": {
            "text/html": [
              "<div>\n",
              "<style scoped>\n",
              "    .dataframe tbody tr th:only-of-type {\n",
              "        vertical-align: middle;\n",
              "    }\n",
              "\n",
              "    .dataframe tbody tr th {\n",
              "        vertical-align: top;\n",
              "    }\n",
              "\n",
              "    .dataframe thead th {\n",
              "        text-align: right;\n",
              "    }\n",
              "</style>\n",
              "<table border=\"1\" class=\"dataframe\">\n",
              "  <thead>\n",
              "    <tr style=\"text-align: right;\">\n",
              "      <th></th>\n",
              "      <th>paises</th>\n",
              "      <th>cases</th>\n",
              "      <th>mortes</th>\n",
              "    </tr>\n",
              "  </thead>\n",
              "  <tbody>\n",
              "    <tr>\n",
              "      <th>0</th>\n",
              "      <td>United States</td>\n",
              "      <td>33,576,867</td>\n",
              "      <td>604,852</td>\n",
              "    </tr>\n",
              "    <tr>\n",
              "      <th>1</th>\n",
              "      <td>India</td>\n",
              "      <td>29,183,121</td>\n",
              "      <td>359,676</td>\n",
              "    </tr>\n",
              "    <tr>\n",
              "      <th>2</th>\n",
              "      <td>Brazil</td>\n",
              "      <td>17,122,877</td>\n",
              "      <td>479,515</td>\n",
              "    </tr>\n",
              "    <tr>\n",
              "      <th>3</th>\n",
              "      <td>France</td>\n",
              "      <td>5,725,492</td>\n",
              "      <td>110,231</td>\n",
              "    </tr>\n",
              "    <tr>\n",
              "      <th>4</th>\n",
              "      <td>Turkey</td>\n",
              "      <td>5,313,098</td>\n",
              "      <td>48,524</td>\n",
              "    </tr>\n",
              "    <tr>\n",
              "      <th>5</th>\n",
              "      <td>Russia</td>\n",
              "      <td>5,167,949</td>\n",
              "      <td>125,278</td>\n",
              "    </tr>\n",
              "    <tr>\n",
              "      <th>6</th>\n",
              "      <td>United Kingdom</td>\n",
              "      <td>4,542,986</td>\n",
              "      <td>127,867</td>\n",
              "    </tr>\n",
              "    <tr>\n",
              "      <th>7</th>\n",
              "      <td>Italy</td>\n",
              "      <td>4,237,790</td>\n",
              "      <td>126,767</td>\n",
              "    </tr>\n",
              "    <tr>\n",
              "      <th>8</th>\n",
              "      <td>Argentina</td>\n",
              "      <td>4,066,093</td>\n",
              "      <td>83,941</td>\n",
              "    </tr>\n",
              "    <tr>\n",
              "      <th>9</th>\n",
              "      <td>Germany</td>\n",
              "      <td>3,717,890</td>\n",
              "      <td>89,825</td>\n",
              "    </tr>\n",
              "  </tbody>\n",
              "</table>\n",
              "</div>"
            ],
            "text/plain": [
              "           paises       cases   mortes\n",
              "0   United States  33,576,867  604,852\n",
              "1           India  29,183,121  359,676\n",
              "2          Brazil  17,122,877  479,515\n",
              "3          France   5,725,492  110,231\n",
              "4          Turkey   5,313,098   48,524\n",
              "5          Russia   5,167,949  125,278\n",
              "6  United Kingdom   4,542,986  127,867\n",
              "7           Italy   4,237,790  126,767\n",
              "8       Argentina   4,066,093   83,941\n",
              "9         Germany   3,717,890   89,825"
            ]
          },
          "metadata": {
            "tags": []
          },
          "execution_count": 213
        }
      ]
    }
  ]
}