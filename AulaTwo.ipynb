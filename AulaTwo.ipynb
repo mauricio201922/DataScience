{
  "nbformat": 4,
  "nbformat_minor": 0,
  "metadata": {
    "colab": {
      "name": "AulaTwo.ipynb",
      "provenance": [],
      "authorship_tag": "ABX9TyNTHBHwZXoH7NKLNQBoWUDD",
      "include_colab_link": true
    },
    "kernelspec": {
      "name": "python3",
      "display_name": "Python 3"
    }
  },
  "cells": [
    {
      "cell_type": "markdown",
      "metadata": {
        "id": "view-in-github",
        "colab_type": "text"
      },
      "source": [
        "<a href=\"https://colab.research.google.com/github/mauricio201922/DataScience/blob/main/AulaTwo.ipynb\" target=\"_parent\"><img src=\"https://colab.research.google.com/assets/colab-badge.svg\" alt=\"Open In Colab\"/></a>"
      ]
    },
    {
      "cell_type": "markdown",
      "metadata": {
        "id": "XCSoJIBaWDXU"
      },
      "source": [
        "Curso Rápido de Python"
      ]
    },
    {
      "cell_type": "markdown",
      "metadata": {
        "id": "1UquDWt2WGtC"
      },
      "source": [
        "# Identação como delimitação de bloco"
      ]
    },
    {
      "cell_type": "code",
      "metadata": {
        "colab": {
          "base_uri": "https://localhost:8080/"
        },
        "id": "sfcicW8KWMC6",
        "outputId": "98e5bba9-37ec-4304-b7a3-9a5acb8fb1ba"
      },
      "source": [
        "for i in [1, 2, 3, 4, 5]:\r\n",
        "  print(i) # first line in \"for i\" block\r\n",
        "  for j in [1, 2, 3, 4, 5]:\r\n",
        "    print(j) # first line in \"for j\" block\r\n",
        "    print(i + j) # last line in \"for j\" block\r\n",
        "  print(i) # last line in \"for i\" block\r\n",
        "print(\"done looping\")"
      ],
      "execution_count": 2,
      "outputs": [
        {
          "output_type": "stream",
          "text": [
            "1\n",
            "1\n",
            "2\n",
            "2\n",
            "3\n",
            "3\n",
            "4\n",
            "4\n",
            "5\n",
            "5\n",
            "6\n",
            "1\n",
            "2\n",
            "1\n",
            "3\n",
            "2\n",
            "4\n",
            "3\n",
            "5\n",
            "4\n",
            "6\n",
            "5\n",
            "7\n",
            "2\n",
            "3\n",
            "1\n",
            "4\n",
            "2\n",
            "5\n",
            "3\n",
            "6\n",
            "4\n",
            "7\n",
            "5\n",
            "8\n",
            "3\n",
            "4\n",
            "1\n",
            "5\n",
            "2\n",
            "6\n",
            "3\n",
            "7\n",
            "4\n",
            "8\n",
            "5\n",
            "9\n",
            "4\n",
            "5\n",
            "1\n",
            "6\n",
            "2\n",
            "7\n",
            "3\n",
            "8\n",
            "4\n",
            "9\n",
            "5\n",
            "10\n",
            "5\n",
            "done looping\n"
          ],
          "name": "stdout"
        }
      ]
    },
    {
      "cell_type": "markdown",
      "metadata": {
        "id": "2q7gOdBfWcaI"
      },
      "source": [
        "# Espaços em braco são ignorados em parênteses e colchetes\r\n"
      ]
    },
    {
      "cell_type": "code",
      "metadata": {
        "id": "JgCYGOCFWjXS"
      },
      "source": [
        " long_winded_computation = (1 + 2 + 3 + 4 + 5 + 6 + 7 + 8 + 9 + 10 + 11 +\r\n",
        "12 +\r\n",
        "13 + 14 + 15 + 16 + 17 + 18 + 19 + 20)\r\n",
        "list_of_lists = [[1, 2, 3], [4, 5, 6], [7, 8, 9]]\r\n",
        "easier_to_read_list_of_lists = [ [1, 2, 3],\r\n",
        " [4, 5, 6],\r\n",
        " [7, 8, 9] ]"
      ],
      "execution_count": 3,
      "outputs": []
    },
    {
      "cell_type": "code",
      "metadata": {
        "colab": {
          "base_uri": "https://localhost:8080/"
        },
        "id": "JYEF08AqWnXB",
        "outputId": "e7959248-4850-48f9-a84d-c0ef9dbc99e2"
      },
      "source": [
        "print(easier_to_read_list_of_lists)"
      ],
      "execution_count": 4,
      "outputs": [
        {
          "output_type": "stream",
          "text": [
            "[[1, 2, 3], [4, 5, 6], [7, 8, 9]]\n"
          ],
          "name": "stdout"
        }
      ]
    },
    {
      "cell_type": "markdown",
      "metadata": {
        "id": "lGlSZTNKWt8Y"
      },
      "source": [
        "### Uso de barra invertida para informar que a sentença continua na próxima linha"
      ]
    },
    {
      "cell_type": "code",
      "metadata": {
        "id": "dnXvsffWW1JA"
      },
      "source": [
        "two_plus_three = 2 + 3"
      ],
      "execution_count": 6,
      "outputs": []
    },
    {
      "cell_type": "markdown",
      "metadata": {
        "id": "7MKl2ABrXEUQ"
      },
      "source": [
        "# Módulos"
      ]
    },
    {
      "cell_type": "code",
      "metadata": {
        "id": "9tyHwXMaXNXw"
      },
      "source": [
        "import re\r\n",
        "my_regex = re.compile(\"[0-9]+\", re.I)"
      ],
      "execution_count": 8,
      "outputs": []
    },
    {
      "cell_type": "code",
      "metadata": {
        "colab": {
          "base_uri": "https://localhost:8080/"
        },
        "id": "omSkvcPiYP0l",
        "outputId": "3b71cbe2-d37d-4854-c6f8-fa5738a99034"
      },
      "source": [
        "print(my_regex.match(\"71abc\").group())"
      ],
      "execution_count": 12,
      "outputs": [
        {
          "output_type": "stream",
          "text": [
            "71\n"
          ],
          "name": "stdout"
        }
      ]
    },
    {
      "cell_type": "code",
      "metadata": {
        "id": "q_hNEFzoYxra"
      },
      "source": [
        "import matplotlib.pyplot as plt"
      ],
      "execution_count": 13,
      "outputs": []
    },
    {
      "cell_type": "code",
      "metadata": {
        "id": "9hsvirbnY7ch"
      },
      "source": [
        "from collections import defaultdict, Counter\r\n",
        "lookup = defaultdict(int)\r\n",
        "my_counter = Counter()"
      ],
      "execution_count": 14,
      "outputs": []
    },
    {
      "cell_type": "code",
      "metadata": {
        "colab": {
          "base_uri": "https://localhost:8080/"
        },
        "id": "3XUlloW1ZuBo",
        "outputId": "f8216f44-e827-494e-99e8-4b6a742a6245"
      },
      "source": [
        "match = 10\r\n",
        "from re import * # re has a match function\r\n",
        "print(match) # \"<function re.match>\""
      ],
      "execution_count": 15,
      "outputs": [
        {
          "output_type": "stream",
          "text": [
            "<function match at 0x7f4eb47e6d40>\n"
          ],
          "name": "stdout"
        }
      ]
    },
    {
      "cell_type": "markdown",
      "metadata": {
        "id": "F_ORmkp0aHWf"
      },
      "source": [
        "# Aritmética\r\n"
      ]
    },
    {
      "cell_type": "markdown",
      "metadata": {
        "id": "-cN2zFAiaIwP"
      },
      "source": [
        "### Python 2.7 usa divisão inteira por padrão, deste modo 5 / 2 = 2.\r\n",
        "### Para obtermos um resultado fracionado temos que incluir o seguinte import:"
      ]
    },
    {
      "cell_type": "code",
      "metadata": {
        "id": "Fy7owg9paPu2"
      },
      "source": [
        "from __future__ import division"
      ],
      "execution_count": 16,
      "outputs": []
    },
    {
      "cell_type": "markdown",
      "metadata": {
        "id": "NICCVZkzag8u"
      },
      "source": [
        "### Para obtermos o resultado inteiro usamos duas barras, como a seguir:"
      ]
    },
    {
      "cell_type": "code",
      "metadata": {
        "id": "_QzywbYRakne"
      },
      "source": [
        "int_res = 5 // 2"
      ],
      "execution_count": 17,
      "outputs": []
    },
    {
      "cell_type": "code",
      "metadata": {
        "colab": {
          "base_uri": "https://localhost:8080/"
        },
        "id": "GN6b04p0auCO",
        "outputId": "42a60686-fa98-43d3-deb4-b702071bcae7"
      },
      "source": [
        "int_res"
      ],
      "execution_count": 18,
      "outputs": [
        {
          "output_type": "execute_result",
          "data": {
            "text/plain": [
              "2"
            ]
          },
          "metadata": {
            "tags": []
          },
          "execution_count": 18
        }
      ]
    },
    {
      "cell_type": "markdown",
      "metadata": {
        "id": "bD8SQq8zaz2V"
      },
      "source": [
        "# Funções"
      ]
    },
    {
      "cell_type": "markdown",
      "metadata": {
        "id": "PAL0tcMwa8om"
      },
      "source": [
        "### Em Python definimos funções usando DEF"
      ]
    },
    {
      "cell_type": "code",
      "metadata": {
        "id": "ZFz68IXCa_id"
      },
      "source": [
        "def double(x):\r\n",
        "  \"\"\"Comentário de várias linhas\r\n",
        "  para explicar o que a função faz.\r\n",
        "  Por exemplo, esta função multiplica o valor de entrada por 2\"\"\"\r\n",
        "  return x * 2"
      ],
      "execution_count": 19,
      "outputs": []
    },
    {
      "cell_type": "markdown",
      "metadata": {
        "id": "_G6bgysybF_8"
      },
      "source": [
        "### Podemos atribuir funções à variáveis e passá-las como argumentos de outras funções."
      ]
    },
    {
      "cell_type": "code",
      "metadata": {
        "colab": {
          "base_uri": "https://localhost:8080/"
        },
        "id": "w6iwj0kLbHBt",
        "outputId": "db71ee8b-9b2f-4dc5-9295-691131e18adc"
      },
      "source": [
        "def apply_to_one(f):\r\n",
        "  \"\"\"chama a função f passando 1 como argumento\"\"\"\r\n",
        "  return f(1)\r\n",
        "\r\n",
        "my_double = double          # refers to the previously defined function\r\n",
        "x = apply_to_one(my_double) # equals 2\r\n",
        "\r\n",
        "print(x)"
      ],
      "execution_count": 20,
      "outputs": [
        {
          "output_type": "stream",
          "text": [
            "2\n"
          ],
          "name": "stdout"
        }
      ]
    },
    {
      "cell_type": "markdown",
      "metadata": {
        "id": "CuXVXI4yb5Os"
      },
      "source": [
        "### também é fácil de criar pequenas funções anônimas ou lambdas, como são conhecidas\r\n"
      ]
    },
    {
      "cell_type": "code",
      "metadata": {
        "colab": {
          "base_uri": "https://localhost:8080/"
        },
        "id": "x6dQy17Ub6Gy",
        "outputId": "0ec581e2-fdf6-4822-b388-4e34f607422c"
      },
      "source": [
        "y = apply_to_one(lambda x: x + 4) # equals 5\r\n",
        "\r\n",
        "print(y)"
      ],
      "execution_count": 21,
      "outputs": [
        {
          "output_type": "stream",
          "text": [
            "5\n"
          ],
          "name": "stdout"
        }
      ]
    },
    {
      "cell_type": "code",
      "metadata": {
        "id": "slVhLXEEcib4"
      },
      "source": [
        "def add(x, y):\r\n",
        "  return x + y"
      ],
      "execution_count": 22,
      "outputs": []
    },
    {
      "cell_type": "code",
      "metadata": {
        "colab": {
          "base_uri": "https://localhost:8080/"
        },
        "id": "DantZjsLcqH3",
        "outputId": "447a4d89-1304-4862-aacd-620b36a4f2a9"
      },
      "source": [
        "add(2, 3) # equals 5"
      ],
      "execution_count": 23,
      "outputs": [
        {
          "output_type": "execute_result",
          "data": {
            "text/plain": [
              "5"
            ]
          },
          "metadata": {
            "tags": []
          },
          "execution_count": 23
        }
      ]
    },
    {
      "cell_type": "code",
      "metadata": {
        "id": "Z8wT-lNXcxMK"
      },
      "source": [
        "add = lambda x, y: x + y"
      ],
      "execution_count": 24,
      "outputs": []
    },
    {
      "cell_type": "code",
      "metadata": {
        "colab": {
          "base_uri": "https://localhost:8080/"
        },
        "id": "nWJFNEQec7Tw",
        "outputId": "58031d98-45b0-4c85-93de-6454c32f7193"
      },
      "source": [
        "add(3, 4)"
      ],
      "execution_count": 25,
      "outputs": [
        {
          "output_type": "execute_result",
          "data": {
            "text/plain": [
              "7"
            ]
          },
          "metadata": {
            "tags": []
          },
          "execution_count": 25
        }
      ]
    },
    {
      "cell_type": "code",
      "metadata": {
        "id": "6yFqSBgZdCqY"
      },
      "source": [
        "import math"
      ],
      "execution_count": 26,
      "outputs": []
    },
    {
      "cell_type": "code",
      "metadata": {
        "colab": {
          "base_uri": "https://localhost:8080/"
        },
        "id": "EYhxkUbTdFG_",
        "outputId": "02860259-f442-46d4-ca93-2140b586963e"
      },
      "source": [
        "sorted([1, 2, 3, 4, 5], key=lambda x: x,  reverse=True)"
      ],
      "execution_count": 27,
      "outputs": [
        {
          "output_type": "execute_result",
          "data": {
            "text/plain": [
              "[5, 4, 3, 2, 1]"
            ]
          },
          "metadata": {
            "tags": []
          },
          "execution_count": 27
        }
      ]
    },
    {
      "cell_type": "code",
      "metadata": {
        "colab": {
          "base_uri": "https://localhost:8080/"
        },
        "id": "UIHleozgda1f",
        "outputId": "30975c27-1063-42da-d6b5-00ec75b66406"
      },
      "source": [
        "sorted([1, 2, 3, 4, 5], key=lambda x: math.log(x), reverse=True)"
      ],
      "execution_count": 28,
      "outputs": [
        {
          "output_type": "execute_result",
          "data": {
            "text/plain": [
              "[5, 4, 3, 2, 1]"
            ]
          },
          "metadata": {
            "tags": []
          },
          "execution_count": 28
        }
      ]
    },
    {
      "cell_type": "code",
      "metadata": {
        "colab": {
          "base_uri": "https://localhost:8080/"
        },
        "id": "nDL8xHnednCP",
        "outputId": "dd5172a6-73b5-4d5b-f96e-88344ad8d8d2"
      },
      "source": [
        "map(lambda x: x * x, [1, 2, 3, 4, 5])"
      ],
      "execution_count": 29,
      "outputs": [
        {
          "output_type": "execute_result",
          "data": {
            "text/plain": [
              "<map at 0x7f4e8efee690>"
            ]
          },
          "metadata": {
            "tags": []
          },
          "execution_count": 29
        }
      ]
    },
    {
      "cell_type": "markdown",
      "metadata": {
        "id": "lgR_4VIAf3Bw"
      },
      "source": [
        "### Pârametros de funções podem ter valor padrão\r\n"
      ]
    },
    {
      "cell_type": "code",
      "metadata": {
        "colab": {
          "base_uri": "https://localhost:8080/"
        },
        "id": "yyG_YNRcf4KX",
        "outputId": "46b2e9a8-d7d6-4b6b-bcdf-3c47d3ad1021"
      },
      "source": [
        "def my_print(message=\"my default message\"):\r\n",
        "  print(message)\r\n",
        "\r\n",
        "my_print(\"hello\") # prints 'hello'\r\n",
        "my_print() # prints 'my default message'"
      ],
      "execution_count": 30,
      "outputs": [
        {
          "output_type": "stream",
          "text": [
            "hello\n",
            "my default message\n"
          ],
          "name": "stdout"
        }
      ]
    },
    {
      "cell_type": "code",
      "metadata": {
        "colab": {
          "base_uri": "https://localhost:8080/"
        },
        "id": "IHqQadQcf8HA",
        "outputId": "c2316eb1-e124-48b1-e54d-a4f3cde02021"
      },
      "source": [
        "def subtract(a=0, b=0):\r\n",
        "  return a - b\r\n",
        "subtract(10, 5) # returns 5\r\n",
        "subtract(0, 5) # returns -5\r\n",
        "subtract(b=5) # same as previous"
      ],
      "execution_count": 31,
      "outputs": [
        {
          "output_type": "execute_result",
          "data": {
            "text/plain": [
              "-5"
            ]
          },
          "metadata": {
            "tags": []
          },
          "execution_count": 31
        }
      ]
    },
    {
      "cell_type": "markdown",
      "metadata": {
        "id": "bTTzPgT6gBum"
      },
      "source": [
        "# Strings\r\n"
      ]
    },
    {
      "cell_type": "markdown",
      "metadata": {
        "id": "PSz3fIjegCyG"
      },
      "source": [
        "### Podem ser delimitadas por aspas \" ou apóstrofos ', mas tem que combinar.\r\n"
      ]
    },
    {
      "cell_type": "code",
      "metadata": {
        "id": "AXm02M0cgFnm"
      },
      "source": [
        "single_quoted_string = 'data science'\r\n",
        "double_quoted_string = \"data science\""
      ],
      "execution_count": 32,
      "outputs": []
    },
    {
      "cell_type": "markdown",
      "metadata": {
        "id": "qmI7IpSWgHxf"
      },
      "source": [
        "### Python usa barra invertida para codificar caracteres especiais."
      ]
    },
    {
      "cell_type": "code",
      "metadata": {
        "colab": {
          "base_uri": "https://localhost:8080/"
        },
        "id": "CPMIGbB9gKMO",
        "outputId": "080b75ce-41b2-4d22-e4a6-42436aa72a33"
      },
      "source": [
        "tab_string = \"\\t\" # represents the tab character\r\n",
        "len(tab_string) # is 1"
      ],
      "execution_count": 33,
      "outputs": [
        {
          "output_type": "execute_result",
          "data": {
            "text/plain": [
              "1"
            ]
          },
          "metadata": {
            "tags": []
          },
          "execution_count": 33
        }
      ]
    },
    {
      "cell_type": "markdown",
      "metadata": {
        "id": "D8N6zfYMgNe_"
      },
      "source": [
        "### Para se obter uma barra invertida como caractere, deve-se criar uma string usando o R\"\"\r\n"
      ]
    },
    {
      "cell_type": "code",
      "metadata": {
        "colab": {
          "base_uri": "https://localhost:8080/"
        },
        "id": "13Dp4IbSgQmW",
        "outputId": "39e6980c-09a1-4e84-ea31-17b44a9774ef"
      },
      "source": [
        "not_tab_string = r\"\\t\" # represents the characters '\\' and 't'\r\n",
        "len(not_tab_string) # is 2\r\n",
        "print(not_tab_string)"
      ],
      "execution_count": 34,
      "outputs": [
        {
          "output_type": "stream",
          "text": [
            "\\t\n"
          ],
          "name": "stdout"
        }
      ]
    },
    {
      "cell_type": "markdown",
      "metadata": {
        "id": "a5T_DSQUgWvf"
      },
      "source": [
        "### Para se criar uma string de múltiplas linhas, deve-se usar triplo-aspas (\"\"\")"
      ]
    },
    {
      "cell_type": "code",
      "metadata": {
        "id": "R2U7HXRSgY7f"
      },
      "source": [
        "multi_line_string = \"\"\"This is the first line.\r\n",
        "and this is the second line\r\n",
        "and this is the third line\"\"\""
      ],
      "execution_count": 35,
      "outputs": []
    },
    {
      "cell_type": "markdown",
      "metadata": {
        "id": "Vr5GZxbOgiFR"
      },
      "source": [
        "# Exceções\r\n"
      ]
    },
    {
      "cell_type": "markdown",
      "metadata": {
        "id": "Ashui3Skgj8f"
      },
      "source": [
        "### Quando algo dá errado Python dispara uma excecão que, se não tratada, pode encerrar o programa."
      ]
    },
    {
      "cell_type": "code",
      "metadata": {
        "colab": {
          "base_uri": "https://localhost:8080/"
        },
        "id": "gxkpOvstgmIF",
        "outputId": "ad8c4876-3b45-4154-ee2d-05dcce738375"
      },
      "source": [
        "try:\r\n",
        "  print(3/1)\r\n",
        "except ZeroDivisionError:\r\n",
        "  print(\"cannot divide by zero\")"
      ],
      "execution_count": 38,
      "outputs": [
        {
          "output_type": "stream",
          "text": [
            "3.0\n"
          ],
          "name": "stdout"
        }
      ]
    },
    {
      "cell_type": "code",
      "metadata": {
        "colab": {
          "base_uri": "https://localhost:8080/"
        },
        "id": "hEZHLVW7hjhM",
        "outputId": "f8ed9827-2f66-44ce-bf71-01c00262c83a"
      },
      "source": [
        "try:\r\n",
        "  print(3/1)\r\n",
        "except Exception as err:\r\n",
        "  print(err)\r\n",
        "  print(\"Cannot divide by zero\")\r\n",
        "else:\r\n",
        "  print('Executing the else clause.')\r\n",
        "finally:\r\n",
        "  print('Cleaning up, irrespective of any exceptions.')"
      ],
      "execution_count": 40,
      "outputs": [
        {
          "output_type": "stream",
          "text": [
            "division by zero\n",
            "Cannot divide by zero\n",
            "Cleaning up, irrespective of any exceptions.\n"
          ],
          "name": "stdout"
        }
      ]
    },
    {
      "cell_type": "markdown",
      "metadata": {
        "id": "6tOzI_CMmN54"
      },
      "source": [
        "# Listas"
      ]
    },
    {
      "cell_type": "markdown",
      "metadata": {
        "id": "MuBYKi_GmQXu"
      },
      "source": [
        "### A lista é provavelmente a estrutura mais fundamental em Python, ela é similar a um array porém com\r\n",
        "### algumas funcionalidades\r\n"
      ]
    },
    {
      "cell_type": "code",
      "metadata": {
        "colab": {
          "base_uri": "https://localhost:8080/"
        },
        "id": "YI1qCbM9mW2e",
        "outputId": "5a878872-eb70-4db1-bac2-48712ef97227"
      },
      "source": [
        "integer_list = [1, 2, 3]\r\n",
        "heterogeneous_list = [\"string\", 0.1, True]\r\n",
        "list_of_lists = [ integer_list, heterogeneous_list, [] ]\r\n",
        "\r\n",
        "list_length = len(integer_list) # equals 3\r\n",
        "print(list_length)\r\n",
        "\r\n",
        "list_sum = sum(integer_list) # equals 6\r\n",
        "print(list_sum)"
      ],
      "execution_count": 41,
      "outputs": [
        {
          "output_type": "stream",
          "text": [
            "3\n",
            "6\n"
          ],
          "name": "stdout"
        }
      ]
    },
    {
      "cell_type": "markdown",
      "metadata": {
        "id": "2YvpVcNTmn6v"
      },
      "source": [
        "### Você pode obter ou atribuir o enésimo elemento de uma lista usando colchetes\r\n",
        "\r\n"
      ]
    },
    {
      "cell_type": "code",
      "metadata": {
        "id": "Arya5jV_mp9V"
      },
      "source": [
        "x = list(range(10)) # is the list [0, 1, ..., 9]\r\n",
        "zero = x[0] # equals 0, lists are 0-indexed\r\n",
        "one = x[1] # equals 1\r\n",
        "nine = x[-1] # equals 9, 'Pythonic' for last element\r\n",
        "eight = x[-2] # equals 8, 'Pythonic' for nex"
      ],
      "execution_count": 46,
      "outputs": []
    },
    {
      "cell_type": "markdown",
      "metadata": {
        "id": "7g6g22k2nc-7"
      },
      "source": [
        "### Também usamos colchetes para fatiar as listas"
      ]
    },
    {
      "cell_type": "code",
      "metadata": {
        "id": "rwWVUw3vngXq"
      },
      "source": [
        "first_three = x[:3] # [-1, 1, 2]\r\n",
        "three_to_end = x[3:] # [3, 4, ..., 9]\r\n",
        "one_to_four = x[1:5] # [1, 2, 3, 4]\r\n",
        "last_three = x[-3:] # [7, 8, 9]\r\n",
        "without_first_and_last = x[1:-1] # [1, 2, ..., 8]\r\n",
        "copy_of_x = x[:] # [-1, 1, 2, ..., 9]"
      ],
      "execution_count": 47,
      "outputs": []
    },
    {
      "cell_type": "markdown",
      "metadata": {
        "id": "LdzXgvJ0nkKi"
      },
      "source": [
        "### Python possui o operador \"in\" que verifica se um elemento é membro de uma lista"
      ]
    },
    {
      "cell_type": "code",
      "metadata": {
        "colab": {
          "base_uri": "https://localhost:8080/"
        },
        "id": "y2sI189inmm6",
        "outputId": "d4e4c431-a2fb-4be7-bb3f-a6e6d0df015a"
      },
      "source": [
        "1 in [1, 2, 3] # True\r\n",
        "0 in [1, 2, 3] # False"
      ],
      "execution_count": 48,
      "outputs": [
        {
          "output_type": "execute_result",
          "data": {
            "text/plain": [
              "False"
            ]
          },
          "metadata": {
            "tags": []
          },
          "execution_count": 48
        }
      ]
    },
    {
      "cell_type": "markdown",
      "metadata": {
        "id": "QkgmAUM0nu66"
      },
      "source": [
        "### É fácil concatenar listas\r\n"
      ]
    },
    {
      "cell_type": "code",
      "metadata": {
        "colab": {
          "base_uri": "https://localhost:8080/"
        },
        "id": "dEUUghbGnw1T",
        "outputId": "24fedaf4-f387-432d-bd3a-7a85e4592959"
      },
      "source": [
        "x = [1, 2, 3]\r\n",
        "print(x)\r\n",
        "\r\n",
        "x.extend([4, 5, 6]) # x is now [1,2,3,4,5,6]\r\n",
        "print(x)"
      ],
      "execution_count": 49,
      "outputs": [
        {
          "output_type": "stream",
          "text": [
            "[1, 2, 3]\n",
            "[1, 2, 3, 4, 5, 6]\n"
          ],
          "name": "stdout"
        }
      ]
    },
    {
      "cell_type": "markdown",
      "metadata": {
        "id": "Z-AO05WRn-AF"
      },
      "source": [
        "### Para incluir novos elementos em \"x\" sem modificá-lo, faça:\r\n"
      ]
    },
    {
      "cell_type": "code",
      "metadata": {
        "id": "79WdLksgn--Z"
      },
      "source": [
        "x = [1, 2, 3]\r\n",
        "y = x + [4, 5, 6] # y is [1, 2, 3, 4, 5, 6]; x is unchanged"
      ],
      "execution_count": 50,
      "outputs": []
    },
    {
      "cell_type": "markdown",
      "metadata": {
        "id": "0pfBcEKUoC8N"
      },
      "source": [
        "### É comum incluir um item novo de cada vez a uma lista\r\n"
      ]
    },
    {
      "cell_type": "code",
      "metadata": {
        "id": "AOZNFJy-oFIZ"
      },
      "source": [
        "x = [1, 2, 3]\r\n",
        "x.append(0) # x is now [1, 2, 3, 0]\r\n",
        "y = x[-1] # equals 0\r\n",
        "z = len(x) # equals 4"
      ],
      "execution_count": 51,
      "outputs": []
    },
    {
      "cell_type": "markdown",
      "metadata": {
        "id": "BcpNXNZ-oHZx"
      },
      "source": [
        "### Também podemos desempacotar uma lista\r\n"
      ]
    },
    {
      "cell_type": "code",
      "metadata": {
        "colab": {
          "base_uri": "https://localhost:8080/"
        },
        "id": "e5U4smZXoJ4Q",
        "outputId": "6857a336-85d1-4546-f72d-c3914c276cb1"
      },
      "source": [
        "x, y = [1, 2] # now x is 1, y is 2\r\n",
        "print(x, y)"
      ],
      "execution_count": 52,
      "outputs": [
        {
          "output_type": "stream",
          "text": [
            "1 2\n"
          ],
          "name": "stdout"
        }
      ]
    },
    {
      "cell_type": "markdown",
      "metadata": {
        "id": "vGOos7-DoM0g"
      },
      "source": [
        "### Ao desempacotar, se não quisermos um elemento da lista podemos usar um underscore ( _ )"
      ]
    },
    {
      "cell_type": "code",
      "metadata": {
        "colab": {
          "base_uri": "https://localhost:8080/"
        },
        "id": "Pkxyr_GaoPZA",
        "outputId": "2b684e72-70c0-4d90-817c-72433e62c898"
      },
      "source": [
        "y = [1, 2] # now y == 2, didn't care about the first element\r\n",
        "print(y)"
      ],
      "execution_count": 54,
      "outputs": [
        {
          "output_type": "stream",
          "text": [
            "[1, 2]\n"
          ],
          "name": "stdout"
        }
      ]
    },
    {
      "cell_type": "markdown",
      "metadata": {
        "id": "bn164S4BpX4d"
      },
      "source": [
        "# Tuplas\r\n"
      ]
    },
    {
      "cell_type": "markdown",
      "metadata": {
        "id": "xauenJ07pba-"
      },
      "source": [
        "### Tuplas são primos imutáveis das listas.\r\n",
        "### Você especifica uma tupla usando parênteses em vez de colchetes."
      ]
    },
    {
      "cell_type": "code",
      "metadata": {
        "colab": {
          "base_uri": "https://localhost:8080/"
        },
        "id": "4bmWn7BQpe7s",
        "outputId": "c3cd0d01-732a-4cca-f202-5d37a64400b2"
      },
      "source": [
        "my_list = [1, 2]\r\n",
        "my_tuple = (1, 2)\r\n",
        "other_tuple = 3, 4\r\n",
        "my_list[1] = 3 # my_list is now [1, 3]\r\n",
        "try:\r\n",
        "  my_tuple[1] = 3\r\n",
        "except TypeError:\r\n",
        "  print(\"cannot modify a tuple\")"
      ],
      "execution_count": 55,
      "outputs": [
        {
          "output_type": "stream",
          "text": [
            "cannot modify a tuple\n"
          ],
          "name": "stdout"
        }
      ]
    },
    {
      "cell_type": "markdown",
      "metadata": {
        "id": "i49uCqEjpvbA"
      },
      "source": [
        "### Tuplas são um modo conveniente de retornar múltiplos valores de uma função"
      ]
    },
    {
      "cell_type": "code",
      "metadata": {
        "colab": {
          "base_uri": "https://localhost:8080/"
        },
        "id": "29QDah8-pxgt",
        "outputId": "441ee326-8ae6-4d41-f8f1-5300fbac7bac"
      },
      "source": [
        "def sum_and_product(x, y):\r\n",
        "  return (x + y), (x * y)\r\n",
        "\r\n",
        "sp = sum_and_product(2, 3) # equals (5, 6)\r\n",
        "print(sp)\r\n",
        "\r\n",
        "s, p = sum_and_product(5, 10) # s is 15, p is 50\r\n",
        "print(s, p)"
      ],
      "execution_count": 56,
      "outputs": [
        {
          "output_type": "stream",
          "text": [
            "(5, 6)\n",
            "15 50\n"
          ],
          "name": "stdout"
        }
      ]
    },
    {
      "cell_type": "markdown",
      "metadata": {
        "id": "qO3ufUV4qZjT"
      },
      "source": [
        "### Tuplas (e listas) podem ser usadas para atribuições múltiplas\r\n"
      ]
    },
    {
      "cell_type": "code",
      "metadata": {
        "colab": {
          "base_uri": "https://localhost:8080/"
        },
        "id": "iQbR8Iw5qb9r",
        "outputId": "29aa85b1-6646-4bca-e11f-0fff80d21084"
      },
      "source": [
        "x, y = 1, 2 # now x is 1, y is 2\r\n",
        "print(x, y)\r\n",
        "\r\n",
        "x, y = y, x # Pythonic way to swap variables; now x is 2, y is 1\r\n",
        "print(x, y)"
      ],
      "execution_count": 57,
      "outputs": [
        {
          "output_type": "stream",
          "text": [
            "1 2\n",
            "2 1\n"
          ],
          "name": "stdout"
        }
      ]
    },
    {
      "cell_type": "markdown",
      "metadata": {
        "id": "0ytm_nJtrljz"
      },
      "source": [
        "# Dicionários (Dicts)"
      ]
    },
    {
      "cell_type": "markdown",
      "metadata": {
        "id": "PHjfV51ArnYI"
      },
      "source": [
        "### Outra estrutura de dados fundamental em Python.\r\n",
        "### Associa chaves a valores e permite rápido acesso aos dados\r\n"
      ]
    },
    {
      "cell_type": "code",
      "metadata": {
        "colab": {
          "base_uri": "https://localhost:8080/"
        },
        "id": "x4BiGXojrqzx",
        "outputId": "148a6b5f-e4f1-4daa-d1a5-26859e4a5f92"
      },
      "source": [
        "empty_dict = {} # Pythonic\r\n",
        "empty_dict2 = dict() # less Pythonic\r\n",
        "grades = { \"Joel\" : 80, \"Tim\" : 95 } # dictionary literal\r\n",
        "print(grades)"
      ],
      "execution_count": 58,
      "outputs": [
        {
          "output_type": "stream",
          "text": [
            "{'Joel': 80, 'Tim': 95}\n"
          ],
          "name": "stdout"
        }
      ]
    },
    {
      "cell_type": "markdown",
      "metadata": {
        "id": "HHUwSQHBr3bX"
      },
      "source": [
        "### Buscando valores usando chave"
      ]
    },
    {
      "cell_type": "code",
      "metadata": {
        "colab": {
          "base_uri": "https://localhost:8080/"
        },
        "id": "lpQLAqxmr532",
        "outputId": "d5530f8f-09f4-4759-e9e0-0f642f078971"
      },
      "source": [
        "print(grades['Joel'])\r\n",
        "\r\n",
        "try:\r\n",
        "  kates_grade = grades[\"Kate\"]\r\n",
        "except KeyError:\r\n",
        "  print(\"no grade for Kate!\")\r\n"
      ],
      "execution_count": 59,
      "outputs": [
        {
          "output_type": "stream",
          "text": [
            "80\n",
            "no grade for Kate!\n"
          ],
          "name": "stdout"
        }
      ]
    },
    {
      "cell_type": "markdown",
      "metadata": {
        "id": "okfAU5sysRe7"
      },
      "source": [
        "### Podemos verificar se uma chave existe em um dict usando o operador \"in\""
      ]
    },
    {
      "cell_type": "code",
      "metadata": {
        "colab": {
          "base_uri": "https://localhost:8080/"
        },
        "id": "WXeHP8Y7sSxg",
        "outputId": "6f5c1e43-febb-40f0-eca9-74828258cca0"
      },
      "source": [
        "joel_has_grade = \"Joel\" in grades # True\r\n",
        "print(joel_has_grade)\r\n",
        "\r\n",
        "kate_has_grade = \"Kate\" in grades # False\r\n",
        "print(kate_has_grade)"
      ],
      "execution_count": 60,
      "outputs": [
        {
          "output_type": "stream",
          "text": [
            "True\n",
            "False\n"
          ],
          "name": "stdout"
        }
      ]
    },
    {
      "cell_type": "markdown",
      "metadata": {
        "id": "ciwAM_ibsu_v"
      },
      "source": [
        "### Dicts possuem um método \"get\" que devolve um valor padrão ao invés de disparar uma exceção caso uma chave não exista"
      ]
    },
    {
      "cell_type": "code",
      "metadata": {
        "colab": {
          "base_uri": "https://localhost:8080/"
        },
        "id": "Ibgx5FDIsyNO",
        "outputId": "d93a29d7-d6e5-47f0-b479-6ed520dbfb05"
      },
      "source": [
        "joels_grade = grades.get(\"Joel\", 0) # equals 80\r\n",
        "print(joels_grade)\r\n",
        "\r\n",
        "kates_grade = grades.get(\"Kate\", 0) # equals 0\r\n",
        "print(kates_grade)"
      ],
      "execution_count": 61,
      "outputs": [
        {
          "output_type": "stream",
          "text": [
            "80\n",
            "0\n"
          ],
          "name": "stdout"
        }
      ]
    },
    {
      "cell_type": "markdown",
      "metadata": {
        "id": "Omy4VmNdtgJb"
      },
      "source": [
        "### Pode-se atribuir valores a um dict usando o mesmo formato de colchetes"
      ]
    },
    {
      "cell_type": "code",
      "metadata": {
        "colab": {
          "base_uri": "https://localhost:8080/"
        },
        "id": "rhfReecHthXK",
        "outputId": "9676aec4-d402-44b8-e887-304496a59ff6"
      },
      "source": [
        "print(grades)\r\n",
        "\r\n",
        "grades[\"Tim\"] = 99 # replaces the old value\r\n",
        "print(grades)\r\n",
        "\r\n",
        "grades[\"Kate\"] = 100 # adds a third entry\r\n",
        "print(grades)\r\n",
        "\r\n",
        "num_students = len(grades) # equals 3\r\n",
        "print(num_students)"
      ],
      "execution_count": 62,
      "outputs": [
        {
          "output_type": "stream",
          "text": [
            "{'Joel': 80, 'Tim': 95}\n",
            "{'Joel': 80, 'Tim': 99}\n",
            "{'Joel': 80, 'Tim': 99, 'Kate': 100}\n",
            "3\n"
          ],
          "name": "stdout"
        }
      ]
    },
    {
      "cell_type": "markdown",
      "metadata": {
        "id": "mkdvi1bht9lX"
      },
      "source": [
        "### É comum usarmos dict para representar uma estrutura de dados"
      ]
    },
    {
      "cell_type": "code",
      "metadata": {
        "colab": {
          "base_uri": "https://localhost:8080/"
        },
        "id": "Jzw7tgnOt-j9",
        "outputId": "67cddb62-b3b0-451e-b6f9-0176e5287a81"
      },
      "source": [
        "tweet = {\r\n",
        "  \"user\" : \"joelgrus\",\r\n",
        "  \"text\" : \"Data Science is Awesome\",\r\n",
        "  \"retweet_count\" : 100,\r\n",
        "  \"hashtags\" : [\"#data\", \"#science\", \"#datascience\", \"#awesome\", \"#yolo\"]\r\n",
        "}\r\n",
        "print(len(tweet))"
      ],
      "execution_count": 63,
      "outputs": [
        {
          "output_type": "stream",
          "text": [
            "4\n"
          ],
          "name": "stdout"
        }
      ]
    },
    {
      "cell_type": "markdown",
      "metadata": {
        "id": "Sbow2WgSuJna"
      },
      "source": [
        "### Trabalhando com os itens de um dicionário\r\n"
      ]
    },
    {
      "cell_type": "code",
      "metadata": {
        "colab": {
          "base_uri": "https://localhost:8080/"
        },
        "id": "mTvg3GeruM8y",
        "outputId": "7dad85a7-7a47-4492-d149-3e03956bb935"
      },
      "source": [
        "tweet_keys = tweet.keys() # list of keys\r\n",
        "print(tweet_keys)\r\n",
        "\r\n",
        "tweet_values = tweet.values() # list of values\r\n",
        "print(tweet_values)\r\n",
        "\r\n",
        "tweet_items = tweet.items() # list of (key, value) tuples\r\n",
        "print(tweet_items)\r\n",
        "\r\n",
        "print(\"user\") in tweet_keys # True, but uses a slow list in\r\n",
        "print(\"user\") in tweet # more Pythonic, uses faster dict in\r\n",
        "print(\"joelgrus\") in tweet_values # True\r\n"
      ],
      "execution_count": 65,
      "outputs": [
        {
          "output_type": "stream",
          "text": [
            "dict_keys(['user', 'text', 'retweet_count', 'hashtags'])\n",
            "dict_values(['joelgrus', 'Data Science is Awesome', 100, ['#data', '#science', '#datascience', '#awesome', '#yolo']])\n",
            "dict_items([('user', 'joelgrus'), ('text', 'Data Science is Awesome'), ('retweet_count', 100), ('hashtags', ['#data', '#science', '#datascience', '#awesome', '#yolo'])])\n",
            "user\n",
            "user\n",
            "joelgrus\n"
          ],
          "name": "stdout"
        },
        {
          "output_type": "execute_result",
          "data": {
            "text/plain": [
              "False"
            ]
          },
          "metadata": {
            "tags": []
          },
          "execution_count": 65
        }
      ]
    },
    {
      "cell_type": "markdown",
      "metadata": {
        "id": "mmMvRK1ru7NJ"
      },
      "source": [
        "### defaultdict\r\n",
        "\r\n",
        "### Imagine que você está tentando contar as palavras em um documento. Uma abordagem óbvia é criar um dicionário no qual as chaves são palavras e os valores são contagens. À medida que você verifica cada palavra, você pode incrementar sua contagem se já estiver no dicionário e adicioná-la ao dicionário se não existir"
      ]
    },
    {
      "cell_type": "code",
      "metadata": {
        "colab": {
          "base_uri": "https://localhost:8080/"
        },
        "id": "Cm33SbuFvIUu",
        "outputId": "e1623a22-f73f-48d5-9306-5b4ddad756c0"
      },
      "source": [
        "document = \"\"\"This book uses the word in a more restricted sense: hacki\r\n",
        "ng is a\r\n",
        " recreational and educational sport. It consists of attemp\r\n",
        "ting to make\r\n",
        " unauthorised entry into computers and to explore what is\r\n",
        " there. The\r\n",
        " sport's aims and purposes have been widely misunderstood;\r\n",
        "most\r\n",
        " hackers are not interested in perpetrating massive fraud\r\n",
        "s, modifying\r\n",
        " their personal banking, taxation and employee records, or\r\n",
        "inducing\r\n",
        " one world super-power into inadvertently commencing Armag\r\n",
        "eddon in the\r\n",
        " mistaken belief that another super-power is about to atta\r\n",
        "ck it. Every\r\n",
        " hacker I have ever come across has been quite clear about\r\n",
        "where the\r\n",
        " fun lies: it is in developing an understanding of a syste\r\n",
        "m and\r\n",
        " finally producing the skills and tools to defeat it. In t\r\n",
        "he vast\r\n",
        " majority of cases, the process of 'getting in' is much mo\r\n",
        "re\r\n",
        " satisfying than what is discovered in the protected compu\r\n",
        "ter files.\"\"\"\r\n",
        "word_counts = {}\r\n",
        "for word in document.split(' '):\r\n",
        "  if word in word_counts:\r\n",
        "    word_counts[word] += 1\r\n",
        "  else:\r\n",
        "    word_counts[word] = 1\r\n",
        "print(word_counts)"
      ],
      "execution_count": 66,
      "outputs": [
        {
          "output_type": "stream",
          "text": [
            "{'This': 1, 'book': 1, 'uses': 1, 'the': 4, 'word': 1, 'in': 5, 'a': 2, 'more': 1, 'restricted': 1, 'sense:': 1, 'hacki\\nng': 1, 'is': 5, 'a\\n': 1, 'recreational': 1, 'and': 5, 'educational': 1, 'sport.': 1, 'It': 1, 'consists': 1, 'of': 4, 'attemp\\nting': 1, 'to': 4, 'make\\n': 1, 'unauthorised': 1, 'entry': 1, 'into': 2, 'computers': 1, 'explore': 1, 'what': 2, 'is\\n': 1, 'there.': 1, 'The\\n': 1, \"sport's\": 1, 'aims': 1, 'purposes': 1, 'have': 2, 'been': 2, 'widely': 1, 'misunderstood;\\nmost\\n': 1, 'hackers': 1, 'are': 1, 'not': 1, 'interested': 1, 'perpetrating': 1, 'massive': 1, 'fraud\\ns,': 1, 'modifying\\n': 1, 'their': 1, 'personal': 1, 'banking,': 1, 'taxation': 1, 'employee': 1, 'records,': 1, 'or\\ninducing\\n': 1, 'one': 1, 'world': 1, 'super-power': 2, 'inadvertently': 1, 'commencing': 1, 'Armag\\neddon': 1, 'the\\n': 2, 'mistaken': 1, 'belief': 1, 'that': 1, 'another': 1, 'about': 1, 'atta\\nck': 1, 'it.': 2, 'Every\\n': 1, 'hacker': 1, 'I': 1, 'ever': 1, 'come': 1, 'across': 1, 'has': 1, 'quite': 1, 'clear': 1, 'about\\nwhere': 1, 'fun': 1, 'lies:': 1, 'it': 1, 'developing': 1, 'an': 1, 'understanding': 1, 'syste\\nm': 1, 'and\\n': 1, 'finally': 1, 'producing': 1, 'skills': 1, 'tools': 1, 'defeat': 1, 'In': 1, 't\\nhe': 1, 'vast\\n': 1, 'majority': 1, 'cases,': 1, 'process': 1, \"'getting\": 1, \"in'\": 1, 'much': 1, 'mo\\nre\\n': 1, 'satisfying': 1, 'than': 1, 'discovered': 1, 'protected': 1, 'compu\\nter': 1, 'files.': 1}\n"
          ],
          "name": "stdout"
        }
      ]
    },
    {
      "cell_type": "markdown",
      "metadata": {
        "id": "yDfWC0nAvRj2"
      },
      "source": [
        "### Podemos melhor capturando possíveis exceções:"
      ]
    },
    {
      "cell_type": "code",
      "metadata": {
        "colab": {
          "base_uri": "https://localhost:8080/"
        },
        "id": "xn9gfiiGvV8G",
        "outputId": "18ce6bb9-7fa3-4252-f576-364308526079"
      },
      "source": [
        "word_counts = {}\r\n",
        "for word in document.split(' '):\r\n",
        "  try:\r\n",
        "    word_counts[word] += 1\r\n",
        "  except KeyError:\r\n",
        "    word_counts[word] = 1\r\n",
        "    \r\n",
        "print(word_counts)"
      ],
      "execution_count": 67,
      "outputs": [
        {
          "output_type": "stream",
          "text": [
            "{'This': 1, 'book': 1, 'uses': 1, 'the': 4, 'word': 1, 'in': 5, 'a': 2, 'more': 1, 'restricted': 1, 'sense:': 1, 'hacki\\nng': 1, 'is': 5, 'a\\n': 1, 'recreational': 1, 'and': 5, 'educational': 1, 'sport.': 1, 'It': 1, 'consists': 1, 'of': 4, 'attemp\\nting': 1, 'to': 4, 'make\\n': 1, 'unauthorised': 1, 'entry': 1, 'into': 2, 'computers': 1, 'explore': 1, 'what': 2, 'is\\n': 1, 'there.': 1, 'The\\n': 1, \"sport's\": 1, 'aims': 1, 'purposes': 1, 'have': 2, 'been': 2, 'widely': 1, 'misunderstood;\\nmost\\n': 1, 'hackers': 1, 'are': 1, 'not': 1, 'interested': 1, 'perpetrating': 1, 'massive': 1, 'fraud\\ns,': 1, 'modifying\\n': 1, 'their': 1, 'personal': 1, 'banking,': 1, 'taxation': 1, 'employee': 1, 'records,': 1, 'or\\ninducing\\n': 1, 'one': 1, 'world': 1, 'super-power': 2, 'inadvertently': 1, 'commencing': 1, 'Armag\\neddon': 1, 'the\\n': 2, 'mistaken': 1, 'belief': 1, 'that': 1, 'another': 1, 'about': 1, 'atta\\nck': 1, 'it.': 2, 'Every\\n': 1, 'hacker': 1, 'I': 1, 'ever': 1, 'come': 1, 'across': 1, 'has': 1, 'quite': 1, 'clear': 1, 'about\\nwhere': 1, 'fun': 1, 'lies:': 1, 'it': 1, 'developing': 1, 'an': 1, 'understanding': 1, 'syste\\nm': 1, 'and\\n': 1, 'finally': 1, 'producing': 1, 'skills': 1, 'tools': 1, 'defeat': 1, 'In': 1, 't\\nhe': 1, 'vast\\n': 1, 'majority': 1, 'cases,': 1, 'process': 1, \"'getting\": 1, \"in'\": 1, 'much': 1, 'mo\\nre\\n': 1, 'satisfying': 1, 'than': 1, 'discovered': 1, 'protected': 1, 'compu\\nter': 1, 'files.': 1}\n"
          ],
          "name": "stdout"
        }
      ]
    },
    {
      "cell_type": "markdown",
      "metadata": {
        "id": "VCQo_GScveTt"
      },
      "source": [
        "### Ficará ainda melhor se usarmos o método GET de dict:"
      ]
    },
    {
      "cell_type": "code",
      "metadata": {
        "colab": {
          "base_uri": "https://localhost:8080/"
        },
        "id": "YSEF8Li9vgsm",
        "outputId": "ea7cec0c-d423-4ccb-ac61-600754008447"
      },
      "source": [
        "word_counts = {}\r\n",
        "for word in document.split(' '):\r\n",
        "  previous_count = word_counts.get(word, 0)\r\n",
        "  word_counts[word] = previous_count + 1\r\n",
        "print(word_counts)"
      ],
      "execution_count": 68,
      "outputs": [
        {
          "output_type": "stream",
          "text": [
            "{'This': 1, 'book': 1, 'uses': 1, 'the': 4, 'word': 1, 'in': 5, 'a': 2, 'more': 1, 'restricted': 1, 'sense:': 1, 'hacki\\nng': 1, 'is': 5, 'a\\n': 1, 'recreational': 1, 'and': 5, 'educational': 1, 'sport.': 1, 'It': 1, 'consists': 1, 'of': 4, 'attemp\\nting': 1, 'to': 4, 'make\\n': 1, 'unauthorised': 1, 'entry': 1, 'into': 2, 'computers': 1, 'explore': 1, 'what': 2, 'is\\n': 1, 'there.': 1, 'The\\n': 1, \"sport's\": 1, 'aims': 1, 'purposes': 1, 'have': 2, 'been': 2, 'widely': 1, 'misunderstood;\\nmost\\n': 1, 'hackers': 1, 'are': 1, 'not': 1, 'interested': 1, 'perpetrating': 1, 'massive': 1, 'fraud\\ns,': 1, 'modifying\\n': 1, 'their': 1, 'personal': 1, 'banking,': 1, 'taxation': 1, 'employee': 1, 'records,': 1, 'or\\ninducing\\n': 1, 'one': 1, 'world': 1, 'super-power': 2, 'inadvertently': 1, 'commencing': 1, 'Armag\\neddon': 1, 'the\\n': 2, 'mistaken': 1, 'belief': 1, 'that': 1, 'another': 1, 'about': 1, 'atta\\nck': 1, 'it.': 2, 'Every\\n': 1, 'hacker': 1, 'I': 1, 'ever': 1, 'come': 1, 'across': 1, 'has': 1, 'quite': 1, 'clear': 1, 'about\\nwhere': 1, 'fun': 1, 'lies:': 1, 'it': 1, 'developing': 1, 'an': 1, 'understanding': 1, 'syste\\nm': 1, 'and\\n': 1, 'finally': 1, 'producing': 1, 'skills': 1, 'tools': 1, 'defeat': 1, 'In': 1, 't\\nhe': 1, 'vast\\n': 1, 'majority': 1, 'cases,': 1, 'process': 1, \"'getting\": 1, \"in'\": 1, 'much': 1, 'mo\\nre\\n': 1, 'satisfying': 1, 'than': 1, 'discovered': 1, 'protected': 1, 'compu\\nter': 1, 'files.': 1}\n"
          ],
          "name": "stdout"
        }
      ]
    },
    {
      "cell_type": "markdown",
      "metadata": {
        "id": "Lt8EF6U_vlZ1"
      },
      "source": [
        "### Uma melhor opção é usar defaultdict.\r\n",
        "### Um defaultdict é como um dicionário regular, exceto que, quando você tenta procurar uma chave que não contém ele primeiro adiciona um valor para isso usando uma função de argumento zero que você forneceu ao criá-lo.\r\n"
      ]
    },
    {
      "cell_type": "code",
      "metadata": {
        "colab": {
          "base_uri": "https://localhost:8080/"
        },
        "id": "VYU1d6gzvq7_",
        "outputId": "ac94cc97-ffd4-409c-8e59-51d0ed9ff1ab"
      },
      "source": [
        "from collections import defaultdict\r\n",
        "word_counts = defaultdict(int) # int() produces 0\r\n",
        "for word in document.split(' '):\r\n",
        "  word_counts[word] += 1\r\n",
        "print(word_counts)\r\n"
      ],
      "execution_count": 69,
      "outputs": [
        {
          "output_type": "stream",
          "text": [
            "defaultdict(<class 'int'>, {'This': 1, 'book': 1, 'uses': 1, 'the': 4, 'word': 1, 'in': 5, 'a': 2, 'more': 1, 'restricted': 1, 'sense:': 1, 'hacki\\nng': 1, 'is': 5, 'a\\n': 1, 'recreational': 1, 'and': 5, 'educational': 1, 'sport.': 1, 'It': 1, 'consists': 1, 'of': 4, 'attemp\\nting': 1, 'to': 4, 'make\\n': 1, 'unauthorised': 1, 'entry': 1, 'into': 2, 'computers': 1, 'explore': 1, 'what': 2, 'is\\n': 1, 'there.': 1, 'The\\n': 1, \"sport's\": 1, 'aims': 1, 'purposes': 1, 'have': 2, 'been': 2, 'widely': 1, 'misunderstood;\\nmost\\n': 1, 'hackers': 1, 'are': 1, 'not': 1, 'interested': 1, 'perpetrating': 1, 'massive': 1, 'fraud\\ns,': 1, 'modifying\\n': 1, 'their': 1, 'personal': 1, 'banking,': 1, 'taxation': 1, 'employee': 1, 'records,': 1, 'or\\ninducing\\n': 1, 'one': 1, 'world': 1, 'super-power': 2, 'inadvertently': 1, 'commencing': 1, 'Armag\\neddon': 1, 'the\\n': 2, 'mistaken': 1, 'belief': 1, 'that': 1, 'another': 1, 'about': 1, 'atta\\nck': 1, 'it.': 2, 'Every\\n': 1, 'hacker': 1, 'I': 1, 'ever': 1, 'come': 1, 'across': 1, 'has': 1, 'quite': 1, 'clear': 1, 'about\\nwhere': 1, 'fun': 1, 'lies:': 1, 'it': 1, 'developing': 1, 'an': 1, 'understanding': 1, 'syste\\nm': 1, 'and\\n': 1, 'finally': 1, 'producing': 1, 'skills': 1, 'tools': 1, 'defeat': 1, 'In': 1, 't\\nhe': 1, 'vast\\n': 1, 'majority': 1, 'cases,': 1, 'process': 1, \"'getting\": 1, \"in'\": 1, 'much': 1, 'mo\\nre\\n': 1, 'satisfying': 1, 'than': 1, 'discovered': 1, 'protected': 1, 'compu\\nter': 1, 'files.': 1})\n"
          ],
          "name": "stdout"
        }
      ]
    },
    {
      "cell_type": "code",
      "metadata": {
        "colab": {
          "base_uri": "https://localhost:8080/"
        },
        "id": "NiFjWrKRvvl0",
        "outputId": "8bc58f1b-3290-4c71-b004-e9d2b74ddc19"
      },
      "source": [
        "dd_list = defaultdict(list) # list() produces an empty list\r\n",
        "print(dd_list)\r\n",
        "dd_list[2].append(1) # now dd_list contains {2: [1]}\r\n",
        "print(dd_list)\r\n",
        "\r\n",
        "dd_dict = defaultdict(dict) # dict() produces an empty dict\r\n",
        "print(dd_dict)\r\n",
        "dd_dict[\"Joel\"][\"City\"] = \"Seattle\" # { \"Joel\" : { \"City\" : Seattle\"}}\r\n",
        "print(dd_dict)\r\n",
        "\r\n",
        "dd_pair = defaultdict(lambda: [0, 0])\r\n",
        "print(dd_pair)\r\n",
        "dd_pair[2][1] = 1 # now dd_pair contains {2: [0,1]}\r\n",
        "print(dd_pair)\r\n"
      ],
      "execution_count": 70,
      "outputs": [
        {
          "output_type": "stream",
          "text": [
            "defaultdict(<class 'list'>, {})\n",
            "defaultdict(<class 'list'>, {2: [1]})\n",
            "defaultdict(<class 'dict'>, {})\n",
            "defaultdict(<class 'dict'>, {'Joel': {'City': 'Seattle'}})\n",
            "defaultdict(<function <lambda> at 0x7f4e8ef9a8c0>, {})\n",
            "defaultdict(<function <lambda> at 0x7f4e8ef9a8c0>, {2: [0, 1]})\n"
          ],
          "name": "stdout"
        }
      ]
    },
    {
      "cell_type": "markdown",
      "metadata": {
        "id": "geHv-5xZv28b"
      },
      "source": [
        "### Counter\r\n",
        "### O principal uso de Counter é criar histogramas\r\n"
      ]
    },
    {
      "cell_type": "code",
      "metadata": {
        "colab": {
          "base_uri": "https://localhost:8080/"
        },
        "id": "arFE5nZtv6O1",
        "outputId": "57d5249f-ad14-47e1-e3c8-205130594d81"
      },
      "source": [
        "from collections import Counter\r\n",
        "c = Counter([0, 1, 2, 0]) # c is (basically) { 0 : 2, 1 : 1, 2 : 1 }\r\n",
        "print(c)"
      ],
      "execution_count": 71,
      "outputs": [
        {
          "output_type": "stream",
          "text": [
            "Counter({0: 2, 1: 1, 2: 1})\n"
          ],
          "name": "stdout"
        }
      ]
    },
    {
      "cell_type": "markdown",
      "metadata": {
        "id": "c8_M-w55v-Xi"
      },
      "source": [
        "### Isso resolve de maneira simples nosso problema de contagem de palavras:\r\n"
      ]
    },
    {
      "cell_type": "code",
      "metadata": {
        "colab": {
          "base_uri": "https://localhost:8080/"
        },
        "id": "M347sIPjwAr8",
        "outputId": "89438a6c-03ab-48a3-ba7c-c37b1abd1886"
      },
      "source": [
        "word_counts = Counter(document.split(\" \"))\r\n",
        "print(word_counts)"
      ],
      "execution_count": 72,
      "outputs": [
        {
          "output_type": "stream",
          "text": [
            "Counter({'in': 5, 'is': 5, 'and': 5, 'the': 4, 'of': 4, 'to': 4, 'a': 2, 'into': 2, 'what': 2, 'have': 2, 'been': 2, 'super-power': 2, 'the\\n': 2, 'it.': 2, 'This': 1, 'book': 1, 'uses': 1, 'word': 1, 'more': 1, 'restricted': 1, 'sense:': 1, 'hacki\\nng': 1, 'a\\n': 1, 'recreational': 1, 'educational': 1, 'sport.': 1, 'It': 1, 'consists': 1, 'attemp\\nting': 1, 'make\\n': 1, 'unauthorised': 1, 'entry': 1, 'computers': 1, 'explore': 1, 'is\\n': 1, 'there.': 1, 'The\\n': 1, \"sport's\": 1, 'aims': 1, 'purposes': 1, 'widely': 1, 'misunderstood;\\nmost\\n': 1, 'hackers': 1, 'are': 1, 'not': 1, 'interested': 1, 'perpetrating': 1, 'massive': 1, 'fraud\\ns,': 1, 'modifying\\n': 1, 'their': 1, 'personal': 1, 'banking,': 1, 'taxation': 1, 'employee': 1, 'records,': 1, 'or\\ninducing\\n': 1, 'one': 1, 'world': 1, 'inadvertently': 1, 'commencing': 1, 'Armag\\neddon': 1, 'mistaken': 1, 'belief': 1, 'that': 1, 'another': 1, 'about': 1, 'atta\\nck': 1, 'Every\\n': 1, 'hacker': 1, 'I': 1, 'ever': 1, 'come': 1, 'across': 1, 'has': 1, 'quite': 1, 'clear': 1, 'about\\nwhere': 1, 'fun': 1, 'lies:': 1, 'it': 1, 'developing': 1, 'an': 1, 'understanding': 1, 'syste\\nm': 1, 'and\\n': 1, 'finally': 1, 'producing': 1, 'skills': 1, 'tools': 1, 'defeat': 1, 'In': 1, 't\\nhe': 1, 'vast\\n': 1, 'majority': 1, 'cases,': 1, 'process': 1, \"'getting\": 1, \"in'\": 1, 'much': 1, 'mo\\nre\\n': 1, 'satisfying': 1, 'than': 1, 'discovered': 1, 'protected': 1, 'compu\\nter': 1, 'files.': 1})\n"
          ],
          "name": "stdout"
        }
      ]
    },
    {
      "cell_type": "markdown",
      "metadata": {
        "id": "xT0HQI_BwDpT"
      },
      "source": [
        "### Counter possui um método chamado most_commom que é muito usado"
      ]
    },
    {
      "cell_type": "code",
      "metadata": {
        "colab": {
          "base_uri": "https://localhost:8080/"
        },
        "id": "TJsFBKedwFc9",
        "outputId": "e98f6b4a-07ae-4c99-dc3f-ccbdfc84741f"
      },
      "source": [
        "for word, count in word_counts.most_common(30):\r\n",
        "  print(word, count)"
      ],
      "execution_count": 73,
      "outputs": [
        {
          "output_type": "stream",
          "text": [
            "in 5\n",
            "is 5\n",
            "and 5\n",
            "the 4\n",
            "of 4\n",
            "to 4\n",
            "a 2\n",
            "into 2\n",
            "what 2\n",
            "have 2\n",
            "been 2\n",
            "super-power 2\n",
            "the\n",
            " 2\n",
            "it. 2\n",
            "This 1\n",
            "book 1\n",
            "uses 1\n",
            "word 1\n",
            "more 1\n",
            "restricted 1\n",
            "sense: 1\n",
            "hacki\n",
            "ng 1\n",
            "a\n",
            " 1\n",
            "recreational 1\n",
            "educational 1\n",
            "sport. 1\n",
            "It 1\n",
            "consists 1\n",
            "attemp\n",
            "ting 1\n",
            "make\n",
            " 1\n"
          ],
          "name": "stdout"
        }
      ]
    },
    {
      "cell_type": "markdown",
      "metadata": {
        "id": "jlqjpz0YwIc9"
      },
      "source": [
        "# Sets"
      ]
    },
    {
      "cell_type": "markdown",
      "metadata": {
        "id": "oOVnU6lUwK_o"
      },
      "source": [
        "### Representa uma coleção de elementos distintos, ou seja, não repetidos\r\n"
      ]
    },
    {
      "cell_type": "code",
      "metadata": {
        "colab": {
          "base_uri": "https://localhost:8080/"
        },
        "id": "3IAxaBE4wMyz",
        "outputId": "677dba47-3a05-4c97-9549-f01fe7d153c3"
      },
      "source": [
        "s = set()\r\n",
        "print(s)\r\n",
        "\r\n",
        "s.add(1) # s is now { 1 }\r\n",
        "s.add(2) # s is now { 1, 2 }\r\n",
        "s.add(2) # s is still { 1, 2 }\r\n",
        "print(s)\r\n",
        "\r\n",
        "x = len(s) # equals 2\r\n",
        "print(x)\r\n",
        "\r\n",
        "y = 2 in s # equals True\r\n",
        "print(y)\r\n",
        "\r\n",
        "z = 3 in s # equals False\r\n",
        "print(z)"
      ],
      "execution_count": 74,
      "outputs": [
        {
          "output_type": "stream",
          "text": [
            "set()\n",
            "{1, 2}\n",
            "2\n",
            "True\n",
            "False\n"
          ],
          "name": "stdout"
        }
      ]
    },
    {
      "cell_type": "markdown",
      "metadata": {
        "id": "qtvY_OK2wSZD"
      },
      "source": [
        "### Usaremos SET por duas razões:\r\n",
        "### Primeiro porque o operador IN em Sets é muito rápido, especialmente quanto estamos lidando com grandes quantidades de dados\r\n",
        "### Segundo porque em alguns casos queremos identificar um grupo distinto em uma coleção"
      ]
    },
    {
      "cell_type": "code",
      "metadata": {
        "colab": {
          "base_uri": "https://localhost:8080/",
          "height": 231
        },
        "id": "L-hcbfKjwY-K",
        "outputId": "a8e43e2b-ab51-497c-99c4-f913a92da656"
      },
      "source": [
        "stopwords_list = [\"a\",\"an\",\"at\"] + hundreds_of_other_words + [\"yet\", \"you\"]\r\n",
        "\"zip\" in stopwords_list # False, but have to check every element\r\n",
        "\r\n",
        "stopwords_set = set(stopwords_list)\r\n",
        "\"zip\" in stopwords_set # very fast to check"
      ],
      "execution_count": 79,
      "outputs": [
        {
          "output_type": "error",
          "ename": "NameError",
          "evalue": "ignored",
          "traceback": [
            "\u001b[0;31m---------------------------------------------------------------------------\u001b[0m",
            "\u001b[0;31mNameError\u001b[0m                                 Traceback (most recent call last)",
            "\u001b[0;32m<ipython-input-79-d94f2aafe01e>\u001b[0m in \u001b[0;36m<module>\u001b[0;34m()\u001b[0m\n\u001b[0;32m----> 1\u001b[0;31m \u001b[0mstopwords_list\u001b[0m \u001b[0;34m=\u001b[0m \u001b[0;34m[\u001b[0m\u001b[0;34m\"a\"\u001b[0m\u001b[0;34m,\u001b[0m\u001b[0;34m\"an\"\u001b[0m\u001b[0;34m,\u001b[0m\u001b[0;34m\"at\"\u001b[0m\u001b[0;34m]\u001b[0m \u001b[0;34m+\u001b[0m \u001b[0mhundreds_of_other_words\u001b[0m \u001b[0;34m+\u001b[0m \u001b[0;34m[\u001b[0m\u001b[0;34m\"yat\"\u001b[0m\u001b[0;34m,\u001b[0m \u001b[0;34m\"you\"\u001b[0m\u001b[0;34m]\u001b[0m\u001b[0;34m\u001b[0m\u001b[0;34m\u001b[0m\u001b[0m\n\u001b[0m\u001b[1;32m      2\u001b[0m \u001b[0;34m\"zip\"\u001b[0m \u001b[0;32min\u001b[0m \u001b[0mstopwords_list\u001b[0m \u001b[0;31m# False, but have to check every element\u001b[0m\u001b[0;34m\u001b[0m\u001b[0;34m\u001b[0m\u001b[0m\n\u001b[1;32m      3\u001b[0m \u001b[0;34m\u001b[0m\u001b[0m\n\u001b[1;32m      4\u001b[0m \u001b[0mstopwords_set\u001b[0m \u001b[0;34m=\u001b[0m \u001b[0mset\u001b[0m\u001b[0;34m(\u001b[0m\u001b[0mstopwords_list\u001b[0m\u001b[0;34m)\u001b[0m\u001b[0;34m\u001b[0m\u001b[0;34m\u001b[0m\u001b[0m\n\u001b[1;32m      5\u001b[0m \u001b[0;34m\"zip\"\u001b[0m \u001b[0;32min\u001b[0m \u001b[0mstopwords_set\u001b[0m \u001b[0;31m# very fast to check\u001b[0m\u001b[0;34m\u001b[0m\u001b[0;34m\u001b[0m\u001b[0m\n",
            "\u001b[0;31mNameError\u001b[0m: name 'hundreds_of_other_words' is not defined"
          ]
        }
      ]
    },
    {
      "cell_type": "code",
      "metadata": {
        "colab": {
          "base_uri": "https://localhost:8080/"
        },
        "id": "ZN95uWxNxZ6C",
        "outputId": "127e986f-f2b2-47fc-d039-3da8c4599e12"
      },
      "source": [
        "item_list = [1, 2, 3, 1, 2, 3]\r\n",
        "num_items = len(item_list) # 6\r\n",
        "print(num_items)\r\n",
        "\r\n",
        "item_set = set(item_list) # {1, 2, 3}\r\n",
        "num_distinct_items = len(item_set) # 3\r\n",
        "print(num_distinct_items)\r\n",
        "\r\n",
        "distinct_item_list = list(item_set) # [1, 2, 3]"
      ],
      "execution_count": 80,
      "outputs": [
        {
          "output_type": "stream",
          "text": [
            "6\n",
            "3\n"
          ],
          "name": "stdout"
        }
      ]
    },
    {
      "cell_type": "markdown",
      "metadata": {
        "id": "JGmF2PcIxeTa"
      },
      "source": [
        "# Controle de Fluxo"
      ]
    },
    {
      "cell_type": "markdown",
      "metadata": {
        "id": "9GiRiev4xgtb"
      },
      "source": [
        "### O uso do teste condicional IF\r\n"
      ]
    },
    {
      "cell_type": "code",
      "metadata": {
        "id": "oJHb4AbsxiiX"
      },
      "source": [
        "if 1 > 2:\r\n",
        "  message = \"if only 1 were greater than two…\"\r\n",
        "elif 1 > 3:\r\n",
        "  message = \"elif stands for 'else if'\"\r\n",
        "else:\r\n",
        "  message = \"when all else fails use else (if you want to)\""
      ],
      "execution_count": 81,
      "outputs": []
    },
    {
      "cell_type": "markdown",
      "metadata": {
        "id": "Zysbrz53xndv"
      },
      "source": [
        "### Ternário if-then-else\r\n"
      ]
    },
    {
      "cell_type": "code",
      "metadata": {
        "colab": {
          "base_uri": "https://localhost:8080/"
        },
        "id": "hr9p3updxpiR",
        "outputId": "27d1db54-bba0-4dac-c538-b981d664d70d"
      },
      "source": [
        "x = 5\r\n",
        "parity = \"even\" if x % 2 == 0 else \"odd\"\r\n",
        "print(parity)\r\n"
      ],
      "execution_count": 82,
      "outputs": [
        {
          "output_type": "stream",
          "text": [
            "odd\n"
          ],
          "name": "stdout"
        }
      ]
    },
    {
      "cell_type": "markdown",
      "metadata": {
        "id": "7-ZXgVllxtwg"
      },
      "source": [
        "### O laço While"
      ]
    },
    {
      "cell_type": "code",
      "metadata": {
        "colab": {
          "base_uri": "https://localhost:8080/"
        },
        "id": "8xpEiMTZxvuW",
        "outputId": "460e5e93-b55e-4352-a338-b543aab9a63e"
      },
      "source": [
        "x = 0\r\n",
        "while x < 10:\r\n",
        "  print(x, \"is less than 10\")\r\n",
        "  x += 1"
      ],
      "execution_count": 84,
      "outputs": [
        {
          "output_type": "stream",
          "text": [
            "0 is less than 10\n",
            "1 is less than 10\n",
            "2 is less than 10\n",
            "3 is less than 10\n",
            "4 is less than 10\n",
            "5 is less than 10\n",
            "6 is less than 10\n",
            "7 is less than 10\n",
            "8 is less than 10\n",
            "9 is less than 10\n"
          ],
          "name": "stdout"
        }
      ]
    },
    {
      "cell_type": "markdown",
      "metadata": {
        "id": "BnY9mJhTx-UH"
      },
      "source": [
        "### Contudo é mais frequente o uso de FOR e IN"
      ]
    },
    {
      "cell_type": "code",
      "metadata": {
        "colab": {
          "base_uri": "https://localhost:8080/"
        },
        "id": "c5VUOb56yAI_",
        "outputId": "8e2563a6-0825-4fc6-859a-22c221b6eacf"
      },
      "source": [
        "for x in range(10):\r\n",
        "  print(x, \"is less than 10\")\r\n"
      ],
      "execution_count": 85,
      "outputs": [
        {
          "output_type": "stream",
          "text": [
            "0 is less than 10\n",
            "1 is less than 10\n",
            "2 is less than 10\n",
            "3 is less than 10\n",
            "4 is less than 10\n",
            "5 is less than 10\n",
            "6 is less than 10\n",
            "7 is less than 10\n",
            "8 is less than 10\n",
            "9 is less than 10\n"
          ],
          "name": "stdout"
        }
      ]
    },
    {
      "cell_type": "markdown",
      "metadata": {
        "id": "fR94q_p-yDZ_"
      },
      "source": [
        "### Para uma lógica mais complexa usamos o CONTINUE e o BREAK\r\n"
      ]
    },
    {
      "cell_type": "code",
      "metadata": {
        "colab": {
          "base_uri": "https://localhost:8080/"
        },
        "id": "pSdee4icyH1u",
        "outputId": "e9fe8f01-eefb-4fce-fe4f-a61fe4d22ee0"
      },
      "source": [
        "for x in range(10):\r\n",
        "  if x == 3:\r\n",
        "    continue # go immediately to the next iteration\r\n",
        "  if x == 5:\r\n",
        "    break # quit the loop entirely\r\n",
        "print(x)"
      ],
      "execution_count": 87,
      "outputs": [
        {
          "output_type": "stream",
          "text": [
            "5\n"
          ],
          "name": "stdout"
        }
      ]
    },
    {
      "cell_type": "markdown",
      "metadata": {
        "id": "5wVu63KfyRZ2"
      },
      "source": [
        "# Trabalhando com booleans"
      ]
    },
    {
      "cell_type": "markdown",
      "metadata": {
        "id": "Gt3Z9ISHyUE5"
      },
      "source": [
        "### Em Python booleans são capitalizados"
      ]
    },
    {
      "cell_type": "code",
      "metadata": {
        "colab": {
          "base_uri": "https://localhost:8080/"
        },
        "id": "aXtCzI5QyV5v",
        "outputId": "a48a9654-d758-4957-cac5-5b2f2b457add"
      },
      "source": [
        "one_is_less_than_two = 1 < 2 # equals True\r\n",
        "print(one_is_less_than_two)\r\n",
        "\r\n",
        "true_equals_false = True == False # equals False\r\n",
        "print(true_equals_false)\r\n"
      ],
      "execution_count": 88,
      "outputs": [
        {
          "output_type": "stream",
          "text": [
            "True\n",
            "False\n"
          ],
          "name": "stdout"
        }
      ]
    },
    {
      "cell_type": "markdown",
      "metadata": {
        "id": "E0wRlKuPyZLu"
      },
      "source": [
        "### Python usa o valor None para indicar a ausência de valor"
      ]
    },
    {
      "cell_type": "code",
      "metadata": {
        "id": "b9d_-PXqybqP"
      },
      "source": [
        "x = None\r\n"
      ],
      "execution_count": 90,
      "outputs": []
    },
    {
      "cell_type": "code",
      "metadata": {
        "colab": {
          "base_uri": "https://localhost:8080/"
        },
        "id": "_1xJm5t1ydaK",
        "outputId": "ad7da9e6-0f2d-4ec2-e0f5-240e4a7834a2"
      },
      "source": [
        "print(x) == None # prints True, but is not Pythonic\r\n"
      ],
      "execution_count": 91,
      "outputs": [
        {
          "output_type": "stream",
          "text": [
            "None\n"
          ],
          "name": "stdout"
        },
        {
          "output_type": "execute_result",
          "data": {
            "text/plain": [
              "True"
            ]
          },
          "metadata": {
            "tags": []
          },
          "execution_count": 91
        }
      ]
    },
    {
      "cell_type": "code",
      "metadata": {
        "colab": {
          "base_uri": "https://localhost:8080/"
        },
        "id": "m-HTeCK8ygNG",
        "outputId": "b2d161fa-9d76-4df4-bbdc-82dd1b0cc295"
      },
      "source": [
        "print(x) is None # prints True, and is Pythonic\r\n"
      ],
      "execution_count": 92,
      "outputs": [
        {
          "output_type": "stream",
          "text": [
            "None\n"
          ],
          "name": "stdout"
        },
        {
          "output_type": "execute_result",
          "data": {
            "text/plain": [
              "True"
            ]
          },
          "metadata": {
            "tags": []
          },
          "execution_count": 92
        }
      ]
    },
    {
      "cell_type": "code",
      "metadata": {
        "colab": {
          "base_uri": "https://localhost:8080/"
        },
        "id": "cI-NIfHWyiPe",
        "outputId": "7a862e88-391b-492a-d33c-5d5d96059483"
      },
      "source": [
        "print(x) == None\r\n"
      ],
      "execution_count": 93,
      "outputs": [
        {
          "output_type": "stream",
          "text": [
            "None\n"
          ],
          "name": "stdout"
        },
        {
          "output_type": "execute_result",
          "data": {
            "text/plain": [
              "True"
            ]
          },
          "metadata": {
            "tags": []
          },
          "execution_count": 93
        }
      ]
    },
    {
      "cell_type": "markdown",
      "metadata": {
        "id": "-VLfEsG8yogw"
      },
      "source": [
        "# Ordenação (sorting)\r\n"
      ]
    },
    {
      "cell_type": "markdown",
      "metadata": {
        "id": "5RA0ZsEcyqxu"
      },
      "source": [
        "### Toda lista Python possui um método SORT para promover a ordenação do conteúdo na mesma lista.\r\n",
        "### Caso prefira ter uma segunda lista fruto da ordenação, pode-se usar a função SORTED\r\n"
      ]
    },
    {
      "cell_type": "code",
      "metadata": {
        "colab": {
          "base_uri": "https://localhost:8080/"
        },
        "id": "E84xigvbyuju",
        "outputId": "76efeefd-10f2-40c8-bea8-6efeec89f17b"
      },
      "source": [
        "x = [4,1,2,3]\r\n",
        "print(x)\r\n"
      ],
      "execution_count": 94,
      "outputs": [
        {
          "output_type": "stream",
          "text": [
            "[4, 1, 2, 3]\n"
          ],
          "name": "stdout"
        }
      ]
    },
    {
      "cell_type": "code",
      "metadata": {
        "colab": {
          "base_uri": "https://localhost:8080/"
        },
        "id": "vT5MB9ZbyxiW",
        "outputId": "6dfdf29d-62f8-4b63-ae7c-02ffba27f00d"
      },
      "source": [
        "y = sorted(x) # is [1,2,3,4], x is unchanged\r\n",
        "print(y)\r\n"
      ],
      "execution_count": 95,
      "outputs": [
        {
          "output_type": "stream",
          "text": [
            "[1, 2, 3, 4]\n"
          ],
          "name": "stdout"
        }
      ]
    },
    {
      "cell_type": "code",
      "metadata": {
        "colab": {
          "base_uri": "https://localhost:8080/"
        },
        "id": "L_ErD6q5yyQ3",
        "outputId": "115d89e2-3b8a-4f00-80ea-f6816ed281f1"
      },
      "source": [
        "x.sort() # now x is [1,2,3,4]\r\n",
        "print(x)"
      ],
      "execution_count": 96,
      "outputs": [
        {
          "output_type": "stream",
          "text": [
            "[1, 2, 3, 4]\n"
          ],
          "name": "stdout"
        }
      ]
    },
    {
      "cell_type": "markdown",
      "metadata": {
        "id": "oVHUWJoHy0Y3"
      },
      "source": [
        "### Por padrão, SORT e SORTED ordenam do menor para o maior, caso queira o inverso, deve-se usar a função SORTED com o parâmetro reverse=True. Você também pode informar uma função que será aplicada a cada elemento e cuja saída será utilizada na ordenação"
      ]
    },
    {
      "cell_type": "code",
      "metadata": {
        "colab": {
          "base_uri": "https://localhost:8080/"
        },
        "id": "NSZwja7Ny5TV",
        "outputId": "f9f0c8f1-a802-4b58-c9d0-bd098ef46f8d"
      },
      "source": [
        "x = sorted([-4,1,-2,3], reverse=True)\r\n",
        "print(x)"
      ],
      "execution_count": 97,
      "outputs": [
        {
          "output_type": "stream",
          "text": [
            "[3, 1, -2, -4]\n"
          ],
          "name": "stdout"
        }
      ]
    },
    {
      "cell_type": "code",
      "metadata": {
        "colab": {
          "base_uri": "https://localhost:8080/"
        },
        "id": "LdizwP7By66o",
        "outputId": "90c343a9-f10a-4b98-bdcd-1bca8f4c2624"
      },
      "source": [
        " # sort the list by absolute value from largest to smallest\r\n",
        "x = sorted([-4,1,-2,3], key=abs, reverse=True) # is [-4,3,-2,1]\r\n",
        "print(x)"
      ],
      "execution_count": 98,
      "outputs": [
        {
          "output_type": "stream",
          "text": [
            "[-4, 3, -2, 1]\n"
          ],
          "name": "stdout"
        }
      ]
    },
    {
      "cell_type": "code",
      "metadata": {
        "colab": {
          "base_uri": "https://localhost:8080/"
        },
        "id": "7rvDu9PFy-hJ",
        "outputId": "4b86c790-b886-4991-887b-5899bf160ab6"
      },
      "source": [
        "word_counts.items()\r\n"
      ],
      "execution_count": 99,
      "outputs": [
        {
          "output_type": "execute_result",
          "data": {
            "text/plain": [
              "dict_items([('This', 1), ('book', 1), ('uses', 1), ('the', 4), ('word', 1), ('in', 5), ('a', 2), ('more', 1), ('restricted', 1), ('sense:', 1), ('hacki\\nng', 1), ('is', 5), ('a\\n', 1), ('recreational', 1), ('and', 5), ('educational', 1), ('sport.', 1), ('It', 1), ('consists', 1), ('of', 4), ('attemp\\nting', 1), ('to', 4), ('make\\n', 1), ('unauthorised', 1), ('entry', 1), ('into', 2), ('computers', 1), ('explore', 1), ('what', 2), ('is\\n', 1), ('there.', 1), ('The\\n', 1), (\"sport's\", 1), ('aims', 1), ('purposes', 1), ('have', 2), ('been', 2), ('widely', 1), ('misunderstood;\\nmost\\n', 1), ('hackers', 1), ('are', 1), ('not', 1), ('interested', 1), ('perpetrating', 1), ('massive', 1), ('fraud\\ns,', 1), ('modifying\\n', 1), ('their', 1), ('personal', 1), ('banking,', 1), ('taxation', 1), ('employee', 1), ('records,', 1), ('or\\ninducing\\n', 1), ('one', 1), ('world', 1), ('super-power', 2), ('inadvertently', 1), ('commencing', 1), ('Armag\\neddon', 1), ('the\\n', 2), ('mistaken', 1), ('belief', 1), ('that', 1), ('another', 1), ('about', 1), ('atta\\nck', 1), ('it.', 2), ('Every\\n', 1), ('hacker', 1), ('I', 1), ('ever', 1), ('come', 1), ('across', 1), ('has', 1), ('quite', 1), ('clear', 1), ('about\\nwhere', 1), ('fun', 1), ('lies:', 1), ('it', 1), ('developing', 1), ('an', 1), ('understanding', 1), ('syste\\nm', 1), ('and\\n', 1), ('finally', 1), ('producing', 1), ('skills', 1), ('tools', 1), ('defeat', 1), ('In', 1), ('t\\nhe', 1), ('vast\\n', 1), ('majority', 1), ('cases,', 1), ('process', 1), (\"'getting\", 1), (\"in'\", 1), ('much', 1), ('mo\\nre\\n', 1), ('satisfying', 1), ('than', 1), ('discovered', 1), ('protected', 1), ('compu\\nter', 1), ('files.', 1)])"
            ]
          },
          "metadata": {
            "tags": []
          },
          "execution_count": 99
        }
      ]
    },
    {
      "cell_type": "code",
      "metadata": {
        "colab": {
          "base_uri": "https://localhost:8080/"
        },
        "id": "qHNC9YRkzARV",
        "outputId": "bcd5deaa-8354-4e2e-c47c-65c73f9492dc"
      },
      "source": [
        "# sort the words and counts from highest count to lowest\r\n",
        "wc = sorted(word_counts.items(), key=lambda item: item[1], reverse=True)\r\n",
        "print(wc)\r\n"
      ],
      "execution_count": 100,
      "outputs": [
        {
          "output_type": "stream",
          "text": [
            "[('in', 5), ('is', 5), ('and', 5), ('the', 4), ('of', 4), ('to', 4), ('a', 2), ('into', 2), ('what', 2), ('have', 2), ('been', 2), ('super-power', 2), ('the\\n', 2), ('it.', 2), ('This', 1), ('book', 1), ('uses', 1), ('word', 1), ('more', 1), ('restricted', 1), ('sense:', 1), ('hacki\\nng', 1), ('a\\n', 1), ('recreational', 1), ('educational', 1), ('sport.', 1), ('It', 1), ('consists', 1), ('attemp\\nting', 1), ('make\\n', 1), ('unauthorised', 1), ('entry', 1), ('computers', 1), ('explore', 1), ('is\\n', 1), ('there.', 1), ('The\\n', 1), (\"sport's\", 1), ('aims', 1), ('purposes', 1), ('widely', 1), ('misunderstood;\\nmost\\n', 1), ('hackers', 1), ('are', 1), ('not', 1), ('interested', 1), ('perpetrating', 1), ('massive', 1), ('fraud\\ns,', 1), ('modifying\\n', 1), ('their', 1), ('personal', 1), ('banking,', 1), ('taxation', 1), ('employee', 1), ('records,', 1), ('or\\ninducing\\n', 1), ('one', 1), ('world', 1), ('inadvertently', 1), ('commencing', 1), ('Armag\\neddon', 1), ('mistaken', 1), ('belief', 1), ('that', 1), ('another', 1), ('about', 1), ('atta\\nck', 1), ('Every\\n', 1), ('hacker', 1), ('I', 1), ('ever', 1), ('come', 1), ('across', 1), ('has', 1), ('quite', 1), ('clear', 1), ('about\\nwhere', 1), ('fun', 1), ('lies:', 1), ('it', 1), ('developing', 1), ('an', 1), ('understanding', 1), ('syste\\nm', 1), ('and\\n', 1), ('finally', 1), ('producing', 1), ('skills', 1), ('tools', 1), ('defeat', 1), ('In', 1), ('t\\nhe', 1), ('vast\\n', 1), ('majority', 1), ('cases,', 1), ('process', 1), (\"'getting\", 1), (\"in'\", 1), ('much', 1), ('mo\\nre\\n', 1), ('satisfying', 1), ('than', 1), ('discovered', 1), ('protected', 1), ('compu\\nter', 1), ('files.', 1)]\n"
          ],
          "name": "stdout"
        }
      ]
    },
    {
      "cell_type": "markdown",
      "metadata": {
        "id": "so2QrqPmzf1_"
      },
      "source": [
        "# List Comprehensions"
      ]
    },
    {
      "cell_type": "markdown",
      "metadata": {
        "id": "4IsVsP0Azitl"
      },
      "source": [
        "### Freqüentemente, você quer transformar uma lista em outra lista, escolhendo apenas determinados elementos, ou transformando elementos, ou ambos. A maneira Pythonic de fazer isso é com List Comprehensions:\r\n"
      ]
    },
    {
      "cell_type": "code",
      "metadata": {
        "colab": {
          "base_uri": "https://localhost:8080/"
        },
        "id": "Omd3BP3jzmF8",
        "outputId": "e2e6963c-d025-4ca5-8707-fd3b6c2c3727"
      },
      "source": [
        "even_numbers = [x for x in range(5) if x % 2 == 0] # [0, 2, 4]\r\n",
        "print(even_numbers)\r\n"
      ],
      "execution_count": 101,
      "outputs": [
        {
          "output_type": "stream",
          "text": [
            "[0, 2, 4]\n"
          ],
          "name": "stdout"
        }
      ]
    },
    {
      "cell_type": "code",
      "metadata": {
        "colab": {
          "base_uri": "https://localhost:8080/"
        },
        "id": "TSK2oZ_lzpLc",
        "outputId": "71be53f4-51e4-4440-e45f-89a0aa675140"
      },
      "source": [
        "squares = [x * x for x in range(5)] # [0, 1, 4, 9, 16]\r\n",
        "print(squares)"
      ],
      "execution_count": 102,
      "outputs": [
        {
          "output_type": "stream",
          "text": [
            "[0, 1, 4, 9, 16]\n"
          ],
          "name": "stdout"
        }
      ]
    },
    {
      "cell_type": "code",
      "metadata": {
        "colab": {
          "base_uri": "https://localhost:8080/"
        },
        "id": "zDsR6eJmzrIM",
        "outputId": "18487930-81a5-4ef0-e352-587864379d85"
      },
      "source": [
        "even_squares = [x * x for x in even_numbers] # [0, 4, 16]\r\n",
        "print(even_squares)\r\n"
      ],
      "execution_count": 103,
      "outputs": [
        {
          "output_type": "stream",
          "text": [
            "[0, 4, 16]\n"
          ],
          "name": "stdout"
        }
      ]
    },
    {
      "cell_type": "markdown",
      "metadata": {
        "id": "x0ZY9SLJztuL"
      },
      "source": [
        "### Similarmente você pode transformar listas em dicionários ou sets"
      ]
    },
    {
      "cell_type": "code",
      "metadata": {
        "colab": {
          "base_uri": "https://localhost:8080/"
        },
        "id": "1K-DRU8Pzv9s",
        "outputId": "ed65aa29-8b9f-4e79-a826-3c61f9b8ea4b"
      },
      "source": [
        "square_dict = { x : x * x for x in range(5) } # { 0:0, 1:1, 2:4, 3:9, 4: 16 }\r\n",
        "print(square_dict)"
      ],
      "execution_count": 104,
      "outputs": [
        {
          "output_type": "stream",
          "text": [
            "{0: 0, 1: 1, 2: 4, 3: 9, 4: 16}\n"
          ],
          "name": "stdout"
        }
      ]
    },
    {
      "cell_type": "code",
      "metadata": {
        "colab": {
          "base_uri": "https://localhost:8080/"
        },
        "id": "WVm7yqc8z0Fr",
        "outputId": "e6bb25b7-ea90-4984-c8e1-cede0d21745f"
      },
      "source": [
        "square_set = { x * x for x in [1, -1] } # { 1 }\r\n",
        "print(square_set)\r\n"
      ],
      "execution_count": 105,
      "outputs": [
        {
          "output_type": "stream",
          "text": [
            "{1}\n"
          ],
          "name": "stdout"
        }
      ]
    },
    {
      "cell_type": "markdown",
      "metadata": {
        "id": "zloQ9KR7z1cT"
      },
      "source": [
        "### Se você não precisa do valor da lista, convencionalmente usamos um sublinhado como o variável:"
      ]
    },
    {
      "cell_type": "code",
      "metadata": {
        "colab": {
          "base_uri": "https://localhost:8080/"
        },
        "id": "xuimsQ1Rz4Mk",
        "outputId": "f62ebc3a-bf0f-4d57-81f7-404bd399790f"
      },
      "source": [
        "zeroes = [0 for _ in even_numbers] # has the same length as even_numbers\r\n",
        "print(zeroes)"
      ],
      "execution_count": 106,
      "outputs": [
        {
          "output_type": "stream",
          "text": [
            "[0, 0, 0]\n"
          ],
          "name": "stdout"
        }
      ]
    },
    {
      "cell_type": "markdown",
      "metadata": {
        "id": "2UFha2MFz7oa"
      },
      "source": [
        "### Uma list comprehension pode incluir múltiplos fors:"
      ]
    },
    {
      "cell_type": "code",
      "metadata": {
        "colab": {
          "base_uri": "https://localhost:8080/"
        },
        "id": "ORhBKTCFz_SH",
        "outputId": "941d088d-4061-42de-9c13-151cf08234fe"
      },
      "source": [
        "pairs = [(x, y)\r\n",
        "  for x in range(10)\r\n",
        "  for y in range(10)] # 100 pairs (0,0) (0,1) ... (9,8), (9,9)\r\n",
        "print(pairs)\r\n"
      ],
      "execution_count": 107,
      "outputs": [
        {
          "output_type": "stream",
          "text": [
            "[(0, 0), (0, 1), (0, 2), (0, 3), (0, 4), (0, 5), (0, 6), (0, 7), (0, 8), (0, 9), (1, 0), (1, 1), (1, 2), (1, 3), (1, 4), (1, 5), (1, 6), (1, 7), (1, 8), (1, 9), (2, 0), (2, 1), (2, 2), (2, 3), (2, 4), (2, 5), (2, 6), (2, 7), (2, 8), (2, 9), (3, 0), (3, 1), (3, 2), (3, 3), (3, 4), (3, 5), (3, 6), (3, 7), (3, 8), (3, 9), (4, 0), (4, 1), (4, 2), (4, 3), (4, 4), (4, 5), (4, 6), (4, 7), (4, 8), (4, 9), (5, 0), (5, 1), (5, 2), (5, 3), (5, 4), (5, 5), (5, 6), (5, 7), (5, 8), (5, 9), (6, 0), (6, 1), (6, 2), (6, 3), (6, 4), (6, 5), (6, 6), (6, 7), (6, 8), (6, 9), (7, 0), (7, 1), (7, 2), (7, 3), (7, 4), (7, 5), (7, 6), (7, 7), (7, 8), (7, 9), (8, 0), (8, 1), (8, 2), (8, 3), (8, 4), (8, 5), (8, 6), (8, 7), (8, 8), (8, 9), (9, 0), (9, 1), (9, 2), (9, 3), (9, 4), (9, 5), (9, 6), (9, 7), (9, 8), (9, 9)]\n"
          ],
          "name": "stdout"
        }
      ]
    }
  ]
}