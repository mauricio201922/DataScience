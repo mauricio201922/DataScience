{
  "nbformat": 4,
  "nbformat_minor": 0,
  "metadata": {
    "colab": {
      "name": "AulaOne.ipynb",
      "provenance": [],
      "collapsed_sections": [],
      "authorship_tag": "ABX9TyM/OyFf/5H39SEFhmswynK/",
      "include_colab_link": true
    },
    "kernelspec": {
      "name": "python3",
      "display_name": "Python 3"
    }
  },
  "cells": [
    {
      "cell_type": "markdown",
      "metadata": {
        "id": "view-in-github",
        "colab_type": "text"
      },
      "source": [
        "<a href=\"https://colab.research.google.com/github/mauricio201922/DataScience/blob/main/AulaOne.ipynb\" target=\"_parent\"><img src=\"https://colab.research.google.com/assets/colab-badge.svg\" alt=\"Open In Colab\"/></a>"
      ]
    },
    {
      "cell_type": "markdown",
      "metadata": {
        "id": "2JAL10ZYht5I"
      },
      "source": [
        "# Criando um array de dicionário e uma sequecia de valores de grafos"
      ]
    },
    {
      "cell_type": "code",
      "metadata": {
        "id": "S-NbD9P-h5Qf"
      },
      "source": [
        "users = [\r\n",
        "{ \"id\": 0, \"name\": \"Hero\" },\r\n",
        "{ \"id\": 1, \"name\": \"Dunn\" },\r\n",
        "{ \"id\": 2, \"name\": \"Sue\" },\r\n",
        "{ \"id\": 3, \"name\": \"Chi\" },\r\n",
        "{ \"id\": 4, \"name\": \"Thor\" },\r\n",
        "{ \"id\": 5, \"name\": \"Clive\" },\r\n",
        "{ \"id\": 6, \"name\": \"Hicks\" },\r\n",
        "{ \"id\": 7, \"name\": \"Devin\" },\r\n",
        "{ \"id\": 8, \"name\": \"Kate\" },\r\n",
        "{ \"id\": 9, \"name\": \"Klein\" }\r\n",
        "]"
      ],
      "execution_count": 21,
      "outputs": []
    },
    {
      "cell_type": "code",
      "metadata": {
        "id": "YbDQAKDuiMxv"
      },
      "source": [
        "friendships = [(0, 1), (0, 2), (1, 2), (1, 3), (2, 3), (3, 4),\r\n",
        "(4, 5), (5, 6), (5, 7), (6, 8), (7, 8), (8, 9)]"
      ],
      "execution_count": 22,
      "outputs": []
    },
    {
      "cell_type": "code",
      "metadata": {
        "id": "ANVNk5G7iXUW"
      },
      "source": [
        "for user in users:\r\n",
        " user[\"friends\"] = []"
      ],
      "execution_count": 23,
      "outputs": []
    },
    {
      "cell_type": "code",
      "metadata": {
        "id": "RIF2l3Mrict_"
      },
      "source": [
        "for i, j in friendships:\r\n",
        " users[i][\"friends\"].append(users[j])\r\n",
        " users[j][\"friends\"].append(users[i])"
      ],
      "execution_count": 24,
      "outputs": []
    },
    {
      "cell_type": "code",
      "metadata": {
        "colab": {
          "base_uri": "https://localhost:8080/"
        },
        "id": "c4eNDYlUidvW",
        "outputId": "a4dadd83-8f19-428c-ebc9-b310d0f52b40"
      },
      "source": [
        "sum(len(user[\"friends\"]) for user in users)"
      ],
      "execution_count": 25,
      "outputs": [
        {
          "output_type": "execute_result",
          "data": {
            "text/plain": [
              "24"
            ]
          },
          "metadata": {
            "tags": []
          },
          "execution_count": 25
        }
      ]
    },
    {
      "cell_type": "markdown",
      "metadata": {
        "id": "JVpRmr8zlHFG"
      },
      "source": [
        "# Descobrindo valor medio de amigos conectados"
      ]
    },
    {
      "cell_type": "code",
      "metadata": {
        "id": "1oo55fuGlMs2"
      },
      "source": [
        "def number_of_friends(user):\r\n",
        " return len(user[\"friends\"])"
      ],
      "execution_count": 8,
      "outputs": []
    },
    {
      "cell_type": "code",
      "metadata": {
        "id": "X8ljNQwXlQol"
      },
      "source": [
        "total_connections = sum(number_of_friends(user) for user in users)"
      ],
      "execution_count": 9,
      "outputs": []
    },
    {
      "cell_type": "code",
      "metadata": {
        "colab": {
          "base_uri": "https://localhost:8080/"
        },
        "id": "fRTynxL-lS-l",
        "outputId": "ac6b9788-7db5-488f-9c80-bb37d0d065ba"
      },
      "source": [
        "# Valor medio\r\n",
        "num_users = len(users)\r\n",
        "avg_connections = total_connections / num_users\r\n",
        "avg_connections"
      ],
      "execution_count": 10,
      "outputs": [
        {
          "output_type": "execute_result",
          "data": {
            "text/plain": [
              "2.4"
            ]
          },
          "metadata": {
            "tags": []
          },
          "execution_count": 10
        }
      ]
    },
    {
      "cell_type": "markdown",
      "metadata": {
        "id": "i010gAmBljJ9"
      },
      "source": [
        "# Descobrindo todos que são menos amigos"
      ]
    },
    {
      "cell_type": "code",
      "metadata": {
        "id": "5aqL1-EHokF8"
      },
      "source": [
        "num_friends_by_id = [(user[\"id\"], number_of_friends(user)) for user in users]"
      ],
      "execution_count": 12,
      "outputs": []
    },
    {
      "cell_type": "code",
      "metadata": {
        "colab": {
          "base_uri": "https://localhost:8080/"
        },
        "id": "PST7b-odorLE",
        "outputId": "a94b1577-d9b6-42e9-cf67-f1f7ffffc3e4"
      },
      "source": [
        "num_friends_by_id"
      ],
      "execution_count": 13,
      "outputs": [
        {
          "output_type": "execute_result",
          "data": {
            "text/plain": [
              "[(0, 2),\n",
              " (1, 3),\n",
              " (2, 3),\n",
              " (3, 3),\n",
              " (4, 2),\n",
              " (5, 3),\n",
              " (6, 2),\n",
              " (7, 2),\n",
              " (8, 3),\n",
              " (9, 1)]"
            ]
          },
          "metadata": {
            "tags": []
          },
          "execution_count": 13
        }
      ]
    },
    {
      "cell_type": "code",
      "metadata": {
        "colab": {
          "base_uri": "https://localhost:8080/"
        },
        "id": "ljq-xx8botEk",
        "outputId": "593580ec-7831-4c8e-aaeb-168555b7f53a"
      },
      "source": [
        "sorted(num_friends_by_id, key=lambda x: x[1], reverse=True)\r\n",
        "# cada par é (user_id, num_friends)\r\n",
        "# [(1, 3), (2, 3), (3, 3), (5, 3), (8, 3),\r\n",
        "# (0, 2), (4, 2), (6, 2), (7, 2), (9, 1)]"
      ],
      "execution_count": 14,
      "outputs": [
        {
          "output_type": "execute_result",
          "data": {
            "text/plain": [
              "[(1, 3),\n",
              " (2, 3),\n",
              " (3, 3),\n",
              " (5, 3),\n",
              " (8, 3),\n",
              " (0, 2),\n",
              " (4, 2),\n",
              " (6, 2),\n",
              " (7, 2),\n",
              " (9, 1)]"
            ]
          },
          "metadata": {
            "tags": []
          },
          "execution_count": 14
        }
      ]
    },
    {
      "cell_type": "markdown",
      "metadata": {
        "id": "n5v933MRvoCi"
      },
      "source": [
        "#Job 2: Cientistas de Dados que talvez você conheça!\r\n"
      ]
    },
    {
      "cell_type": "code",
      "metadata": {
        "id": "kjv4267kvpIX"
      },
      "source": [
        "def friends_of_friend_ids_bad(user):\r\n",
        " # \"foaf\" is short for \"friend of a friend\"\r\n",
        " return [foaf[\"id\"]\r\n",
        " for friend in user[\"friends\"] # for each of user's friends\r\n",
        " for foaf in friend[\"friends\"]] # get each of _their_ friends"
      ],
      "execution_count": 28,
      "outputs": []
    },
    {
      "cell_type": "code",
      "metadata": {
        "colab": {
          "base_uri": "https://localhost:8080/"
        },
        "id": "mO3gCyRPvw94",
        "outputId": "4fc89b6e-f427-4882-b8da-8adff6fce54c"
      },
      "source": [
        "users[5][\"friends\"]"
      ],
      "execution_count": 29,
      "outputs": [
        {
          "output_type": "execute_result",
          "data": {
            "text/plain": [
              "[{'friends': [{'friends': [{'friends': [{'friends': [{...},\n",
              "         {'friends': [{...}, {...}, {...}], 'id': 2, 'name': 'Sue'}],\n",
              "        'id': 0,\n",
              "        'name': 'Hero'},\n",
              "       {'friends': [{'friends': [{...}, {...}], 'id': 0, 'name': 'Hero'},\n",
              "         {...},\n",
              "         {...}],\n",
              "        'id': 2,\n",
              "        'name': 'Sue'},\n",
              "       {...}],\n",
              "      'id': 1,\n",
              "      'name': 'Dunn'},\n",
              "     {'friends': [{'friends': [{'friends': [{...}, {...}, {...}],\n",
              "          'id': 1,\n",
              "          'name': 'Dunn'},\n",
              "         {...}],\n",
              "        'id': 0,\n",
              "        'name': 'Hero'},\n",
              "       {'friends': [{'friends': [{...}, {...}], 'id': 0, 'name': 'Hero'},\n",
              "         {...},\n",
              "         {...}],\n",
              "        'id': 1,\n",
              "        'name': 'Dunn'},\n",
              "       {...}],\n",
              "      'id': 2,\n",
              "      'name': 'Sue'},\n",
              "     {...}],\n",
              "    'id': 3,\n",
              "    'name': 'Chi'},\n",
              "   {'friends': [...], 'id': 5, 'name': 'Clive'}],\n",
              "  'id': 4,\n",
              "  'name': 'Thor'},\n",
              " {'friends': [{'friends': [...], 'id': 5, 'name': 'Clive'},\n",
              "   {'friends': [{...},\n",
              "     {'friends': [{'friends': [...], 'id': 5, 'name': 'Clive'}, {...}],\n",
              "      'id': 7,\n",
              "      'name': 'Devin'},\n",
              "     {'friends': [{...}], 'id': 9, 'name': 'Klein'}],\n",
              "    'id': 8,\n",
              "    'name': 'Kate'}],\n",
              "  'id': 6,\n",
              "  'name': 'Hicks'},\n",
              " {'friends': [{'friends': [...], 'id': 5, 'name': 'Clive'},\n",
              "   {'friends': [{'friends': [{'friends': [...], 'id': 5, 'name': 'Clive'},\n",
              "       {...}],\n",
              "      'id': 6,\n",
              "      'name': 'Hicks'},\n",
              "     {...},\n",
              "     {'friends': [{...}], 'id': 9, 'name': 'Klein'}],\n",
              "    'id': 8,\n",
              "    'name': 'Kate'}],\n",
              "  'id': 7,\n",
              "  'name': 'Devin'}]"
            ]
          },
          "metadata": {
            "tags": []
          },
          "execution_count": 29
        }
      ]
    },
    {
      "cell_type": "code",
      "metadata": {
        "colab": {
          "base_uri": "https://localhost:8080/"
        },
        "id": "4TZ-WnOCwCOu",
        "outputId": "f1930a20-e8dc-4833-e9d8-290b868dc17a"
      },
      "source": [
        "friends_of_friend_ids_bad(users[0])\r\n"
      ],
      "execution_count": 30,
      "outputs": [
        {
          "output_type": "execute_result",
          "data": {
            "text/plain": [
              "[0, 2, 3, 0, 1, 3]"
            ]
          },
          "metadata": {
            "tags": []
          },
          "execution_count": 30
        }
      ]
    },
    {
      "cell_type": "markdown",
      "metadata": {
        "id": "NY0QA9v-wKvW"
      },
      "source": [
        "# Excluindo pessoas que são conhecidas"
      ]
    },
    {
      "cell_type": "code",
      "metadata": {
        "id": "tO-aMr04wPUf"
      },
      "source": [
        "from collections import Counter"
      ],
      "execution_count": 31,
      "outputs": []
    },
    {
      "cell_type": "code",
      "metadata": {
        "id": "cF_I4yQcwSaf"
      },
      "source": [
        "def not_the_same(user, other_user):\r\n",
        " \"\"\"dois usuários não são os mesmos se possuem ids diferentes\"\"\"\r\n",
        " return user[\"id\"] != other_user[\"id\"]"
      ],
      "execution_count": 32,
      "outputs": []
    },
    {
      "cell_type": "code",
      "metadata": {
        "id": "c4nQx1QIwZXu"
      },
      "source": [
        "def not_friends(user, other_user):\r\n",
        " \"\"\"other_user não é um amigo se não está em user[“friends”];\r\n",
        " isso é, se é not_the_same com todas as pessoas em user[“friends”]\"\"\"\r\n",
        " return all(not_the_same(friend, other_user) for friend in user[\"friends\"])"
      ],
      "execution_count": 33,
      "outputs": []
    },
    {
      "cell_type": "code",
      "metadata": {
        "id": "oRc30cjjw9jN"
      },
      "source": [
        "from collections import Counter\r\n",
        "def friends_of_friend_ids(user):\r\n",
        " return Counter(foaf[\"id\"]\r\n",
        " for friend in user[\"friends\"] # para cada um dos meus amigos\r\n",
        " for foaf in friend[\"friends\"] # para cada amigo de um dos meus amigo\r\n",
        " if not_the_same(user, foaf) # que não sejam eu\r\n",
        " and not_friends(user, foaf)) # e que não são meus amigos"
      ],
      "execution_count": 34,
      "outputs": []
    },
    {
      "cell_type": "code",
      "metadata": {
        "colab": {
          "base_uri": "https://localhost:8080/"
        },
        "id": "sUd2gG2MxDrc",
        "outputId": "fbb477dc-cf69-4be0-a061-b134d95c39a9"
      },
      "source": [
        "friends_of_friend_ids(users[0])"
      ],
      "execution_count": 35,
      "outputs": [
        {
          "output_type": "execute_result",
          "data": {
            "text/plain": [
              "Counter({3: 2})"
            ]
          },
          "metadata": {
            "tags": []
          },
          "execution_count": 35
        }
      ]
    },
    {
      "cell_type": "code",
      "metadata": {
        "colab": {
          "base_uri": "https://localhost:8080/"
        },
        "id": "XX0-_9KPxH20",
        "outputId": "9c26d19e-810f-4349-e713-3ad5455d5b24"
      },
      "source": [
        "print(friends_of_friend_ids(users[3]))"
      ],
      "execution_count": 36,
      "outputs": [
        {
          "output_type": "stream",
          "text": [
            "Counter({0: 2, 5: 1})\n"
          ],
          "name": "stdout"
        }
      ]
    },
    {
      "cell_type": "markdown",
      "metadata": {
        "id": "xHy0C6CjxKbU"
      },
      "source": [
        "# Job 3: Interesses em comum"
      ]
    },
    {
      "cell_type": "code",
      "metadata": {
        "id": "q-6911ARxMMM"
      },
      "source": [
        "interests = [\r\n",
        "(0, \"Hadoop\"), (0, \"Big Data\"), (0, \"HBase\"), (0, \"Java\"),\r\n",
        "(0, \"Spark\"), (0, \"Storm\"), (0, \"Cassandra\"),\r\n",
        "(1, \"NoSQL\"), (1, \"MongoDB\"), (1, \"Cassandra\"), (1, \"HBase\"),\r\n",
        "(1, \"Postgres\"), (2, \"Python\"), (2, \"scikit-learn\"), (2, \"scipy\"),\r\n",
        "(2, \"numpy\"), (2, \"statsmodels\"), (2, \"pandas\"), (3, \"R\"), (3, \"Python\"),\r\n",
        "(3, \"statistics\"), (3, \"regression\"), (3, \"probability\"),\r\n",
        "(4, \"machine learning\"), (4, \"regression\"), (4, \"decision trees\"),\r\n",
        "(4, \"libsvm\"), (5, \"Python\"), (5, \"R\"), (5, \"Java\"), (5, \"C++\"),\r\n",
        "(5, \"Haskell\"), (5, \"programming languages\"), (6, \"statistics\"),\r\n",
        "(6, \"probability\"), (6, \"mathematics\"), (6, \"theory\"),\r\n",
        "(7, \"machine learning\"), (7, \"scikit-learn\"), (7, \"Mahout\"),\r\n",
        "(7, \"neural networks\"), (8, \"neural networks\"), (8, \"deep learning\"),\r\n",
        "(8, \"Big Data\"), (8, \"artificial intelligence\"), (9, \"Hadoop\"),\r\n",
        "(9, \"Java\"), (9, \"MapReduce\"), (9, \"Big Data\")\r\n",
        "]"
      ],
      "execution_count": 37,
      "outputs": []
    },
    {
      "cell_type": "code",
      "metadata": {
        "id": "ciuZQSK7xQRl"
      },
      "source": [
        "def data_scientists_who_like(target_interest):\r\n",
        " return [user_id\r\n",
        " for user_id, user_interest in interests\r\n",
        " if user_interest == target_interest]"
      ],
      "execution_count": 38,
      "outputs": []
    },
    {
      "cell_type": "code",
      "metadata": {
        "id": "LW_wS-AyxUk8"
      },
      "source": [
        "from collections import defaultdict"
      ],
      "execution_count": 39,
      "outputs": []
    },
    {
      "cell_type": "code",
      "metadata": {
        "id": "NBTCdGfGxXNj"
      },
      "source": [
        "# as chaves são interesses, os valores são listas de user_ids com interests\r\n",
        "user_ids_by_interest = defaultdict(list)\r\n",
        "for user_id, interest in interests:\r\n",
        " user_ids_by_interest[interest].append(user_id)\r\n"
      ],
      "execution_count": 40,
      "outputs": []
    },
    {
      "cell_type": "code",
      "metadata": {
        "id": "HECdWVFXxYRs"
      },
      "source": [
        "# as chaves são user_ids, os valores são as listas de interests para aquele\r\n",
        "interests_by_user_id = defaultdict(list)\r\n",
        "for user_id, interest in interests:\r\n",
        " interests_by_user_id[user_id].append(interest)\r\n"
      ],
      "execution_count": 41,
      "outputs": []
    },
    {
      "cell_type": "code",
      "metadata": {
        "id": "nMmrjUfHxaZ7"
      },
      "source": [
        "def most_common_interests_with(user):\r\n",
        " return Counter(interested_user_id\r\n",
        " for interest in interests_by_user_id[user[\"id\"]]\r\n",
        " for interested_user_id in user_ids_by_interest[interest]\r\n",
        " if interested_user_id != user[\"id\"])"
      ],
      "execution_count": 43,
      "outputs": []
    },
    {
      "cell_type": "code",
      "metadata": {
        "colab": {
          "base_uri": "https://localhost:8080/"
        },
        "id": "50jgs-j5xgWD",
        "outputId": "f9e533d1-7c3f-4eae-eaf1-bdf5997b2a5f"
      },
      "source": [
        "'''print(interests_by_user_id)'''\r\n",
        "print(most_common_interests_with(users[0]))\r\n"
      ],
      "execution_count": 44,
      "outputs": [
        {
          "output_type": "stream",
          "text": [
            "Counter({9: 3, 1: 2, 8: 1, 5: 1})\n"
          ],
          "name": "stdout"
        }
      ]
    },
    {
      "cell_type": "markdown",
      "metadata": {
        "id": "Hs_PCJ_6xi0l"
      },
      "source": [
        "# Job 4: Salários e Experiência"
      ]
    },
    {
      "cell_type": "code",
      "metadata": {
        "id": "Om1vVMEGxkZ9"
      },
      "source": [
        "salaries_and_tenures = [(83000, 8.7), (88000, 8.1),\r\n",
        " (48000, 0.7), (76000, 6),\r\n",
        " (69000, 6.5), (76000, 7.5),\r\n",
        " (60000, 2.5), (83000, 10),\r\n",
        " (48000, 1.9), (63000, 4.2)]"
      ],
      "execution_count": 45,
      "outputs": []
    },
    {
      "cell_type": "code",
      "metadata": {
        "id": "iEpH3Crpxmot"
      },
      "source": [
        "# as chaves são os anos, os valores são as listas dos salários para cada ano\r\n",
        "salary_by_tenure = defaultdict(list)\r\n",
        "for salary, tenure in salaries_and_tenures:\r\n",
        " salary_by_tenure[tenure].append(salary)\r\n",
        "# as chaves são os anos, cada valor é a média salarial para aquele ano\r\n",
        "average_salary_by_tenure = {\r\n",
        " tenure : sum(salaries) / len(salaries)\r\n",
        " for tenure, salaries in salary_by_tenure.items()\r\n",
        "}"
      ],
      "execution_count": 46,
      "outputs": []
    },
    {
      "cell_type": "code",
      "metadata": {
        "colab": {
          "base_uri": "https://localhost:8080/"
        },
        "id": "flGUATYFxxP6",
        "outputId": "5fd430a9-348f-413a-d709-e4e1ef071924"
      },
      "source": [
        "{0.7: 48000.0,\r\n",
        "1.9: 48000.0,\r\n",
        "2.5: 60000.0,\r\n",
        "4.2: 63000.0,\r\n",
        "6: 76000.0,\r\n",
        "6.5: 69000.0,\r\n",
        "7.5: 76000.0,\r\n",
        "8.1: 88000.0,\r\n",
        "8.7: 83000.0,\r\n",
        "10: 83000.0}\r\n"
      ],
      "execution_count": 47,
      "outputs": [
        {
          "output_type": "execute_result",
          "data": {
            "text/plain": [
              "{0.7: 48000.0,\n",
              " 1.9: 48000.0,\n",
              " 2.5: 60000.0,\n",
              " 4.2: 63000.0,\n",
              " 6: 76000.0,\n",
              " 6.5: 69000.0,\n",
              " 7.5: 76000.0,\n",
              " 8.1: 88000.0,\n",
              " 8.7: 83000.0,\n",
              " 10: 83000.0}"
            ]
          },
          "metadata": {
            "tags": []
          },
          "execution_count": 47
        }
      ]
    },
    {
      "cell_type": "code",
      "metadata": {
        "id": "3mRCOT0ExzwD"
      },
      "source": [
        "def tenure_bucket(tenure):\r\n",
        " if tenure < 2:\r\n",
        "  return \"less than two\"\r\n",
        " elif tenure < 5:\r\n",
        "  return \"between two and five\"\r\n",
        " else:\r\n",
        "  return \"more than five\""
      ],
      "execution_count": 49,
      "outputs": []
    },
    {
      "cell_type": "code",
      "metadata": {
        "id": "cwR0EGsBx4u9"
      },
      "source": [
        "# as chaves são agrupamentos dos casos, os valores são as listas\r\n",
        "# dos salários para aquele agrupamento\r\n",
        "salary_by_tenure_bucket = defaultdict(list)\r\n",
        "for salary, tenure in salaries_and_tenures:\r\n",
        " bucket = tenure_bucket(tenure)\r\n",
        " salary_by_tenure_bucket[bucket].append(salary)"
      ],
      "execution_count": 50,
      "outputs": []
    },
    {
      "cell_type": "code",
      "metadata": {
        "id": "otVWhKQpx6uz"
      },
      "source": [
        "# as chaves são agrupamentos dos casos, os valores são\r\n",
        "# a média salarial para aquele agrupamento\r\n",
        "average_salary_by_bucket = {\r\n",
        " tenure_bucket : sum(salaries) / len(salaries)\r\n",
        " for tenure_bucket, salaries in salary_by_tenure_bucket.items()\r\n",
        "}\r\n"
      ],
      "execution_count": 51,
      "outputs": []
    },
    {
      "cell_type": "code",
      "metadata": {
        "colab": {
          "base_uri": "https://localhost:8080/"
        },
        "id": "ZE5AHU3Vx8ij",
        "outputId": "33676065-c0c5-41cb-a5e2-ac2bfa905cc1"
      },
      "source": [
        "average_salary_by_bucket\r\n"
      ],
      "execution_count": 52,
      "outputs": [
        {
          "output_type": "execute_result",
          "data": {
            "text/plain": [
              "{'between two and five': 61500.0,\n",
              " 'less than two': 48000.0,\n",
              " 'more than five': 79166.66666666667}"
            ]
          },
          "metadata": {
            "tags": []
          },
          "execution_count": 52
        }
      ]
    },
    {
      "cell_type": "markdown",
      "metadata": {
        "id": "F8QA4iiXyXix"
      },
      "source": [
        "# Job 5: Contas Premium (pagas)\r\n"
      ]
    },
    {
      "cell_type": "code",
      "metadata": {
        "colab": {
          "base_uri": "https://localhost:8080/"
        },
        "id": "n__uUmfpyYqT",
        "outputId": "b3759225-8bca-4430-a963-a064fc37b558"
      },
      "source": [
        "{0.7, \"paid\",\r\n",
        "1.9, \"unpaid\",\r\n",
        "2.5, \"paid\",\r\n",
        "4.2, \"unpaid\",\r\n",
        "6, \"unpaid\",\r\n",
        "6.5, \"unpaid\",\r\n",
        "7.5, \"unpaid\",\r\n",
        "8.1, \"unpaid\",\r\n",
        "8.7, \"paid\",\r\n",
        "10, \"paid\"}"
      ],
      "execution_count": 57,
      "outputs": [
        {
          "output_type": "execute_result",
          "data": {
            "text/plain": [
              "{0.7, 1.9, 10, 2.5, 4.2, 6, 6.5, 7.5, 8.1, 8.7, 'paid', 'unpaid'}"
            ]
          },
          "metadata": {
            "tags": []
          },
          "execution_count": 57
        }
      ]
    },
    {
      "cell_type": "code",
      "metadata": {
        "id": "jdpfyGCFy6OS"
      },
      "source": [
        "def predict_paid_or_unpaid(years_experience):\r\n",
        " if years_experience < 3.0:\r\n",
        "  return \"paid\"\r\n",
        " elif years_experience < 8.5:\r\n",
        "  return \"unpaid\"\r\n",
        " else:\r\n",
        "  return \"paid\"\r\n"
      ],
      "execution_count": 58,
      "outputs": []
    },
    {
      "cell_type": "markdown",
      "metadata": {
        "id": "9Xx7W4Hpy_Zn"
      },
      "source": [
        "# Job 6: Tópicos de Interesse\r\n"
      ]
    },
    {
      "cell_type": "code",
      "metadata": {
        "id": "Q2CkAFB6zAdo"
      },
      "source": [
        "words_and_counts = Counter(word\r\n",
        " for user, interest in interests\r\n",
        " for word in interest.lower().split())"
      ],
      "execution_count": 59,
      "outputs": []
    },
    {
      "cell_type": "code",
      "metadata": {
        "colab": {
          "base_uri": "https://localhost:8080/"
        },
        "id": "3_U8Or6KzChf",
        "outputId": "cd126c11-718e-40cb-9151-635338375617"
      },
      "source": [
        "for word, count in words_and_counts.most_common():\r\n",
        " if count > 1:\r\n",
        "  print (word, count)\r\n"
      ],
      "execution_count": 60,
      "outputs": [
        {
          "output_type": "stream",
          "text": [
            "big 3\n",
            "data 3\n",
            "java 3\n",
            "python 3\n",
            "learning 3\n",
            "hadoop 2\n",
            "hbase 2\n",
            "cassandra 2\n",
            "scikit-learn 2\n",
            "r 2\n",
            "statistics 2\n",
            "regression 2\n",
            "probability 2\n",
            "machine 2\n",
            "neural 2\n",
            "networks 2\n"
          ],
          "name": "stdout"
        }
      ]
    },
    {
      "cell_type": "code",
      "metadata": {
        "colab": {
          "base_uri": "https://localhost:8080/"
        },
        "id": "mJX451iEzIOX",
        "outputId": "d785f173-0ca8-4702-f5fe-6779829aeebf"
      },
      "source": [
        "c = Counter(['a', 'a', 'a', 'a', 'b', 'b'])\r\n",
        "c"
      ],
      "execution_count": 61,
      "outputs": [
        {
          "output_type": "execute_result",
          "data": {
            "text/plain": [
              "Counter({'a': 4, 'b': 2})"
            ]
          },
          "metadata": {
            "tags": []
          },
          "execution_count": 61
        }
      ]
    },
    {
      "cell_type": "code",
      "metadata": {
        "colab": {
          "base_uri": "https://localhost:8080/"
        },
        "id": "Tsgc9mE9zLM_",
        "outputId": "14689235-a239-4ddf-fbd5-3d9516eadb1a"
      },
      "source": [
        "teste = friends_of_friend_ids(users[3])\r\n",
        "teste"
      ],
      "execution_count": 62,
      "outputs": [
        {
          "output_type": "execute_result",
          "data": {
            "text/plain": [
              "Counter({0: 2, 5: 1})"
            ]
          },
          "metadata": {
            "tags": []
          },
          "execution_count": 62
        }
      ]
    }
  ]
}